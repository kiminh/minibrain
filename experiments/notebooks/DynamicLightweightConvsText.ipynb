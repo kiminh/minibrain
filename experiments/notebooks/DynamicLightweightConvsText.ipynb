{
 "cells": [
  {
   "cell_type": "markdown",
   "metadata": {},
   "source": [
    "# Dynamic Lightweight Convolutions tests\n",
    "\n",
    "And other things like Large Memory with Product Keys and such\n"
   ]
  },
  {
   "cell_type": "code",
   "execution_count": 1,
   "metadata": {},
   "outputs": [],
   "source": [
    "import torch\n",
    "import torch.nn as nn\n",
    "\n",
    "import fairseq\n",
    "import fairseq.models"
   ]
  },
  {
   "cell_type": "code",
   "execution_count": 2,
   "metadata": {},
   "outputs": [],
   "source": [
    "from fairseq.models import lightconv_lm"
   ]
  },
  {
   "cell_type": "code",
   "execution_count": 3,
   "metadata": {},
   "outputs": [
    {
     "data": {
      "text/plain": [
       "\u001b[0;31mInit signature:\u001b[0m \u001b[0mlightconv_lm\u001b[0m\u001b[0;34m.\u001b[0m\u001b[0mFairseqLanguageModel\u001b[0m\u001b[0;34m(\u001b[0m\u001b[0mdecoder\u001b[0m\u001b[0;34m)\u001b[0m\u001b[0;34m\u001b[0m\u001b[0;34m\u001b[0m\u001b[0m\n",
       "\u001b[0;31mDocstring:\u001b[0m     \n",
       "Base class for decoder-only models.\n",
       "\n",
       "Args:\n",
       "    decoder (FairseqDecoder): the decoder\n",
       "\u001b[0;31mInit docstring:\u001b[0m Initializes internal Module state, shared by both nn.Module and ScriptModule.\n",
       "\u001b[0;31mFile:\u001b[0m           ~/venv3/lib/python3.7/site-packages/fairseq/models/fairseq_model.py\n",
       "\u001b[0;31mType:\u001b[0m           type\n",
       "\u001b[0;31mSubclasses:\u001b[0m     RobertaModel, LightConvLanguageModel, TransformerLanguageModel, FConvLanguageModel\n"
      ]
     },
     "metadata": {},
     "output_type": "display_data"
    }
   ],
   "source": [
    "lm = lightconv_lm.FairseqLanguageModel?"
   ]
  },
  {
   "cell_type": "code",
   "execution_count": null,
   "metadata": {},
   "outputs": [],
   "source": [
    "lm = lightconv_lm.FairseqLanguageModel"
   ]
  },
  {
   "cell_type": "code",
   "execution_count": 4,
   "metadata": {},
   "outputs": [],
   "source": [
    "lm = lightconv_lm.FairseqLanguageModel"
   ]
  },
  {
   "cell_type": "code",
   "execution_count": 5,
   "metadata": {},
   "outputs": [],
   "source": [
    "lm = lightconv_lm.FairseqLanguageModel"
   ]
  },
  {
   "cell_type": "markdown",
   "metadata": {},
   "source": [
    "### test of outer product of sets (all combinations)\n",
    "\n",
    "[source](https://discuss.pytorch.org/t/how-to-create-a-combination-of-concatenations-with-two-tensors/28709)"
   ]
  },
  {
   "cell_type": "code",
   "execution_count": 6,
   "metadata": {},
   "outputs": [],
   "source": [
    "X = torch.tensor([ [1,2,3], [4,5,6] ])\n",
    "Y = torch.tensor([ [7, 8], [9, 10] ] )"
   ]
  },
  {
   "cell_type": "code",
   "execution_count": 7,
   "metadata": {},
   "outputs": [
    {
     "name": "stdout",
     "output_type": "stream",
     "text": [
      "torch.Size([2, 3]) torch.Size([2, 2])\n"
     ]
    }
   ],
   "source": [
    "print(X.shape,Y.shape)"
   ]
  },
  {
   "cell_type": "code",
   "execution_count": 8,
   "metadata": {},
   "outputs": [
    {
     "data": {
      "text/plain": [
       "2"
      ]
     },
     "execution_count": 8,
     "metadata": {},
     "output_type": "execute_result"
    }
   ],
   "source": [
    "len(X.shape)"
   ]
  },
  {
   "cell_type": "code",
   "execution_count": 9,
   "metadata": {},
   "outputs": [
    {
     "name": "stdout",
     "output_type": "stream",
     "text": [
      "torch.Size([1, 2, 3]) torch.Size([2, 1, 2])\n"
     ]
    }
   ],
   "source": [
    "X1 = X.unsqueeze(0)\n",
    "Y1=Y.unsqueeze(1)\n",
    "print(X1.shape,Y1.shape)"
   ]
  },
  {
   "cell_type": "code",
   "execution_count": 10,
   "metadata": {},
   "outputs": [
    {
     "name": "stdout",
     "output_type": "stream",
     "text": [
      "torch.Size([2, 2, 3]) torch.Size([2, 2, 3])\n"
     ]
    }
   ],
   "source": [
    "X2 = X1.repeat(Y.shape[0],1,1)\n",
    "Y2 = Y1.repeat(1,X.shape[0],1)\n",
    "print(X2.shape,X2.shape)"
   ]
  },
  {
   "cell_type": "code",
   "execution_count": 11,
   "metadata": {},
   "outputs": [
    {
     "name": "stdout",
     "output_type": "stream",
     "text": [
      "torch.Size([2, 2, 5])\n",
      "torch.Size([4, 5])\n"
     ]
    }
   ],
   "source": [
    "Z = torch.cat([X2,Y2],-1)\n",
    "print(Z.shape)\n",
    "Z = Z.view(-1,Z.shape[-1])\n",
    "print(Z.shape)"
   ]
  },
  {
   "cell_type": "code",
   "execution_count": 12,
   "metadata": {},
   "outputs": [
    {
     "data": {
      "text/plain": [
       "tensor([[[1, 2, 3],\n",
       "         [4, 5, 6]],\n",
       "\n",
       "        [[1, 2, 3],\n",
       "         [4, 5, 6]]])"
      ]
     },
     "execution_count": 12,
     "metadata": {},
     "output_type": "execute_result"
    }
   ],
   "source": [
    "X2"
   ]
  },
  {
   "cell_type": "code",
   "execution_count": 13,
   "metadata": {},
   "outputs": [
    {
     "data": {
      "text/plain": [
       "tensor([[[ 7,  8],\n",
       "         [ 7,  8]],\n",
       "\n",
       "        [[ 9, 10],\n",
       "         [ 9, 10]]])"
      ]
     },
     "execution_count": 13,
     "metadata": {},
     "output_type": "execute_result"
    }
   ],
   "source": [
    "Y2"
   ]
  },
  {
   "cell_type": "code",
   "execution_count": 14,
   "metadata": {},
   "outputs": [
    {
     "data": {
      "text/plain": [
       "tensor([[ 1,  2,  3,  7,  8],\n",
       "        [ 4,  5,  6,  7,  8],\n",
       "        [ 1,  2,  3,  9, 10],\n",
       "        [ 4,  5,  6,  9, 10]])"
      ]
     },
     "execution_count": 14,
     "metadata": {},
     "output_type": "execute_result"
    }
   ],
   "source": [
    "Z"
   ]
  },
  {
   "cell_type": "markdown",
   "metadata": {},
   "source": [
    "### END test of product key set with pytorch"
   ]
  },
  {
   "cell_type": "code",
   "execution_count": 15,
   "metadata": {},
   "outputs": [],
   "source": [
    "a = list(range(10))"
   ]
  },
  {
   "cell_type": "code",
   "execution_count": 16,
   "metadata": {},
   "outputs": [],
   "source": [
    "a[3] = 7\n"
   ]
  },
  {
   "cell_type": "code",
   "execution_count": 17,
   "metadata": {},
   "outputs": [
    {
     "data": {
      "text/plain": [
       "[0, 1, 2, 7, 4, 5, 6, 7, 8, 9]"
      ]
     },
     "execution_count": 17,
     "metadata": {},
     "output_type": "execute_result"
    }
   ],
   "source": [
    "a"
   ]
  },
  {
   "cell_type": "code",
   "execution_count": 90,
   "metadata": {},
   "outputs": [],
   "source": [
    "# def product_key_set(c1,c2,dim1=-2, dim2=-1):\n",
    "def product_key_set(c1,c2):\n",
    "    \"\"\"\n",
    "    Creates the product key set of two tensors as in https://arxiv.org/abs/1907.05242\n",
    "    The result is the outer product with respect to the vector concatenation operator of 2 codebooks c1 and c2\n",
    "    Ideas come from discussion here:\n",
    "    https://discuss.pytorch.org/t/how-to-create-a-combination-of-concatenations-with-two-tensors/28709/2\n",
    "    ONLY works on the last 2 dimensions of the codebooks, both codebooks must be the same size\n",
    "    \n",
    "    :param c1: first codebook set where dim = N\n",
    "    :param c2: second codebook set where dim = M\n",
    "    :return : new tensor dimension NxM (all the other dimensions stay the same)\n",
    "    \"\"\"\n",
    "    #:param dim1: dimension over which the operation must take place\n",
    "    #:param dim2: dimension over which the operation must take place\n",
    "    dim1,dim2=-2,-1  # I fix them to avoid issues\n",
    "    # dim2 = dim1+1\n",
    "    assert c1.dim() == c2.dim()\n",
    "#     assert len(c1.shape) > dim1 >= -len(c1.shape) \n",
    "#     assert len(c2.shape) > dim2 >= -len(c2.shape) \n",
    "#     assert abs(abs(dim1)-abs(dim2)) == 1\n",
    "#     print(abs( abs(dim1)-abs(dim2)))\n",
    "    #add the new dimension where cat will work\n",
    "    \n",
    "#     print(c1.shape,c2.shape)\n",
    "    X1 = c1.unsqueeze(dim1)\n",
    "    Y1 = c2.unsqueeze(dim2)\n",
    "#     print(X1.shape,Y1.shape)\n",
    "    #setting dimension to work on\n",
    "    s1 = [1]*X1.dim()\n",
    "    s1[dim1]=c1.shape[dim1]\n",
    "    s2 = [1]*Y1.dim()\n",
    "    s2[dim2]=c2.shape[dim1]\n",
    "#     print(s1,s2)\n",
    "    X2 = X1.repeat(*s1)\n",
    "    Y2 = Y1.repeat(*s2)\n",
    "#     print(X1.shape,X2.shape)\n",
    "    s3 = list(c1.shape)  # [-1] * c1.dim()\n",
    "    s3[dim2] = c1.shape[dim2] + c2.shape[dim2]  # == Z.shape[dim2]  # ==\n",
    "    s3[dim1] = c1.shape[dim1] + c2.shape[dim1]\n",
    "    if len(s3)>2:\n",
    "        s3[dim1-1] = -1\n",
    "#     print(s3)\n",
    "    Z = torch.cat([X2,Y2],dim2)\n",
    "#     print(Z.shape)\n",
    "#     Z = Z.reshape(-1,Z.shape[-1])  #here an error\n",
    "    Z = Z.reshape(*s3)\n",
    "#     print(Z.shape)\n",
    "    return Z\n",
    "\n",
    "    "
   ]
  },
  {
   "cell_type": "code",
   "execution_count": 91,
   "metadata": {},
   "outputs": [
    {
     "data": {
      "text/plain": [
       "2"
      ]
     },
     "execution_count": 91,
     "metadata": {},
     "output_type": "execute_result"
    }
   ],
   "source": [
    "X.dim()"
   ]
  },
  {
   "cell_type": "code",
   "execution_count": 92,
   "metadata": {},
   "outputs": [
    {
     "data": {
      "text/plain": [
       "tensor([[ 1,  2,  3,  7,  7],\n",
       "        [ 1,  2,  3,  8,  8],\n",
       "        [ 4,  5,  6,  9,  9],\n",
       "        [ 4,  5,  6, 10, 10]])"
      ]
     },
     "execution_count": 92,
     "metadata": {},
     "output_type": "execute_result"
    }
   ],
   "source": [
    "product_key_set(X,Y)"
   ]
  },
  {
   "cell_type": "code",
   "execution_count": 93,
   "metadata": {},
   "outputs": [],
   "source": [
    "x = torch.tensor([[[ [1,2,3], [4,5,6] ]]])\n",
    "y = torch.tensor([[[ [7, 8], [9, 10] ]]] )"
   ]
  },
  {
   "cell_type": "code",
   "execution_count": 94,
   "metadata": {},
   "outputs": [
    {
     "data": {
      "text/plain": [
       "tensor([[[[ 1,  2,  3,  7,  7],\n",
       "          [ 1,  2,  3,  8,  8],\n",
       "          [ 4,  5,  6,  9,  9],\n",
       "          [ 4,  5,  6, 10, 10]]]])"
      ]
     },
     "execution_count": 94,
     "metadata": {},
     "output_type": "execute_result"
    }
   ],
   "source": [
    "# product_key_set(x,y,1,2)\n",
    "product_key_set(x,y)"
   ]
  },
  {
   "cell_type": "code",
   "execution_count": null,
   "metadata": {},
   "outputs": [],
   "source": []
  },
  {
   "cell_type": "code",
   "execution_count": null,
   "metadata": {},
   "outputs": [],
   "source": []
  }
 ],
 "metadata": {
  "kernelspec": {
   "display_name": "Python 3",
   "language": "python",
   "name": "python3"
  },
  "language_info": {
   "codemirror_mode": {
    "name": "ipython",
    "version": 3
   },
   "file_extension": ".py",
   "mimetype": "text/x-python",
   "name": "python",
   "nbconvert_exporter": "python",
   "pygments_lexer": "ipython3",
   "version": "3.7.3"
  }
 },
 "nbformat": 4,
 "nbformat_minor": 4
}
