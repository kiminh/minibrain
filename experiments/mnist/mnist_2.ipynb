{
 "cells": [
  {
   "cell_type": "markdown",
   "metadata": {},
   "source": [
    "# MNIST Experiments - Playing With Different Architectures\n",
    "\n",
    "Sometimes we need to come back to the basis, this is the place I choose for that.\n",
    "\n",
    "Here I'll experiment with different networks on the MNIST and MNIST variants datasets trying to find relations in which I can reduce the number of parameters in comparison with a Fully Connected (FC) network.\n",
    "\n",
    "Later on, I might try with other datasets that are small enough for my GTX1080.\n",
    "\n",
    "Yes, I know, the issue is already solved for Images with Convolutional Networks but what I want to see is not that. Instead I want to understand ways in which fully connected networks can be replaced by other types of connections to minimize the number of parameters in it. This is an exploratory work to get a deeper understanding on Neural Networks (NNs) that will at least give me some fun time.\n",
    "\n"
   ]
  },
  {
   "cell_type": "markdown",
   "metadata": {},
   "source": [
    "## ColumnNet\n",
    "\n",
    "ColumnNet experiments\n",
    "\n",
    "A neural network that contains different networks, each consisting of a column, each column can have different activation units\n",
    "\n"
   ]
  },
  {
   "cell_type": "code",
   "execution_count": 1,
   "metadata": {},
   "outputs": [],
   "source": [
    "import torch\n",
    "import torch.nn as nn\n",
    "import torch.nn.functional as F\n",
    "import torch.optim as optim\n",
    "from torchvision import datasets, transforms"
   ]
  },
  {
   "cell_type": "code",
   "execution_count": 2,
   "metadata": {},
   "outputs": [],
   "source": [
    "import matplotlib.pyplot as plt\n",
    "\n",
    "%matplotlib inline"
   ]
  },
  {
   "cell_type": "code",
   "execution_count": 3,
   "metadata": {},
   "outputs": [],
   "source": [
    "# Network modules  to try\n",
    "from network_modules import *\n",
    "from net_utils import *"
   ]
  },
  {
   "cell_type": "code",
   "execution_count": 4,
   "metadata": {},
   "outputs": [],
   "source": [
    "device = torch.device(\"cuda\" if torch.cuda.is_available() else \"cpu\")"
   ]
  },
  {
   "cell_type": "code",
   "execution_count": 5,
   "metadata": {},
   "outputs": [
    {
     "data": {
      "text/plain": [
       "device(type='cuda')"
      ]
     },
     "execution_count": 5,
     "metadata": {},
     "output_type": "execute_result"
    }
   ],
   "source": [
    "device"
   ]
  },
  {
   "cell_type": "code",
   "execution_count": 6,
   "metadata": {},
   "outputs": [],
   "source": [
    "\n",
    "def transform_mnist():\n",
    "    return transforms.Compose([\n",
    "#         transforms.Grayscale(),\n",
    "#         transforms.Resize((w, h)),  # this should be used ONLY if the image is bigger than this size\n",
    "        transforms.ToTensor()\n",
    "#         transforms.Normalize(0.5, 0.25)\n",
    "    ])\n",
    "# Datasets:\n",
    "# mnist_trainset = datasets.MNIST(root='./data', train=True, download=True, transform=transform_mnist())\n",
    "# mnist_testset = datasets.MNIST(root='./data', train=False, download=True, transform=transform_mnist())\n"
   ]
  },
  {
   "cell_type": "markdown",
   "metadata": {},
   "source": [
    "## Fully Connected ColumnNets"
   ]
  },
  {
   "cell_type": "code",
   "execution_count": 7,
   "metadata": {},
   "outputs": [],
   "source": [
    "\n",
    "def train(model, mname, device=torch.device(\"cuda\" if torch.cuda.is_available() else \"cpu\")):\n",
    "\n",
    "    model.to(device)\n",
    "    num_epochs = 100\n",
    "    batch_size = 128\n",
    "#     learning_rate = 0.0001\n",
    "    learning_rate = 0.001\n",
    "#     criterion = nn.CrossEntropyLoss()\n",
    "#     optimizer = optim.SGD(net.parameters(), lr=learning_rate, momentum=0.9)\n",
    "\n",
    "    criterion = nn.MSELoss()\n",
    "    criterion = F.nll_loss\n",
    "    optimizer = torch.optim.Adam(model.parameters(), lr=learning_rate, weight_decay=1e-5)\n",
    "\n",
    "    transformation = transform_mnist()\n",
    "    train_loader, test_loader = get_loaders(batch_size, transformation)\n",
    "\n",
    "\n",
    "    for epoch in range(num_epochs):\n",
    "        for i, (img, labels) in enumerate(train_loader):\n",
    "#             print(\"shape: \", img.shape, labels.shape)\n",
    "            labels = labels.to(device)\n",
    "            img = img.to(device).view((-1,784))\n",
    "            \n",
    "#             print(\"shape2: \", img.shape)\n",
    "            # ===================forward=====================\n",
    "            #         print(\"encoding batch of  images\")\n",
    "            output = model(img)\n",
    "#             print(\"output shape: \", output.shape, labels.shape, labels[:10])\n",
    "            #         print(\"computing loss\")\n",
    "            loss = criterion(output, labels)\n",
    "            # ===================backward====================\n",
    "            #         print(\"Backward \")\n",
    "            optimizer.zero_grad()\n",
    "            loss.backward()\n",
    "            optimizer.step()\n",
    "        # ===================log========================\n",
    "        if epoch % 20 == 0:\n",
    "            print('epoch [{}/{}], loss:{:.6f}'.format(epoch+1, num_epochs, loss.data[0]))\n",
    "#         if epoch % 10 == 0:\n",
    "#             pic = to_img(output.cpu().data)\n",
    "#             in_pic = to_img(img.cpu().data)\n",
    "#             save_image(pic, './results/2x2-out_image_{}.png'.format(epoch))\n",
    "#             save_image(in_pic, './results/2x2-in_image_{}.png'.format(epoch))\n",
    "#         if loss.data[0] < 0.015: #arbitrary number because I saw that it works well enough\n",
    "#             print(\"loss < 0.015, breaking\")\n",
    "#             break\n",
    "#     model.save_model(mname, \"model\")\n",
    "\n",
    "    print('########################################################')\n",
    "    print('Final performance of model {} epoch [{}/{}], loss:{:.8f}'.format(mname, epoch+1, num_epochs, loss.data[0]))\n",
    "    print('--------------------------------------------------------')\n"
   ]
  },
  {
   "cell_type": "code",
   "execution_count": 8,
   "metadata": {},
   "outputs": [],
   "source": [
    "fcnets_layers = [\n",
    "        [784,50,50],\n",
    "        [784,100,50],\n",
    "        [784,150,50],\n",
    "        [784,200,50],\n",
    "        [784,50,50,50],\n",
    "        [784,100,50,50],\n",
    "        [784,100,100,50],\n",
    "        [784,200,50,50],\n",
    "        [784,200,100,50],\n",
    "        [784,200,150,50],\n",
    "        [784,200,200,50],\n",
    "        [784,50,50,50,50],\n",
    "        [784,100,50,50,50],\n",
    "        [784,100,100,50,50],\n",
    "        [784,100,100,100,50],\n",
    "        [784,200,100,100,50],\n",
    "]"
   ]
  },
  {
   "cell_type": "code",
   "execution_count": 9,
   "metadata": {},
   "outputs": [],
   "source": [
    "activations = [\n",
    "    \"relu\",\n",
    "    \"relu6\",\n",
    "    \"sigmoid\",\n",
    "    \"elu\",\n",
    "    \"leaky_relu\",\n",
    "    \"logsigmoid\",\n",
    "    ]\n",
    "\n"
   ]
  },
  {
   "cell_type": "code",
   "execution_count": 10,
   "metadata": {},
   "outputs": [],
   "source": [
    "\n",
    "columns = [[fc]*len(activations) for fc in fcnets_layers]"
   ]
  },
  {
   "cell_type": "code",
   "execution_count": 11,
   "metadata": {},
   "outputs": [],
   "source": [
    "models = [ColumnNet(c, activations) for c in columns]"
   ]
  },
  {
   "cell_type": "code",
   "execution_count": 12,
   "metadata": {},
   "outputs": [
    {
     "name": "stderr",
     "output_type": "stream",
     "text": [
      "/home/leo/DeepLearning/venv3/lib/python3.5/site-packages/torch/nn/functional.py:1006: UserWarning: nn.functional.sigmoid is deprecated. Use torch.sigmoid instead.\n",
      "  warnings.warn(\"nn.functional.sigmoid is deprecated. Use torch.sigmoid instead.\")\n"
     ]
    },
    {
     "name": "stdout",
     "output_type": "stream",
     "text": [
      "epoch [1/100], loss:0.2166\n"
     ]
    },
    {
     "name": "stderr",
     "output_type": "stream",
     "text": [
      "/home/leo/DeepLearning/venv3/lib/python3.5/site-packages/ipykernel_launcher.py:40: UserWarning: invalid index of a 0-dim tensor. This will be an error in PyTorch 0.5. Use tensor.item() to convert a 0-dim tensor to a Python number\n"
     ]
    },
    {
     "name": "stdout",
     "output_type": "stream",
     "text": [
      "epoch [21/100], loss:0.0016\n",
      "epoch [41/100], loss:0.0066\n",
      "epoch [61/100], loss:0.0000\n",
      "epoch [81/100], loss:0.0001\n",
      "########################################################\n",
      "Final performance of model [784, 50, 50] epoch [100/100], loss:0.00007989\n",
      "--------------------------------------------------------\n"
     ]
    },
    {
     "name": "stderr",
     "output_type": "stream",
     "text": [
      "/home/leo/DeepLearning/venv3/lib/python3.5/site-packages/ipykernel_launcher.py:52: UserWarning: invalid index of a 0-dim tensor. This will be an error in PyTorch 0.5. Use tensor.item() to convert a 0-dim tensor to a Python number\n"
     ]
    },
    {
     "name": "stdout",
     "output_type": "stream",
     "text": [
      "epoch [1/100], loss:0.9070\n",
      "epoch [21/100], loss:0.3928\n",
      "epoch [41/100], loss:0.0323\n",
      "epoch [61/100], loss:0.0002\n",
      "epoch [81/100], loss:0.0121\n",
      "########################################################\n",
      "Final performance of model [784, 100, 50] epoch [100/100], loss:0.00104838\n",
      "--------------------------------------------------------\n",
      "epoch [1/100], loss:1.2007\n",
      "epoch [21/100], loss:0.5280\n",
      "epoch [41/100], loss:0.1682\n",
      "epoch [61/100], loss:0.0008\n",
      "epoch [81/100], loss:0.0001\n",
      "########################################################\n",
      "Final performance of model [784, 150, 50] epoch [100/100], loss:0.00018329\n",
      "--------------------------------------------------------\n",
      "epoch [1/100], loss:0.8117\n",
      "epoch [21/100], loss:0.1920\n",
      "epoch [41/100], loss:0.0014\n",
      "epoch [61/100], loss:0.0001\n",
      "epoch [81/100], loss:0.0001\n",
      "########################################################\n",
      "Final performance of model [784, 200, 50] epoch [100/100], loss:0.00068995\n",
      "--------------------------------------------------------\n",
      "epoch [1/100], loss:1.0987\n",
      "epoch [21/100], loss:0.8670\n",
      "epoch [41/100], loss:0.0348\n",
      "epoch [61/100], loss:0.0001\n",
      "epoch [81/100], loss:0.0014\n",
      "########################################################\n",
      "Final performance of model [784, 50, 50, 50] epoch [100/100], loss:0.00435057\n",
      "--------------------------------------------------------\n",
      "epoch [1/100], loss:0.5472\n",
      "epoch [21/100], loss:0.2644\n",
      "epoch [41/100], loss:0.0016\n",
      "epoch [61/100], loss:0.0005\n",
      "epoch [81/100], loss:0.0094\n",
      "########################################################\n",
      "Final performance of model [784, 100, 50, 50] epoch [100/100], loss:0.00026830\n",
      "--------------------------------------------------------\n",
      "epoch [1/100], loss:0.5585\n",
      "epoch [21/100], loss:0.0330\n",
      "epoch [41/100], loss:0.0001\n",
      "epoch [61/100], loss:0.0019\n",
      "epoch [81/100], loss:0.0001\n",
      "########################################################\n",
      "Final performance of model [784, 100, 100, 50] epoch [100/100], loss:0.00002815\n",
      "--------------------------------------------------------\n",
      "epoch [1/100], loss:0.2379\n",
      "epoch [21/100], loss:0.0002\n",
      "epoch [41/100], loss:0.0000\n",
      "epoch [61/100], loss:0.0001\n",
      "epoch [81/100], loss:0.0053\n",
      "########################################################\n",
      "Final performance of model [784, 200, 50, 50] epoch [100/100], loss:0.00065660\n",
      "--------------------------------------------------------\n",
      "epoch [1/100], loss:1.0471\n",
      "epoch [21/100], loss:0.0012\n",
      "epoch [41/100], loss:0.0001\n",
      "epoch [61/100], loss:0.0001\n",
      "epoch [81/100], loss:0.0000\n",
      "########################################################\n",
      "Final performance of model [784, 200, 100, 50] epoch [100/100], loss:0.00087195\n",
      "--------------------------------------------------------\n",
      "epoch [1/100], loss:0.7302\n",
      "epoch [21/100], loss:0.0003\n",
      "epoch [41/100], loss:0.0019\n",
      "epoch [61/100], loss:0.0027\n",
      "epoch [81/100], loss:0.0001\n",
      "########################################################\n",
      "Final performance of model [784, 200, 150, 50] epoch [100/100], loss:0.00009220\n",
      "--------------------------------------------------------\n",
      "epoch [1/100], loss:1.1677\n",
      "epoch [21/100], loss:0.2179\n",
      "epoch [41/100], loss:0.0032\n",
      "epoch [61/100], loss:0.0001\n",
      "epoch [81/100], loss:0.0000\n",
      "########################################################\n",
      "Final performance of model [784, 200, 200, 50] epoch [100/100], loss:0.00007140\n",
      "--------------------------------------------------------\n",
      "epoch [1/100], loss:1.4861\n",
      "epoch [21/100], loss:1.1575\n",
      "epoch [41/100], loss:0.6719\n",
      "epoch [61/100], loss:0.0039\n",
      "epoch [81/100], loss:0.0030\n",
      "########################################################\n",
      "Final performance of model [784, 50, 50, 50, 50] epoch [100/100], loss:0.00002761\n",
      "--------------------------------------------------------\n",
      "epoch [1/100], loss:0.8174\n",
      "epoch [21/100], loss:0.2954\n",
      "epoch [41/100], loss:0.0023\n",
      "epoch [61/100], loss:0.0306\n",
      "epoch [81/100], loss:0.0057\n",
      "########################################################\n",
      "Final performance of model [784, 100, 50, 50, 50] epoch [100/100], loss:0.00004356\n",
      "--------------------------------------------------------\n",
      "epoch [1/100], loss:1.5871\n",
      "epoch [21/100], loss:0.2292\n",
      "epoch [41/100], loss:0.0062\n",
      "epoch [61/100], loss:0.0000\n",
      "epoch [81/100], loss:0.1002\n",
      "########################################################\n",
      "Final performance of model [784, 100, 100, 50, 50] epoch [100/100], loss:0.00011465\n",
      "--------------------------------------------------------\n",
      "epoch [1/100], loss:1.4213\n",
      "epoch [21/100], loss:0.4086\n",
      "epoch [41/100], loss:0.0083\n",
      "epoch [61/100], loss:0.0013\n",
      "epoch [81/100], loss:0.0011\n",
      "########################################################\n",
      "Final performance of model [784, 100, 100, 100, 50] epoch [100/100], loss:0.00187875\n",
      "--------------------------------------------------------\n",
      "epoch [1/100], loss:1.6150\n",
      "epoch [21/100], loss:0.5757\n",
      "epoch [41/100], loss:0.0975\n",
      "epoch [61/100], loss:0.0006\n",
      "epoch [81/100], loss:0.0000\n",
      "########################################################\n",
      "Final performance of model [784, 200, 100, 100, 50] epoch [100/100], loss:0.00086272\n",
      "--------------------------------------------------------\n"
     ]
    }
   ],
   "source": [
    "for i in range(len(fcnets_layers)):\n",
    "    mname = str(fcnets_layers[i])\n",
    "    model = models[i]\n",
    "    train(model, mname)\n",
    "    "
   ]
  },
  {
   "cell_type": "code",
   "execution_count": null,
   "metadata": {},
   "outputs": [],
   "source": []
  },
  {
   "cell_type": "code",
   "execution_count": null,
   "metadata": {},
   "outputs": [],
   "source": []
  }
 ],
 "metadata": {
  "kernelspec": {
   "display_name": "Python 3",
   "language": "python",
   "name": "python3"
  },
  "language_info": {
   "codemirror_mode": {
    "name": "ipython",
    "version": 3
   },
   "file_extension": ".py",
   "mimetype": "text/x-python",
   "name": "python",
   "nbconvert_exporter": "python",
   "pygments_lexer": "ipython3",
   "version": "3.5.2"
  }
 },
 "nbformat": 4,
 "nbformat_minor": 2
}
