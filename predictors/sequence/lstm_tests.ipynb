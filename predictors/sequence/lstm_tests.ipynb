{
 "cells": [
  {
   "cell_type": "markdown",
   "metadata": {},
   "source": [
    "# Sequence prediction analysis"
   ]
  },
  {
   "cell_type": "markdown",
   "metadata": {},
   "source": [
    "The Sequence prediction analysis tests are done to analyze several different elements of different algorithms."
   ]
  },
  {
   "cell_type": "markdown",
   "metadata": {},
   "source": [
    "### Networks to Evaluate\n",
    "\n",
    " - Fully Connected Networks\n",
    " - LSTM Networks\n",
    " - Other RNNs (bidirectionals, GRUs, ...)\n",
    " - TCN (Temporal Convolutional Networks)\n",
    " - MANNs (different ones, to determine)\n",
    " - Networks Augmented with Attention Mechanisms"
   ]
  },
  {
   "cell_type": "markdown",
   "metadata": {},
   "source": [
    "### Evaluation Elements:\n",
    "\n",
    "The following elements must appear in the report of each experiment:\n",
    "\n",
    "* Algorithm ID (name), reference to the architecture details\n",
    "* Date\n",
    "* Time\n",
    "* Number of Parameters in the network\n",
    "* Training Time (including the hardware where it was trained)\n",
    "* Performance (accuracy/something else .. yet to define) at different future points\n",
    "* Loss (log loss, RMS, etc) at different future points\n",
    "* Performance decay on the future time, starting from the last training point\n",
    "* Optimizer used (Adam, Gradient Descent, Momentum, ... etc)\n",
    "* Input queue size\n",
    "* Output Queue size\n",
    "* Feedback Error metric (SME, absolute, log, log-loss, ...) \n",
    "* Using/Not using space-time coding (details later, this is something I want to elaborate more and research)\n",
    "* Comments\n",
    "* Some others that I have yet to think about"
   ]
  },
  {
   "cell_type": "markdown",
   "metadata": {},
   "source": [
    "## Assumptions\n",
    "\n",
    "* The input to the network is standardized for all the models to be tested\n",
    "\n",
    "#### Architecture\n",
    "\n",
    "More details in the Architecture Section\n",
    "\n",
    "* The general architecture is stable, this is, an input queue, an output queue and an error signal that is fed back to the predictor network\n",
    "* The input is temporally saved in a limited dimension input queue, this queue can or not be used by the network\n",
    "* The output of the prediction is also kept in an output queue, as before this queue can or not be used by the network\n",
    "* The error is *always* computed, and is fed back into the network (based on ideas from control systems) in the next time step\n",
    "\n",
    "#### Resources\n",
    "\n",
    "* The network must be small enough to be trained in my computer with an Intel i7 7700K and a NVidia GTX 1080\n",
    "\n",
    "#### Training Data\n",
    "\n",
    "* All networks will use the same data, pre-processed in the same manner, no specific pre-processing or adaptation should be done\n",
    "* The input dimension to study is 1D vectors, this means vectors of size (1xN) such as N is a Natural Number\n",
    "* Training data can be an audio sequence, a list of prices of an exchange, text, MIDI signal, a bitwise signal (example CommaAI-env)\n"
   ]
  },
  {
   "cell_type": "markdown",
   "metadata": {},
   "source": [
    "## Architecture\n",
    "\n",
    "The Architecture is separated in 2 main parts:\n",
    "\n",
    "1. General Architecture\n",
    "2. Specific Method Architecture\n",
    "\n",
    "### General Architecture\n",
    "\n",
    "The General Architecture can be seen in the following image:\n",
    "\n",
    "#TODO !!!!!!!!!!!!!!!!!\n",
    "\n",
    "\n",
    "The architecture consists of an input queue and an output queue. \n",
    "\n",
    "The input one provides the data to the predictor network (PN).\n",
    "\n",
    "The output one stores the predicted data from the predictor network (PN).\n",
    "\n",
    "An error signal is computed and fed back into the Predictor Network (PN).\n",
    "\n",
    "### Specific Method Architecture\n",
    "\n",
    "The point #2 depends on the particularities of the network (LSTM, Fully Connected, Convolutional, etc) so this will be specified in each section separately.\n",
    "\n"
   ]
  },
  {
   "cell_type": "markdown",
   "metadata": {},
   "source": [
    "## Input and output queue specificities\n",
    "\n",
    "The input and output queues can be composed of several queues, these can be the following ones:\n",
    "\n",
    "1. The actual input data (Mandatory)\n",
    "2. Time Coding of the input (Optional to be evaluated)\n",
    "3. Space Coding of the input (Out of scope from the current study)\n",
    "\n",
    "\n",
    "### The actual input data\n",
    "\n",
    "This data is the data from the input signal that I'm trying to predict. \n",
    "\n",
    "This data can be:\n",
    "\n",
    " * A scalar input such as: sound signal, prices from the stock market, temperatures, linear position, ...\n",
    " * A Vector input such as text symbols, midi signals, ...\n",
    " \n",
    "### Time Coding of the input\n",
    " \n",
    "This is a code that signifies the TIME at which the input arrives.\n",
    " \n",
    "T his idea comes from the notion that our brain contain not only the symbols arriving in due time, but also there are sensors in our body that allows us to know how much we have moved, how much time has passed, ....\n",
    "\n",
    "The argument is that for many operations we need this data to actually \n",
    "\n",
    "Just to be short without to much reference for the moment (I might write more details on this later):\n",
    "\n",
    "* in the brain there are neurons that can be stable, unstable, bi-stables and oscilating, \n",
    "* that there are some others that are sensitive to location and orientation ( V1 ),\n",
    "* or spacially related (latest work by deepmind in grid neurons),\n",
    "* the work on Attention Is All You Need uses positional encoding for words in a sinusoidal maner for this.\n",
    "\n",
    "\n",
    "### Space Coding for the input\n",
    "\n",
    "The idea is the same as the Time coding, but for spatial dimensions. This study does not target any evaluation in this domain but is worth to mention it for future work\n"
   ]
  },
  {
   "cell_type": "code",
   "execution_count": 1,
   "metadata": {},
   "outputs": [],
   "source": [
    "import numpy as np\n",
    "import scipy as sp\n",
    "import pandas as pd\n",
    "import os, sys\n",
    "import matplotlib.pyplot as plt\n",
    "from sklearn.preprocessing import MinMaxScaler\n",
    "\n",
    "\n",
    "%matplotlib inline"
   ]
  },
  {
   "cell_type": "code",
   "execution_count": 2,
   "metadata": {},
   "outputs": [],
   "source": [
    "import torch\n",
    "from torch import Tensor\n",
    "import torch.nn as nn\n",
    "from torch.nn.utils import rnn\n",
    "import torch.nn.functional as F\n",
    "import torch.optim as optim\n",
    "\n",
    "#torch.manual_seed(1)"
   ]
  },
  {
   "cell_type": "code",
   "execution_count": 3,
   "metadata": {},
   "outputs": [
    {
     "name": "stdout",
     "output_type": "stream",
     "text": [
      "Is CUDA available? True.\n"
     ]
    }
   ],
   "source": [
    "use_cuda = torch.cuda.is_available()\n",
    "print(\"Is CUDA available? %s.\" % (use_cuda))"
   ]
  },
  {
   "cell_type": "code",
   "execution_count": 4,
   "metadata": {},
   "outputs": [],
   "source": [
    "# Counting number of parameters\n",
    "# https://discuss.pytorch.org/t/how-do-i-check-the-number-of-parameters-of-a-model/4325/7\n",
    "# https://stackoverflow.com/questions/49201236/check-the-total-number-of-parameters-in-a-pytorch-model\n",
    "\n",
    "def count_parameters(model):\n",
    "    return sum(p.numel() for p in model.parameters())\n",
    "\n",
    "def count_trainable_parameters(model):\n",
    "    return sum(p.numel() for p in model.parameters() if p.requires_grad)"
   ]
  },
  {
   "cell_type": "markdown",
   "metadata": {},
   "source": [
    "## Scalar sequence prediction LSTM Experiment\n",
    "\n",
    "This experiment tries to deal with the prediction of scalars, nothing else."
   ]
  },
  {
   "cell_type": "markdown",
   "metadata": {},
   "source": [
    "### LiteCoin price prediction\n",
    "\n",
    "Tutorial sources are these:\n",
    "\n",
    "* http://colah.github.io/posts/2015-08-Understanding-LSTMs/\n",
    "* https://www.datacamp.com/community/tutorials/lstm-python-stock-market\n",
    "* http://chandlerzuo.github.io/blog/2017/11/darnn\n",
    "* https://discuss.pytorch.org/t/rnn-for-sequence-prediction/182\n",
    "* https://github.com/pytorch/examples/blob/master/time_sequence_prediction/train.py\n",
    "* [official documentation](https://pytorch.org/docs/stable/nn.html)\n",
    "\n",
    "\n",
    "\n",
    "Data is for the moment the one I downloaded some time ago ... I'll give more details later\n",
    "\n",
    "\n"
   ]
  },
  {
   "cell_type": "markdown",
   "metadata": {},
   "source": [
    "### Data loading and plotting"
   ]
  },
  {
   "cell_type": "code",
   "execution_count": 5,
   "metadata": {},
   "outputs": [],
   "source": [
    "ltc = pd.read_csv(\"~/Crypto/Datasets/cryptocurrencypricehistory/litecoin_price.csv\")"
   ]
  },
  {
   "cell_type": "code",
   "execution_count": 6,
   "metadata": {},
   "outputs": [
    {
     "data": {
      "text/plain": [
       "Index(['Date', 'Open', 'High', 'Low', 'Close', 'Volume', 'Market Cap'], dtype='object')"
      ]
     },
     "execution_count": 6,
     "metadata": {},
     "output_type": "execute_result"
    }
   ],
   "source": [
    "ltc.columns"
   ]
  },
  {
   "cell_type": "code",
   "execution_count": 7,
   "metadata": {},
   "outputs": [
    {
     "data": {
      "text/plain": [
       "<matplotlib.axes._subplots.AxesSubplot at 0x7fdfa95df198>"
      ]
     },
     "execution_count": 7,
     "metadata": {},
     "output_type": "execute_result"
    },
    {
     "data": {
      "image/png": "[encoded data removed]",
      "text/plain": [
       "<matplotlib.figure.Figure at 0x7fdfa96869e8>"
      ]
     },
     "metadata": {},
     "output_type": "display_data"
    }
   ],
   "source": [
    "ltc[\"Open\"].plot()"
   ]
  },
  {
   "cell_type": "markdown",
   "metadata": {},
   "source": [
    "For the first approach to deal with it will use the one present in the datacamp link above.\n",
    "taking the mid_prices only and scaling them with the scikit-learn MinMaxScaler()\n",
    "\n",
    "For Information, I do have some other approaches that I'd like to take and are the following ones:\n",
    "\n",
    "1. Encode prices with a simil taylor series approach as the time-encoding idea\n",
    "2. Encode not absolute prices but variations between points instead (much less variation), this can be done in absolute (and then scale) or in the same manner as point 1\n",
    "\n"
   ]
  },
  {
   "cell_type": "code",
   "execution_count": 8,
   "metadata": {},
   "outputs": [
    {
     "name": "stderr",
     "output_type": "stream",
     "text": [
      "/home/leo/DeepLearning/venv3/lib/python3.5/site-packages/ipykernel_launcher.py:1: FutureWarning: Method .as_matrix will be removed in a future version. Use .values instead.\n",
      "  \"\"\"Entry point for launching an IPython kernel.\n",
      "/home/leo/DeepLearning/venv3/lib/python3.5/site-packages/ipykernel_launcher.py:2: FutureWarning: Method .as_matrix will be removed in a future version. Use .values instead.\n",
      "  \n"
     ]
    }
   ],
   "source": [
    "high_prices = ltc.loc[:,'High'].as_matrix()\n",
    "low_prices = ltc.loc[:,'Low'].as_matrix()\n",
    "mid_prices = (high_prices+low_prices)/2.0"
   ]
  },
  {
   "cell_type": "code",
   "execution_count": 9,
   "metadata": {},
   "outputs": [
    {
     "data": {
      "text/plain": [
       "[<matplotlib.lines.Line2D at 0x7fdfa74f5f60>]"
      ]
     },
     "execution_count": 9,
     "metadata": {},
     "output_type": "execute_result"
    },
    {
     "data": {
      "image/png": "[encoded data removed]",
      "text/plain": [
       "<matplotlib.figure.Figure at 0x7fdfa75c9be0>"
      ]
     },
     "metadata": {},
     "output_type": "display_data"
    }
   ],
   "source": [
    "plt.plot(mid_prices)"
   ]
  },
  {
   "cell_type": "code",
   "execution_count": 10,
   "metadata": {},
   "outputs": [],
   "source": [
    "train_data = mid_prices[:1000]\n",
    "test_data = mid_prices[1000:]"
   ]
  },
  {
   "cell_type": "code",
   "execution_count": 11,
   "metadata": {},
   "outputs": [],
   "source": [
    "scaler = MinMaxScaler()\n",
    "train_data = train_data.reshape(-1,1)\n",
    "test_data = test_data.reshape(-1,1)"
   ]
  },
  {
   "cell_type": "code",
   "execution_count": 12,
   "metadata": {},
   "outputs": [
    {
     "data": {
      "text/plain": [
       "(1000, 1)"
      ]
     },
     "execution_count": 12,
     "metadata": {},
     "output_type": "execute_result"
    }
   ],
   "source": [
    "train_data.shape"
   ]
  },
  {
   "cell_type": "code",
   "execution_count": 13,
   "metadata": {},
   "outputs": [
    {
     "data": {
      "text/plain": [
       "[<matplotlib.lines.Line2D at 0x7fdfa7471dd8>]"
      ]
     },
     "execution_count": 13,
     "metadata": {},
     "output_type": "execute_result"
    },
    {
     "data": {
      "image/png": "[encoded data removed]",
      "text/plain": [
       "<matplotlib.figure.Figure at 0x7fdfa7502c88>"
      ]
     },
     "metadata": {},
     "output_type": "display_data"
    }
   ],
   "source": [
    "plt.plot(train_data)"
   ]
  },
  {
   "cell_type": "code",
   "execution_count": 14,
   "metadata": {},
   "outputs": [],
   "source": [
    "# Train the Scaler with training data and smooth data\n",
    "smoothing_window_size = 100\n",
    "dtrain = np.zeros(train_data.shape)\n",
    "\n",
    "for di in range(0,1000,smoothing_window_size):\n",
    "    dtrain[di:di+smoothing_window_size,:] = scaler.fit_transform(train_data[di:di+smoothing_window_size,:])\n",
    "\n",
    "dtest = scaler.fit_transform(test_data)"
   ]
  },
  {
   "cell_type": "code",
   "execution_count": 15,
   "metadata": {},
   "outputs": [
    {
     "data": {
      "text/plain": [
       "(1000, 1)"
      ]
     },
     "execution_count": 15,
     "metadata": {},
     "output_type": "execute_result"
    }
   ],
   "source": [
    "dtrain.shape"
   ]
  },
  {
   "cell_type": "code",
   "execution_count": 16,
   "metadata": {},
   "outputs": [
    {
     "data": {
      "text/plain": [
       "[<matplotlib.lines.Line2D at 0x7fdfa73e31d0>]"
      ]
     },
     "execution_count": 16,
     "metadata": {},
     "output_type": "execute_result"
    },
    {
     "data": {
      "image/png": "[encoded data removed]",
      "text/plain": [
       "<matplotlib.figure.Figure at 0x7fdfa7412c18>"
      ]
     },
     "metadata": {},
     "output_type": "display_data"
    }
   ],
   "source": [
    "plt.plot(dtrain)"
   ]
  },
  {
   "cell_type": "code",
   "execution_count": 17,
   "metadata": {},
   "outputs": [
    {
     "data": {
      "text/plain": [
       "[<matplotlib.lines.Line2D at 0x7fdfa73c9198>]"
      ]
     },
     "execution_count": 17,
     "metadata": {},
     "output_type": "execute_result"
    },
    {
     "data": {
      "image/png": "[encoded data removed]",
      "text/plain": [
       "<matplotlib.figure.Figure at 0x7fdfa73f1dd8>"
      ]
     },
     "metadata": {},
     "output_type": "display_data"
    }
   ],
   "source": [
    "plt.plot(dtest)"
   ]
  },
  {
   "cell_type": "code",
   "execution_count": 18,
   "metadata": {},
   "outputs": [],
   "source": [
    "# Now perform exponential moving average smoothing\n",
    "# So the data will have a smoother curve than the original ragged data\n",
    "EMA = 0.0\n",
    "gamma = 0.1\n",
    "for ti in range(1000):\n",
    "  EMA = gamma*dtrain[ti] + (1-gamma)*EMA\n",
    "  dtrain[ti] = EMA\n",
    "\n",
    "# Used for visualization and test purposes\n",
    "all_mid_data = np.concatenate([dtrain,dtest],axis=0)"
   ]
  },
  {
   "cell_type": "code",
   "execution_count": 19,
   "metadata": {},
   "outputs": [
    {
     "data": {
      "text/plain": [
       "[<matplotlib.lines.Line2D at 0x7fdfa73a0668>]"
      ]
     },
     "execution_count": 19,
     "metadata": {},
     "output_type": "execute_result"
    },
    {
     "data": {
      "image/png": "[encoded data removed]",
      "text/plain": [
       "<matplotlib.figure.Figure at 0x7fdfa73a0b38>"
      ]
     },
     "metadata": {},
     "output_type": "display_data"
    }
   ],
   "source": [
    "plt.plot(all_mid_data)"
   ]
  },
  {
   "cell_type": "code",
   "execution_count": 20,
   "metadata": {},
   "outputs": [],
   "source": [
    "\n",
    "class SimpleRecurrentSequence(nn.Module):\n",
    "    \n",
    "    # Options that can be used for the recurrent module, this makes the class more general without any change \n",
    "    # as pytorch has a nice unified interface for the 3 classes\n",
    "    module_dict = {\n",
    "                   \"RNN\": nn.RNN,\n",
    "                   \"LSTM\": nn.LSTM,\n",
    "                   \"GRU\": nn.GRU,\n",
    "                   }\n",
    "    \n",
    "    def __init__(self, in_size, hid_size, out_size, layers, future=0, bias=True, dropout=0, batch_size=1,\n",
    "                 bidirectional=False, cell=\"LSTM\", batch_first=False):\n",
    "        super(SimpleRecurrentSequence, self).__init__()\n",
    "        self.in_size = in_size\n",
    "        self.hid_size = hid_size\n",
    "        self.out_size = out_size\n",
    "        self.layers = layers\n",
    "        self.future = future\n",
    "        self.batch_size = batch_size\n",
    "        self.bidirectional = bidirectional\n",
    "        self.CELL_TYPE = SimpleRecurrentSequence.module_dict[cell]\n",
    "        self.rnn = self.CELL_TYPE(input_size=in_size, hidden_size=hid_size, num_layers=layers, bias=bias, \n",
    "                                  dropout=dropout, bidirectional=bidirectional, batch_first=batch_first)\n",
    "        self.linear = nn.Linear(hid_size, out_size)\n",
    "        #self.hidden = self.init_hidden()  #TODO fix the issue with cuda access here\n",
    "        self.hidden = None\n",
    "\n",
    "    def forward(self, data, future=0):\n",
    "        outputs = []\n",
    "#         print(\"inshape: \", data.shape)\n",
    "        out, self.hidden = self.rnn(data, self.hidden) if self.hidden is not None else self.rnn(data)\n",
    "        print(\"shapes: \", out.shape, self.hidden[0].shape)\n",
    "        out = self.linear(out)\n",
    "        outputs += [out]\n",
    "        hidd = self.hidden  # (self.hidden[0].clone(), self.hidden[1].clone())  # I want to avoid that it actually changes the current real state for the next step to avoid future knowledge during training\n",
    "        output = out  # .view(-1,999,1)\n",
    "        for i in range(future-1):# if we should predict the future\n",
    "            out, hidd = self.rnn(out, hidd)\n",
    "            out = self.linear(out)\n",
    "            outputs += [out]\n",
    "        outputs = torch.stack(outputs, 1).squeeze(1)\n",
    "        return outputs\n",
    "    \n",
    "    def init_hidden(self, device): #TODO fix the issue with cuda access -> set device correctly\n",
    "        n_directions = 2 if self.bidirectional else 1\n",
    "        return (torch.zeros(self.layers, self.batch_size, self.hid_size).to(device),\n",
    "                torch.zeros(self.layers, self.batch_size, self.hid_size).to(device))\n",
    "\n"
   ]
  },
  {
   "cell_type": "code",
   "execution_count": 21,
   "metadata": {},
   "outputs": [
    {
     "name": "stdout",
     "output_type": "stream",
     "text": [
      "[tensor([[ 0.4848, -1.2651, -0.9016]]), tensor([[ 1.8563,  1.2083, -1.0877]]), tensor([[-0.0450, -1.1601,  0.1987]]), tensor([[ 0.8832,  1.1517,  1.3182]]), tensor([[-0.2748, -0.2188,  1.0343]])]\n"
     ]
    }
   ],
   "source": [
    "inputs = [torch.randn(1, 3) for _ in range(5)]  # make a sequence of length 5\n",
    "print(inputs)\n"
   ]
  },
  {
   "cell_type": "code",
   "execution_count": 22,
   "metadata": {},
   "outputs": [
    {
     "name": "stdout",
     "output_type": "stream",
     "text": [
      "tensor([[[ 0.4848, -1.2651, -0.9016]],\n",
      "\n",
      "        [[ 1.8563,  1.2083, -1.0877]],\n",
      "\n",
      "        [[-0.0450, -1.1601,  0.1987]],\n",
      "\n",
      "        [[ 0.8832,  1.1517,  1.3182]],\n",
      "\n",
      "        [[-0.2748, -0.2188,  1.0343]]])\n"
     ]
    }
   ],
   "source": [
    "inputs = torch.cat(inputs).view(len(inputs), 1, -1)\n",
    "print(inputs)"
   ]
  },
  {
   "cell_type": "code",
   "execution_count": 23,
   "metadata": {},
   "outputs": [],
   "source": [
    "# train and test data:\n",
    "# I will be feeding sequences of 30 elements to the RNN, and the output\n"
   ]
  },
  {
   "cell_type": "code",
   "execution_count": 24,
   "metadata": {},
   "outputs": [],
   "source": [
    "#np.random.seed(2)\n",
    "\n",
    "T = 20\n",
    "L = 1000\n",
    "N = 100\n",
    "\n",
    "x = np.empty((N, L), 'int64')\n",
    "x[:] = np.array(range(L)) + np.random.randint(-4 * T, 4 * T, N).reshape(N, 1)\n",
    "data = np.sin(x / 1.0 / T).astype('float32')\n",
    "# torch.save(data, open('traindata.pt', 'wb'))"
   ]
  },
  {
   "cell_type": "code",
   "execution_count": 25,
   "metadata": {},
   "outputs": [
    {
     "data": {
      "text/plain": [
       "[<matplotlib.lines.Line2D at 0x7fdfa7298e10>]"
      ]
     },
     "execution_count": 25,
     "metadata": {},
     "output_type": "execute_result"
    },
    {
     "data": {
      "image/png": "[encoded data removed]",
      "text/plain": [
       "<matplotlib.figure.Figure at 0x7fdfa737e0f0>"
      ]
     },
     "metadata": {},
     "output_type": "display_data"
    }
   ],
   "source": [
    "plt.plot(data[72])"
   ]
  },
  {
   "cell_type": "code",
   "execution_count": 26,
   "metadata": {},
   "outputs": [
    {
     "data": {
      "text/plain": [
       "SimpleRecurrentSequence(\n",
       "  (rnn): LSTM(1, 50, num_layers=3)\n",
       "  (linear): Linear(in_features=50, out_features=1, bias=True)\n",
       ")"
      ]
     },
     "execution_count": 26,
     "metadata": {},
     "output_type": "execute_result"
    }
   ],
   "source": [
    "in_size = 1\n",
    "hid_size = 50\n",
    "out_size = 1\n",
    "layers = 3\n",
    "future = 1\n",
    "bias=True\n",
    "dropout= 0.\n",
    "bidirectional= False\n",
    "cell= \"LSTM\"\n",
    "batch_size = 5\n",
    "\n",
    "device = torch.device(\"cuda:0\" if torch.cuda.is_available() else \"cpu\")\n",
    "\n",
    "model = SimpleRecurrentSequence(in_size, hid_size, out_size, layers, future=future, batch_size=batch_size, bias=bias, dropout=dropout, bidirectional=bidirectional, cell=cell)\n",
    "model.to(device)"
   ]
  },
  {
   "cell_type": "code",
   "execution_count": 27,
   "metadata": {},
   "outputs": [
    {
     "data": {
      "text/plain": [
       "(5, 970)"
      ]
     },
     "execution_count": 27,
     "metadata": {},
     "output_type": "execute_result"
    }
   ],
   "source": [
    "data[:5, :-30].shape"
   ]
  },
  {
   "cell_type": "code",
   "execution_count": 29,
   "metadata": {},
   "outputs": [],
   "source": [
    "def train(model, X, Y, future, device):\n",
    "    criterion = nn.MSELoss() #this loss does not have backward\n",
    "    #criterion = nn.CrossEntropyLoss() #this loss does not work with the current setup\n",
    "    # use LBFGS as optimizer since we can load the whole data to train\n",
    "    #optimizer = optim.LBFGS(model.parameters(), lr=0.8) -> needs a closure() function\n",
    "    #optimizer = torch.optim.Adam(model.parameters(), lr=1e-3)\n",
    "    optimizer = torch.optim.Adam(model.parameters())\n",
    "    #optimizer = optim.SGD(model.parameters(), lr=0.1)\n",
    "    #loss = 0\n",
    "    #hidden = model.init_hidden()\n",
    "    model.hidden = model.init_hidden(device) #reset state to avoid interference between different elements\n",
    "    model.zero_grad()\n",
    "    out = model(X, future=future)\n",
    "#     print(out.shape)\n",
    "    loss = criterion(out, Y)\n",
    "#     print(type(loss))\n",
    "    loss.backward()\n",
    "    optimizer.step()\n",
    "    return loss\n"
   ]
  },
  {
   "cell_type": "code",
   "execution_count": 30,
   "metadata": {},
   "outputs": [
    {
     "name": "stdout",
     "output_type": "stream",
     "text": [
      "shapes:  torch.Size([999, 5, 50]) torch.Size([3, 5, 50])\n",
      "tensor(0.5071, device='cuda:0')\n",
      "shapes:  torch.Size([999, 5, 50]) torch.Size([3, 5, 50])\n",
      "tensor(0.5000, device='cuda:0')\n",
      "shapes:  torch.Size([999, 5, 50]) torch.Size([3, 5, 50])\n",
      "tensor(0.4927, device='cuda:0')\n",
      "shapes:  torch.Size([999, 5, 50]) torch.Size([3, 5, 50])\n",
      "tensor(0.4865, device='cuda:0')\n",
      "shapes:  torch.Size([999, 5, 50]) torch.Size([3, 5, 50])\n",
      "tensor(0.4810, device='cuda:0')\n",
      "shapes:  torch.Size([999, 5, 50]) torch.Size([3, 5, 50])\n",
      "tensor(0.4718, device='cuda:0')\n",
      "shapes:  torch.Size([999, 5, 50]) torch.Size([3, 5, 50])\n",
      "tensor(0.4621, device='cuda:0')\n",
      "shapes:  torch.Size([999, 5, 50]) torch.Size([3, 5, 50])\n",
      "tensor(0.4511, device='cuda:0')\n",
      "shapes:  torch.Size([999, 5, 50]) torch.Size([3, 5, 50])\n",
      "tensor(0.4385, device='cuda:0')\n",
      "shapes:  torch.Size([999, 5, 50]) torch.Size([3, 5, 50])\n",
      "tensor(0.4203, device='cuda:0')\n",
      "shapes:  torch.Size([999, 5, 50]) torch.Size([3, 5, 50])\n",
      "tensor(0.3984, device='cuda:0')\n",
      "shapes:  torch.Size([999, 5, 50]) torch.Size([3, 5, 50])\n",
      "tensor(0.3713, device='cuda:0')\n",
      "shapes:  torch.Size([999, 5, 50]) torch.Size([3, 5, 50])\n",
      "tensor(0.3385, device='cuda:0')\n",
      "shapes:  torch.Size([999, 5, 50]) torch.Size([3, 5, 50])\n",
      "tensor(0.2985, device='cuda:0')\n",
      "shapes:  torch.Size([999, 5, 50]) torch.Size([3, 5, 50])\n",
      "tensor(0.2524, device='cuda:0')\n",
      "shapes:  torch.Size([999, 5, 50]) torch.Size([3, 5, 50])\n",
      "tensor(0.2040, device='cuda:0')\n",
      "shapes:  torch.Size([999, 5, 50]) torch.Size([3, 5, 50])\n",
      "tensor(0.1579, device='cuda:0')\n",
      "shapes:  torch.Size([999, 5, 50]) torch.Size([3, 5, 50])\n",
      "tensor(0.1307, device='cuda:0')\n",
      "shapes:  torch.Size([999, 5, 50]) torch.Size([3, 5, 50])\n",
      "tensor(0.1223, device='cuda:0')\n",
      "shapes:  torch.Size([999, 5, 50]) torch.Size([3, 5, 50])\n",
      "tensor(0.1177, device='cuda:0')\n",
      "CPU times: user 891 ms, sys: 27.3 ms, total: 918 ms\n",
      "Wall time: 922 ms\n"
     ]
    }
   ],
   "source": [
    "%%time\n",
    "\n",
    "for i in range(20):\n",
    "    nb= batch_size * i\n",
    "    nb1 = nb + batch_size\n",
    "    X = rnn.pad_sequence(torch.from_numpy(data[nb:nb1, :-future]).view(batch_size,L-future,in_size).to(device))\n",
    "    Y = rnn.pad_sequence(torch.from_numpy(data[nb:nb1, future:]).view(batch_size,L-future, in_size).to(device))\n",
    "    loss = train(model, X, Y, future, device)\n",
    "    print(loss)"
   ]
  },
  {
   "cell_type": "code",
   "execution_count": 31,
   "metadata": {},
   "outputs": [],
   "source": [
    "#not try to have some fun\n",
    "model.hidden = None\n",
    "f = 1000\n",
    "d = rnn.pad_sequence(torch.from_numpy(data[5, :100]).view(1,100,1).to(device))"
   ]
  },
  {
   "cell_type": "code",
   "execution_count": 32,
   "metadata": {},
   "outputs": [
    {
     "data": {
      "text/plain": [
       "torch.Size([100, 1, 1])"
      ]
     },
     "execution_count": 32,
     "metadata": {},
     "output_type": "execute_result"
    }
   ],
   "source": [
    "d.shape"
   ]
  },
  {
   "cell_type": "code",
   "execution_count": 33,
   "metadata": {},
   "outputs": [
    {
     "name": "stdout",
     "output_type": "stream",
     "text": [
      "shapes:  torch.Size([100, 1, 50]) torch.Size([3, 1, 50])\n"
     ]
    }
   ],
   "source": [
    "out = model.forward(d, 1000)"
   ]
  },
  {
   "cell_type": "code",
   "execution_count": 34,
   "metadata": {},
   "outputs": [
    {
     "data": {
      "text/plain": [
       "torch.Size([100, 1000, 1, 1])"
      ]
     },
     "execution_count": 34,
     "metadata": {},
     "output_type": "execute_result"
    }
   ],
   "source": [
    "out.shape"
   ]
  },
  {
   "cell_type": "code",
   "execution_count": 36,
   "metadata": {},
   "outputs": [
    {
     "data": {
      "text/plain": [
       "[<matplotlib.lines.Line2D at 0x7fdf6d962828>]"
      ]
     },
     "execution_count": 36,
     "metadata": {},
     "output_type": "execute_result"
    },
    {
     "data": {
      "image/png": "[encoded data removed]",
      "text/plain": [
       "<matplotlib.figure.Figure at 0x7fdf6d99af98>"
      ]
     },
     "metadata": {},
     "output_type": "display_data"
    }
   ],
   "source": [
    "plt.plot(out[1].squeeze(1).squeeze(1).cpu().detach().numpy()[:100])"
   ]
  },
  {
   "cell_type": "code",
   "execution_count": null,
   "metadata": {},
   "outputs": [],
   "source": []
  }
 ],
 "metadata": {
  "kernelspec": {
   "display_name": "Python 3",
   "language": "python",
   "name": "python3"
  },
  "language_info": {
   "codemirror_mode": {
    "name": "ipython",
    "version": 3
   },
   "file_extension": ".py",
   "mimetype": "text/x-python",
   "name": "python",
   "nbconvert_exporter": "python",
   "pygments_lexer": "ipython3",
   "version": "3.5.2"
  }
 },
 "nbformat": 4,
 "nbformat_minor": 2
}
