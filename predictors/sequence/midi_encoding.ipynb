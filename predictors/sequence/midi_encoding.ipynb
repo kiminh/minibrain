{
 "cells": [
  {
   "cell_type": "markdown",
   "metadata": {},
   "source": [
    "# MIDI encoding analysis"
   ]
  },
  {
   "cell_type": "markdown",
   "metadata": {},
   "source": [
    "This document contains a complete description step by step of the process and ideas behind the proposed encodings, it might be long.\n",
    "\n",
    "## TLDR:\n",
    "\n",
    "The encoding instead of being a huge one-hot vector (dimension 4708) it can be separated in several inputs each of them a one-hot vector of lower dimensionality and a time encoding given by a sum of sinusoids with different period. \n",
    "\n",
    "The source code is provided to automatically do the encoding as a python package with numpy."
   ]
  },
  {
   "cell_type": "markdown",
   "metadata": {},
   "source": [
    "Current encoding based in the Magenta project has the following properties:\n",
    " - Time is detached as a separate TIME_SHIFT event\n",
    " - code is one hot of all the "
   ]
  },
  {
   "cell_type": "markdown",
   "metadata": {},
   "source": [
    "## Introduction\n",
    "\n",
    "This current analysis tries to find another alternative encoding to try in conjunction with the previous one. \n",
    "\n",
    "The idea of the current analysis is to discuss the following points:\n",
    " - Try to find a code that takes less space\n",
    " - Argue that alternative time-coding could be worth trying\n",
    " \n",
    "The current encoding separates a TIME_SHIFT event as a separate event, in my opinion the time of an event is an intrinsic property of it, so separating it might make more difficult for the network to learn what the time means. \n",
    "\n",
    "The other issue is that similar structures (in music as well as in other kind of languages) might repeat at different time scales, the fact that the time event is treated as one separate event with it's own duration (actually 100 different types of TIME_SHIFT event) might make it harder to the network to detect patterns. This added to the high number of input features (4708) makes me think that the training time and number of samples needed for the training might be big."
   ]
  },
  {
   "cell_type": "code",
   "execution_count": 1,
   "metadata": {},
   "outputs": [
    {
     "data": {
      "text/plain": [
       "4708"
      ]
     },
     "execution_count": 1,
     "metadata": {},
     "output_type": "execute_result"
    }
   ],
   "source": [
    "# current input one-hot vector dimension\n",
    "16*128*2+32*16+100"
   ]
  },
  {
   "cell_type": "markdown",
   "metadata": {},
   "source": [
    "In this study I propose another way of encoding that I would like to try reducing the number of features between 1 and 2 orders of magnitude and providing a Fourier series approximation inspired time and velocity approximation.\n",
    "\n",
    "I know that is not a traditional encoding, but I think might be worth trying (specially as I don't have so many computational resources)"
   ]
  },
  {
   "cell_type": "markdown",
   "metadata": {},
   "source": [
    "## Basic Idea Description\n",
    "\n",
    "The basic idea is that a feature vector will be composed of several different features (7) encoded in different ways\n",
    "\n",
    "From a midi file extract:\n",
    "\n",
    "Event = [instrument, octave, note(s), action (on|off), velocity, time]"
   ]
  },
  {
   "cell_type": "markdown",
   "metadata": {},
   "source": [
    "### Codes:\n",
    "\n",
    "* instrument: (one|multi?) hot encoding: 16 instruments, many instruments can start or finish at the same time\n",
    "* octave: (one|multi?) hot encoding: 11 octaves, many octaves can have an event at the same time\n",
    "* note(s): (one|multi?) hot encoding: 12 notes per octave, many notes can start or finish at the same time\n",
    "* action (on|off): one hot\n",
    "* velocity: either a sampled (maybe 32 as the current approach) one-hot encoding, or a fourier inspired approach\n",
    "* time: Fourier inspired approach to encoding"
   ]
  },
  {
   "cell_type": "markdown",
   "metadata": {},
   "source": [
    "### Encoding Problems & Questions\n",
    "\n",
    "As there might be more than 1 note, octave or instrument event at the same this could be dealt as:\n",
    "1. doing an actual one-hot encoding and separating all the events, but writing the same event time -> can this confuse the network??\n",
    "2. doing a multi-hot encoding and trying to find out a way ouf of this during the decoding stage (something like auto-correlation or a sort of dynamic-routing ? ) This would also mix the signals of the velocity of each note, which is problematic for the purpose of the exercise."
   ]
  },
  {
   "cell_type": "markdown",
   "metadata": {},
   "source": [
    "### Features candidates for One-hot Encoding\n",
    "\n",
    "As MIDI events are independent (each note on|off event of a single instrument is a different event) and for the purpose of this encoding proposal the solution would be to do actual one-hot encoding and separate all the events. A single event will correspond to a single instrument and note event with the corresponding velocity and time encoding.\n",
    " "
   ]
  },
  {
   "cell_type": "code",
   "execution_count": 2,
   "metadata": {},
   "outputs": [
    {
     "data": {
      "text/plain": [
       "11.0"
      ]
     },
     "execution_count": 2,
     "metadata": {},
     "output_type": "execute_result"
    }
   ],
   "source": [
    "# computation of the number of octaves needed for the encoding\n",
    "import numpy as np\n",
    "np.ceil(128/12.)"
   ]
  },
  {
   "cell_type": "code",
   "execution_count": 3,
   "metadata": {},
   "outputs": [
    {
     "data": {
      "text/plain": [
       "41"
      ]
     },
     "execution_count": 3,
     "metadata": {},
     "output_type": "execute_result"
    }
   ],
   "source": [
    "# dimensionality analysis -> basic (one)-hot encoding\n",
    "16 + 11 + 12 + 2"
   ]
  },
  {
   "cell_type": "markdown",
   "metadata": {},
   "source": [
    "The basic coding of the event will contain a minimum of 41 dimensions to which must be added the encoding of the velocity and time encoding"
   ]
  },
  {
   "cell_type": "markdown",
   "metadata": {},
   "source": [
    "### Velocity encoding\n",
    "\n",
    "Both solutions are presented here, One-Hot Encoding and Fourier Inspired Encoding."
   ]
  },
  {
   "cell_type": "markdown",
   "metadata": {},
   "source": [
    "#### One-Hot encoding of Velocity\n",
    "\n",
    "In this case the same number of velocities will be used as in the current approach, this means that the velocity vector will have a dimension of 32"
   ]
  },
  {
   "cell_type": "markdown",
   "metadata": {},
   "source": [
    "#### Sinusoidal (Fourier Inspired) Encoding of Velocity\n",
    "\n",
    "The resolution that is looked at is to be able to differentiate at least 32 different velocities.\n",
    "\n",
    "As a description later on time encoding analysis will show, we can deal with a resolution of 256 velocities with $ 256 = 2^8 $ sinusoidals which would take the dimensionality of the input to $ 41 + 8 = 49 $\n",
    "\n",
    "For a resolution of 32 velocities we need only $ 32 = 2^5 $ for a the dimensionality of the input to $ 41 + 5 = 46 $\n"
   ]
  },
  {
   "cell_type": "code",
   "execution_count": 4,
   "metadata": {},
   "outputs": [
    {
     "data": {
      "text/plain": [
       "(256, 32)"
      ]
     },
     "execution_count": 4,
     "metadata": {},
     "output_type": "execute_result"
    }
   ],
   "source": [
    "2**8, 2**5"
   ]
  },
  {
   "cell_type": "markdown",
   "metadata": {},
   "source": [
    "## Time encoding \n",
    "\n",
    "\n",
    "### Why not linear encoding?\n",
    "\n",
    "Let's do a simple linear function, this can not hold as it diverges\n",
    "\n",
    "Let's imaging an encoding where the time is cutted in 3 different parts:\n",
    "* milliseconds\n",
    "* seconds\n",
    "* minutes\n",
    "\n",
    "the functions will be linear in a range, but will have undefined elements at the borders, the derivatives are undefined there and the NNs are shown that they do not behave nice with these kind of functions\n",
    "\n",
    "Then we can think of a continuous function, sinusoidal ones are really good for this, well studied and implemented in every standard library.\n",
    "\n"
   ]
  },
  {
   "cell_type": "markdown",
   "metadata": {},
   "source": [
    "### Time resolution Analysis\n",
    "\n",
    "Now let's think for a moment from the point of view of listening to  music (instead of time passing) for this we'd like a time resolution: \n",
    "\n",
    "* maximum (desired) 10 milliseconds.\n",
    "* minimum about 10 minutes ... ? let's take 10 minutes for the sake of this example (could be more or less depending on the needed domain)\n",
    "\n",
    "_Note_: There are studies on real-time [latency issue](https://dl.acm.org/citation.cfm?id=1085892) but is not of our concern here.\n",
    "\n",
    "For a perfect reconstruction the sampling frequency to discretize a function is given by the [Nyquist theorem](https://en.wikipedia.org/wiki/Nyquist%E2%80%93Shannon_sampling_theorem):\n",
    "\n",
    "    If a function x(t) contains no frequencies higher than B hertz, \n",
    "    it is completely determined by giving its ordinates at a series \n",
    "    of points spaced 1/(2B) seconds apart.\n",
    "    \n",
    "Which means that for a *perfect* reconstruction for a given sample rate $fs$ is guaranteed for a *Bandlimit* $B < fs/2$\n",
    "\n",
    "Let's imagine that we want to approximate the time for a minimum and maximum time interval, we could use sum of sinusoids to approximate it. \n",
    "\n",
    "In our case $B = 100Hz $ for the maximum frequency (100 times 10 ms for 1 sec), hence the sampling rate would be *5ms*, taking in account that also there will be reconstruction errors and some other issues we could argue that $ fs<5ms $ let's say $ 4ms $ to be sure \n",
    "\n",
    "And for the case of the 10 minutes one, this gives us $ 10*60 = 600 s $ so $ 1/600 ~ 0.00167Hz =>  fs < 0.000833Hz $\n",
    "\n",
    "As a reference the human hearing resolution is about $ 20KHz $ and the CD sampling is $ 44.1KHz $ "
   ]
  },
  {
   "cell_type": "code",
   "execution_count": 5,
   "metadata": {},
   "outputs": [
    {
     "data": {
      "text/plain": [
       "(0.0016666666666666668, 0.0008333333333333334)"
      ]
     },
     "execution_count": 5,
     "metadata": {},
     "output_type": "execute_result"
    }
   ],
   "source": [
    "f = (1./600)\n",
    "fs = f/2\n",
    "f,fs"
   ]
  },
  {
   "cell_type": "markdown",
   "metadata": {},
   "source": [
    "### Time encoding details\n",
    "\n",
    "\n",
    "First let's put here some reference Formulas\n",
    "\n",
    "*Euler's Formula* \n",
    "\\begin{equation}\n",
    " e^{ix} = cos(x) + i\\sin(x)\n",
    "\\end{equation}\n",
    "\n",
    "\\begin{equation}\n",
    " cos(x) = \\frac{e^{ix} + e^{-ix} } {2}\n",
    "\\end{equation}\n",
    "\n",
    "\\begin{equation}\n",
    " sin(x) = \\frac{e^{ix} - e^{-ix} } {2 i }\n",
    "\\end{equation}\n",
    "\n",
    "\n",
    "*Fourier Series* \n",
    "\n",
    "\\begin{equation}\n",
    "f(x) = \\sum_{n=-\\infty}^\\infty(c_n(f) e^{i2\\pi {n/T} x} )\n",
    "\\end{equation}\n",
    "where\n",
    "\\begin{equation}\n",
    "c_n(f) = \\frac{1}{T} \\int_{-T/2}^{T/2} ( f(t) e^{-i2\\pi {n/T} x} ) \n",
    "\\end{equation}"
   ]
  },
  {
   "cell_type": "markdown",
   "metadata": {},
   "source": [
    "In our case there is no need to go so far as using the Fourier Series but this gives an inspiration on how to encode the values. \n",
    "Also we don't want (or even need):\n",
    " - the complete series $ [-\\infty,\\infty] $ but enough values that allows us to reconstruct well enough our function\n",
    " - to know the * Fourier Coefficients* $ c_n $ we don't need to compute the integral but we can estimate their values (done later)\n",
    "\n",
    "We could use either the *Complex Domain* values or go for the *Discrete Cosine Transform* but we'll do something simpler that is choosing sinusoidals"
   ]
  },
  {
   "cell_type": "markdown",
   "metadata": {},
   "source": [
    "Let's come back to time and think how we can encode the time, which is a linear function that just grows.\n",
    "\n",
    "For this analysis we constrain the time to be only a segment between $ 0s $ and a max value $ Ms $ in seconds\n",
    "\n",
    "To be able to recreate the original function we would need a series of functions that can represent elements that go from the maximum to the minimum resolution.\n",
    "\n",
    "Let the first sinusoidal represent the values up to the period $ T = 5ms = 0.005s $ and the last one $ Ms $ \n",
    "\n",
    "Now let's work directly in milliseconds and forget about the unit, which for the purpose of the experiment does not affect the result as long as we can reconstruct the input correctly.\n",
    "\n",
    "We can encode any value between $ [0,5]ms $ , for the next we can duplicate the period $ T $ and we'll get the next resolution level. Advancing like this we need at least $ n $ values such as $ 2^n >= M $ and for the minimum resolution we need at most $ n $ values such as $ 2^n < 5 $\n",
    "\n",
    "This can be quickly achieved with a bit shifting trick:\n"
   ]
  },
  {
   "cell_type": "code",
   "execution_count": 6,
   "metadata": {},
   "outputs": [],
   "source": [
    "def get_upper_pow2(M):\n",
    "    i = 1\n",
    "    n = 0\n",
    "    while (i <= M):\n",
    "        i = i << 1\n",
    "        n+=1\n",
    "    return n,i\n",
    "\n",
    "def get_lower_pow2(M):\n",
    "    i = 1\n",
    "    n = -1\n",
    "    while (i <= M):\n",
    "        i = i << 1\n",
    "        n+=1\n",
    "    return n,i"
   ]
  },
  {
   "cell_type": "code",
   "execution_count": 7,
   "metadata": {},
   "outputs": [
    {
     "name": "stdout",
     "output_type": "stream",
     "text": [
      "1 16 65536\n",
      "2 17 131072\n",
      "3 18 262144\n",
      "4 18 262144\n",
      "5 19 524288\n",
      "6 19 524288\n",
      "7 19 524288\n",
      "8 19 524288\n",
      "9 20 1048576\n",
      "10 20 1048576\n"
     ]
    }
   ],
   "source": [
    "for m in range (1,11): # iterating to show the vector dimension needed for each minute increment resolution\n",
    "    M = m * 60 * 1000 # 10 minutes, 60 seconds per minute 1000 ms -> putting all into\n",
    "    n,i = get_upper_pow2(M)\n",
    "    print( m, n, i)"
   ]
  },
  {
   "cell_type": "code",
   "execution_count": 8,
   "metadata": {},
   "outputs": [
    {
     "data": {
      "text/plain": [
       "(2, 8)"
      ]
     },
     "execution_count": 8,
     "metadata": {},
     "output_type": "execute_result"
    }
   ],
   "source": [
    "# and the smallest resolution:\n",
    "get_lower_pow2(5)"
   ]
  },
  {
   "cell_type": "markdown",
   "metadata": {},
   "source": [
    "Which means that we can encode 10 minutes worth of music with a $ 20 - 2 = 18 $ dimensional vector, $ 36 $ if we count a complex-value vector. \n",
    "\n",
    "\n",
    "For a total of $ 46 + 36 = 82 $ dimensions instead of $ 4708 $\n"
   ]
  },
  {
   "cell_type": "code",
   "execution_count": 9,
   "metadata": {},
   "outputs": [
    {
     "data": {
      "text/plain": [
       "(1-2.4492935982947064e-16j)"
      ]
     },
     "execution_count": 9,
     "metadata": {},
     "output_type": "execute_result"
    }
   ],
   "source": [
    "np.exp(2j*np.pi)"
   ]
  },
  {
   "cell_type": "code",
   "execution_count": 10,
   "metadata": {},
   "outputs": [],
   "source": [
    "class WaveEncoder():\n",
    "    \n",
    "    def __init__(self, min_val, max_val):\n",
    "        self.min = min_val\n",
    "        self.max = max_val\n",
    "        self.n_low = self.get_lower_pow2(min_val)\n",
    "        self.n_high =  self.get_upper_pow2(max_val)\n",
    "        self.n = self.n_high - self.n_low \n",
    "        \n",
    "    \n",
    "    def encode(self, x):\n",
    "        vec = [] # np.empty_like(x)\n",
    "        for i in range(self.n_low, self.n_high):\n",
    "            T = 2**i\n",
    "            # # vec.append(np.exp(2*np.pi * x / T )) ##\n",
    "            val = np.stack( (np.cos(x / T), np.sin(x / T) ))\n",
    "            vec.append(val)\n",
    "#             print(val.shape)\n",
    "#         print(len(vec))\n",
    "        ret = np.stack(vec)\n",
    "#         print(ret.shape)\n",
    "        return ret\n",
    "    \n",
    "    def decode(self, vec):\n",
    "        x = 0\n",
    "        scale_factor = []\n",
    "        for i in range(self.n_low, self.n_high):\n",
    "            T = 2**i\n",
    "            scale_factor.append((T/self.n, T/self.n))\n",
    "        scale_factor = np.array(scale_factor)\n",
    "        tx = vec * scale_factor[:,:,None]\n",
    "        tx = np.sum(tx, axis=0)\n",
    "        x += np.diff(tx, axis=0)\n",
    "        return x\n",
    "    \n",
    "    def get_upper_pow2(self, M):\n",
    "        i = 1\n",
    "        n = 0\n",
    "        while (i <= M):\n",
    "            i = i << 1\n",
    "            n+=1\n",
    "        return n\n",
    "\n",
    "    def get_lower_pow2(self, m):\n",
    "        i = 1\n",
    "        n = -1\n",
    "        while (i <= m):\n",
    "            i = i << 1\n",
    "            n+=1\n",
    "        return n"
   ]
  },
  {
   "cell_type": "code",
   "execution_count": 11,
   "metadata": {},
   "outputs": [],
   "source": [
    "we = WaveEncoder(5,10000)"
   ]
  },
  {
   "cell_type": "code",
   "execution_count": 12,
   "metadata": {},
   "outputs": [],
   "source": [
    "l = np.linspace(0,10000,10000)"
   ]
  },
  {
   "cell_type": "code",
   "execution_count": 13,
   "metadata": {},
   "outputs": [],
   "source": [
    "import matplotlib.pyplot as plt\n",
    "%matplotlib inline"
   ]
  },
  {
   "cell_type": "code",
   "execution_count": 14,
   "metadata": {},
   "outputs": [
    {
     "data": {
      "text/plain": [
       "[<matplotlib.lines.Line2D at 0x7fd3a30465c0>]"
      ]
     },
     "execution_count": 14,
     "metadata": {},
     "output_type": "execute_result"
    },
    {
     "data": {
      "image/png": "[encoded data removed]",
      "text/plain": [
       "<matplotlib.figure.Figure at 0x7fd3a5335278>"
      ]
     },
     "metadata": {},
     "output_type": "display_data"
    }
   ],
   "source": [
    "plt.plot(l)"
   ]
  },
  {
   "cell_type": "code",
   "execution_count": 15,
   "metadata": {},
   "outputs": [],
   "source": [
    "el  = we.encode(l)"
   ]
  },
  {
   "cell_type": "code",
   "execution_count": 16,
   "metadata": {},
   "outputs": [
    {
     "data": {
      "text/plain": [
       "(12, 2, 10000)"
      ]
     },
     "execution_count": 16,
     "metadata": {},
     "output_type": "execute_result"
    }
   ],
   "source": [
    "el.shape"
   ]
  },
  {
   "cell_type": "code",
   "execution_count": 17,
   "metadata": {},
   "outputs": [],
   "source": [
    "dl = we.decode(el)"
   ]
  },
  {
   "cell_type": "code",
   "execution_count": 18,
   "metadata": {},
   "outputs": [
    {
     "data": {
      "text/plain": [
       "(1, 10000)"
      ]
     },
     "execution_count": 18,
     "metadata": {},
     "output_type": "execute_result"
    }
   ],
   "source": [
    "dl.shape"
   ]
  },
  {
   "cell_type": "code",
   "execution_count": 19,
   "metadata": {},
   "outputs": [
    {
     "data": {
      "text/plain": [
       "[<matplotlib.lines.Line2D at 0x7fd3a309bda0>]"
      ]
     },
     "execution_count": 19,
     "metadata": {},
     "output_type": "execute_result"
    },
    {
     "data": {
      "image/png": "[encoded data removed]",
      "text/plain": [
       "<matplotlib.figure.Figure at 0x7fd3a2fe7550>"
      ]
     },
     "metadata": {},
     "output_type": "display_data"
    }
   ],
   "source": [
    "plt.plot(dl.T)"
   ]
  },
  {
   "cell_type": "code",
   "execution_count": 20,
   "metadata": {},
   "outputs": [
    {
     "data": {
      "text/plain": [
       "(2, 2, 3)"
      ]
     },
     "execution_count": 20,
     "metadata": {},
     "output_type": "execute_result"
    }
   ],
   "source": [
    "a = np.array([[1, 2, 3], [7,8,9]])\n",
    "b = np.array([[2, 3, 4], [70,80,90]])\n",
    "\n",
    "np.stack((a, b)).shape"
   ]
  },
  {
   "cell_type": "code",
   "execution_count": 21,
   "metadata": {},
   "outputs": [],
   "source": [
    "v = []\n",
    "for i in range(1,11):\n",
    "    w = []\n",
    "    for j in range(11,17):\n",
    "        w.append([i, i * j])\n",
    "    v.append(w)"
   ]
  },
  {
   "cell_type": "code",
   "execution_count": 22,
   "metadata": {},
   "outputs": [
    {
     "data": {
      "text/plain": [
       "[[[1, 11], [1, 12], [1, 13], [1, 14], [1, 15], [1, 16]],\n",
       " [[2, 22], [2, 24], [2, 26], [2, 28], [2, 30], [2, 32]],\n",
       " [[3, 33], [3, 36], [3, 39], [3, 42], [3, 45], [3, 48]],\n",
       " [[4, 44], [4, 48], [4, 52], [4, 56], [4, 60], [4, 64]],\n",
       " [[5, 55], [5, 60], [5, 65], [5, 70], [5, 75], [5, 80]],\n",
       " [[6, 66], [6, 72], [6, 78], [6, 84], [6, 90], [6, 96]],\n",
       " [[7, 77], [7, 84], [7, 91], [7, 98], [7, 105], [7, 112]],\n",
       " [[8, 88], [8, 96], [8, 104], [8, 112], [8, 120], [8, 128]],\n",
       " [[9, 99], [9, 108], [9, 117], [9, 126], [9, 135], [9, 144]],\n",
       " [[10, 110], [10, 120], [10, 130], [10, 140], [10, 150], [10, 160]]]"
      ]
     },
     "execution_count": 22,
     "metadata": {},
     "output_type": "execute_result"
    }
   ],
   "source": [
    "v"
   ]
  },
  {
   "cell_type": "code",
   "execution_count": 23,
   "metadata": {},
   "outputs": [
    {
     "data": {
      "text/plain": [
       "(10, 6, 2)"
      ]
     },
     "execution_count": 23,
     "metadata": {},
     "output_type": "execute_result"
    }
   ],
   "source": [
    "np.stack(v).shape"
   ]
  },
  {
   "cell_type": "code",
   "execution_count": null,
   "metadata": {},
   "outputs": [],
   "source": []
  }
 ],
 "metadata": {
  "kernelspec": {
   "display_name": "Python 3",
   "language": "python",
   "name": "python3"
  },
  "language_info": {
   "codemirror_mode": {
    "name": "ipython",
    "version": 3
   },
   "file_extension": ".py",
   "mimetype": "text/x-python",
   "name": "python",
   "nbconvert_exporter": "python",
   "pygments_lexer": "ipython3",
   "version": "3.5.2"
  }
 },
 "nbformat": 4,
 "nbformat_minor": 2
}
