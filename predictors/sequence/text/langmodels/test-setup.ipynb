{
 "cells": [
  {
   "cell_type": "code",
   "execution_count": 1,
   "metadata": {},
   "outputs": [],
   "source": [
    "import torch\n",
    "import torch.nn as nn\n",
    "import torch.optim as optim\n",
    "import torch.nn.functional as F\n",
    "from torchsummary import summary\n",
    "\n",
    "import numpy as np\n",
    "import pickle\n",
    "import tqdm\n",
    "\n",
    "import itertools\n",
    "from itertools import islice\n"
   ]
  },
  {
   "cell_type": "code",
   "execution_count": 2,
   "metadata": {},
   "outputs": [],
   "source": [
    "import urllib.request\n",
    "import shutil\n",
    "import zipfile\n",
    "import os\n",
    "import pickle\n",
    "from collections import Counter\n",
    "import numpy as np"
   ]
  },
  {
   "cell_type": "code",
   "execution_count": 3,
   "metadata": {},
   "outputs": [],
   "source": [
    "# %load_ext autoreload\n",
    "# %autoreload 2\n",
    "from column_models import *"
   ]
  },
  {
   "cell_type": "code",
   "execution_count": 4,
   "metadata": {},
   "outputs": [],
   "source": [
    "\n",
    "url = 'http://mattmahoney.net/dc/text8.zip'\n",
    "filename = 'text8.zip'\n",
    "train_size = 99000000\n",
    "\n",
    "if not os.path.isfile(filename):\n",
    "    print('Downloading text8 dataset...')\n",
    "\n",
    "    with urllib.request.urlopen(url) as response, \\\n",
    "        open(filename, 'wb') as outfile:\n",
    "        shutil.copyfileobj(response, outfile)\n",
    "\n",
    "rawdata = zipfile.ZipFile(filename).read('text8').decode('utf-8')"
   ]
  },
  {
   "cell_type": "code",
   "execution_count": 5,
   "metadata": {},
   "outputs": [
    {
     "data": {
      "text/plain": [
       "100000000"
      ]
     },
     "execution_count": 5,
     "metadata": {},
     "output_type": "execute_result"
    }
   ],
   "source": [
    "len(rawdata)"
   ]
  },
  {
   "cell_type": "code",
   "execution_count": 6,
   "metadata": {},
   "outputs": [
    {
     "data": {
      "text/plain": [
       "' anarchism originated as a term of abuse first used against early working class radicals including the diggers of the english revolution and the sans culottes of the french revolution whilst the term '"
      ]
     },
     "execution_count": 6,
     "metadata": {},
     "output_type": "execute_result"
    }
   ],
   "source": [
    "rawdata[:200]"
   ]
  },
  {
   "cell_type": "code",
   "execution_count": 7,
   "metadata": {},
   "outputs": [],
   "source": [
    "# train_split = rawdata[:train_size]\n",
    "# valid_split = rawdata[train_size:]\n",
    "\n",
    "# vocab = Counter()"
   ]
  },
  {
   "cell_type": "code",
   "execution_count": 8,
   "metadata": {},
   "outputs": [],
   "source": [
    "\n",
    "# for c in train_split:\n",
    "#     vocab[c] += 1\n",
    "\n",
    "# vocab_cut = {k: v for k, v in vocab.items() if v > 10}\n",
    "# vocab_sorted = sorted(vocab_cut.items(), key=lambda x: x[1], reverse=True)\n",
    "# wordmap = {k: id + 1 for id, (k, _) in enumerate(vocab_sorted)}\n"
   ]
  },
  {
   "cell_type": "code",
   "execution_count": 9,
   "metadata": {},
   "outputs": [],
   "source": [
    "# len(wordmap)"
   ]
  },
  {
   "cell_type": "code",
   "execution_count": 10,
   "metadata": {},
   "outputs": [],
   "source": [
    "# wordmap"
   ]
  },
  {
   "cell_type": "code",
   "execution_count": 11,
   "metadata": {},
   "outputs": [],
   "source": [
    "# word_to_ix = {\"hello\": 0, \"world\": 1}\n",
    "# embeds = nn.Embedding(2, 5)  # 2 words in vocab, 5 dimensional embeddings\n",
    "# lookup_tensor = torch.tensor([word_to_ix[\"hello\"]], dtype=torch.long)\n",
    "# hello_embed = embeds(lookup_tensor)\n",
    "# print(hello_embed)"
   ]
  },
  {
   "cell_type": "code",
   "execution_count": 12,
   "metadata": {},
   "outputs": [],
   "source": [
    "# print(embeds(torch.tensor([0,0,0,1], dtype=torch.long)))\n",
    "# print(embeds(torch.tensor(1, dtype=torch.long)))"
   ]
  },
  {
   "cell_type": "code",
   "execution_count": 13,
   "metadata": {},
   "outputs": [],
   "source": [
    "## This is not THE most efficient thing, is a step to learn ... alter will deal with memory issues\n",
    "# to change things for the better the input text should be read by chunks\n",
    "\n",
    "# splicing through the text such as to create the input vectors\n",
    "def get_next_batch_txt(in_txt, index=0, char_len=1024, step=128, batch_size=128):\n",
    "    \"\"\"\n",
    "    Returns a generator of batches for the given input.\n",
    "    \n",
    "    :param in_txt: text used to generate the tensor data\n",
    "    :param index: index where to begin the next batch\n",
    "    :param char_len: number of characters lenght of the tensor\n",
    "    :param step: number of characters to jump for the next step (we don't want to repeat too many things ... )\n",
    "    :param batch_size: number of samples in each batch\n",
    "    \n",
    "    :returns A generator of batches for the given input with dimension [seq_len,batch_size,1]\n",
    "    \n",
    "    \"\"\"\n",
    "    ret = []\n",
    "    for b in range(batch_size):\n",
    "        # get the new part\n",
    "#         print(\"get next \", index)\n",
    "        ret.append(in_txt[index:min(index+char_len, len(in_txt)-1)])\n",
    "        # go to next\n",
    "        index += step\n",
    "        if index >= len(in_txt) - step:\n",
    "            index = -1\n",
    "            break\n",
    "        \n",
    "    # tensorize\n",
    "    \n",
    "    # TODO now make sure all the parts are equal, else complete with\n",
    "    return ret, index\n",
    "    \n",
    "# simple tokenizer, should do something to make it fast instead of char by char ... ?\n",
    "def tokenize_txt(txt, tokendict, dim):\n",
    "    \"\"\"\n",
    "    \n",
    "    \"\"\"\n",
    "    ret = np.empty(dim)\n",
    "    for i in range(len(txt)):\n",
    "        c = txt[i]\n",
    "        if c in tokendict:\n",
    "            ret[i] = tokendict[c]\n",
    "        else:\n",
    "            ret[i] = 0\n",
    "    return ret\n",
    "    \n",
    "\n",
    "def tokenize_batch(batch, tokendict, dim):\n",
    "    \"\"\"\n",
    "    \"\"\"\n",
    "    ret = []\n",
    "    for b in batch:\n",
    "        ret.append(tokenize_txt(b, tokendict,dim))\n",
    "    return np.stack(ret)    \n",
    "    \n",
    "    \n",
    "def tensorize_batch(batch):\n",
    "    \"\"\"\n",
    "    \n",
    "    \"\"\"\n",
    "    # shape should be ?? (batch_size, one_hot, sequence_width) <<- the first one and NOT: (seq_len, batch_size, input_size)\n",
    "    # so as an example could be: (1024, 128, 1) where there are 1024 for each of the 128 batches and each char is dim 1\n",
    "    # this is BEFORE the embedding layer\n",
    "    #TODO\n",
    "#     ret = torch.tensor(batch.transpose(0,1)).unsqueeze(1).long()\n",
    "#     ret = torch.tensor(batch.transpose(0,1)).unsqueeze(0).long()\n",
    "#     ret = torch.tensor(batch.transpose(0,1)).long()\n",
    "    ret = torch.tensor(batch).long()  # .transpose(1,2)\n",
    "    return ret\n",
    "    \n",
    "    "
   ]
  },
  {
   "cell_type": "code",
   "execution_count": 14,
   "metadata": {},
   "outputs": [],
   "source": [
    "def get_all_batches(txt, token_dict, char_len=1024, step=128, batch_size=128):\n",
    "    index = 0\n",
    "#     batches = []\n",
    "    while index >= 0:\n",
    "#         print(index)\n",
    "        batch, index = get_next_batch_txt(txt, index, char_len, step, batch_size)\n",
    "        tok = tokenize_batch(batch, token_dict, char_len)\n",
    "        tens = tensorize_batch(tok)\n",
    "#         batches.append(batch)  # yield batch\n",
    "        yield batch, tok, tens\n",
    "#     return batches"
   ]
  },
  {
   "cell_type": "code",
   "execution_count": 15,
   "metadata": {
    "scrolled": true
   },
   "outputs": [],
   "source": [
    "# list(get_all_batches(rawdata[:100], txt2num_2seg, 20, 5, 12))"
   ]
  },
  {
   "cell_type": "code",
   "execution_count": 16,
   "metadata": {},
   "outputs": [],
   "source": [
    "# batch_gen = get_all_batches(rawdata[:100], txt2num_2seg, 1024, 128, 128)"
   ]
  },
  {
   "cell_type": "code",
   "execution_count": 17,
   "metadata": {},
   "outputs": [],
   "source": [
    "in_txt = rawdata\n",
    "index=0\n",
    "char_len=1024\n",
    "step=128\n",
    "batch_size=128"
   ]
  },
  {
   "cell_type": "code",
   "execution_count": 18,
   "metadata": {},
   "outputs": [],
   "source": [
    "# txtbatch = get_next_batch_txt(in_txt, index=0, char_len=1024, step=128, batch_size=128)\n",
    "# tok_batch = tokenize_batch(txtbatch, txt2num_2seg, char_len)\n",
    "# ten_batch = tensorize_batch(tok_batch)"
   ]
  },
  {
   "cell_type": "code",
   "execution_count": 19,
   "metadata": {},
   "outputs": [],
   "source": [
    "# utf8codes.shape"
   ]
  },
  {
   "cell_type": "code",
   "execution_count": 20,
   "metadata": {},
   "outputs": [],
   "source": [
    "# embeds = nn.Embedding(*(utf8codes.shape))"
   ]
  },
  {
   "cell_type": "code",
   "execution_count": 21,
   "metadata": {},
   "outputs": [],
   "source": [
    "# embeds.weight.data.copy_(torch.from_numpy(utf8codes))"
   ]
  },
  {
   "cell_type": "code",
   "execution_count": 22,
   "metadata": {},
   "outputs": [],
   "source": [
    "# print(embeds(torch.tensor([0,0,0,1], dtype=torch.long)))\n"
   ]
  },
  {
   "cell_type": "code",
   "execution_count": 23,
   "metadata": {},
   "outputs": [],
   "source": [
    "def save_obj(obj, name ):\n",
    "    with open(name + '.pkl', 'wb') as f:\n",
    "        pickle.dump(obj, f, pickle.HIGHEST_PROTOCOL)\n",
    "\n",
    "\n",
    "def load_obj(name):\n",
    "    with open(name + '.pkl', 'rb') as f:\n",
    "        return pickle.load(f)"
   ]
  },
  {
   "cell_type": "code",
   "execution_count": 24,
   "metadata": {},
   "outputs": [
    {
     "name": "stdout",
     "output_type": "stream",
     "text": [
      "code2txt_2seg.pkl.pkl  txt2code_2seg.pkl.pkl  utf8_code_matrix_2seg.pkl.npy\n",
      "code2txt_3seg.pkl.pkl  txt2code_3seg.pkl.pkl  utf8_code_matrix_3seg.pkl.npy\n",
      "num2txt_2seg.pkl.pkl   txt2num_2seg.pkl.pkl\n",
      "num2txt_3seg.pkl.pkl   txt2num_3seg.pkl.pkl\n"
     ]
    }
   ],
   "source": [
    "ls ../utf8-codes/"
   ]
  },
  {
   "cell_type": "code",
   "execution_count": 25,
   "metadata": {},
   "outputs": [],
   "source": [
    "# load the UTF-8 codes \n",
    "utf8codes = np.load(\"../utf8-codes/utf8_code_matrix_2seg.pkl.npy\")\n",
    "txt2code_2seg = load_obj(\"../utf8-codes/txt2code_2seg.pkl\")\n",
    "code2txt_2seg = load_obj(\"../utf8-codes/code2txt_2seg.pkl\")\n",
    "txt2num_2seg = load_obj(\"../utf8-codes/txt2num_2seg.pkl\")\n",
    "num2txt_2seg = load_obj(\"../utf8-codes/num2txt_2seg.pkl\")\n"
   ]
  },
  {
   "cell_type": "code",
   "execution_count": 26,
   "metadata": {},
   "outputs": [
    {
     "data": {
      "text/plain": [
       "97"
      ]
     },
     "execution_count": 26,
     "metadata": {},
     "output_type": "execute_result"
    }
   ],
   "source": [
    "txt2num_2seg['a']"
   ]
  },
  {
   "cell_type": "code",
   "execution_count": 27,
   "metadata": {},
   "outputs": [
    {
     "data": {
      "text/plain": [
       "(1984, 324)"
      ]
     },
     "execution_count": 27,
     "metadata": {},
     "output_type": "execute_result"
    }
   ],
   "source": [
    "utf8codes.shape"
   ]
  },
  {
   "cell_type": "code",
   "execution_count": 28,
   "metadata": {},
   "outputs": [],
   "source": [
    "# model = FFColNet(utf8codes)"
   ]
  },
  {
   "cell_type": "code",
   "execution_count": 29,
   "metadata": {},
   "outputs": [],
   "source": [
    "device = torch.device(\"cuda:0\" if torch.cuda.is_available() else \"cpu\")"
   ]
  },
  {
   "cell_type": "code",
   "execution_count": 30,
   "metadata": {},
   "outputs": [
    {
     "data": {
      "text/plain": [
       "device(type='cuda', index=0)"
      ]
     },
     "execution_count": 30,
     "metadata": {},
     "output_type": "execute_result"
    }
   ],
   "source": [
    "device"
   ]
  },
  {
   "cell_type": "code",
   "execution_count": 31,
   "metadata": {},
   "outputs": [],
   "source": [
    "def train(model, criterion, optimizer, batch_gen):\n",
    "\n",
    "    for b,tok,x in batch_gen:\n",
    "#         x = x.unsqueeze(2).to(device)\n",
    "        x = x.long().to(device)\n",
    "        y = x\n",
    "#         print(x.shape, y.shape)\n",
    "        model.zero_grad()\n",
    "        output = model(x)\n",
    "        ycode = model.embeds(y.long()[:,-128:])\n",
    "#         print(output.shape, ycode.shape, y.shape)\n",
    "        loss = criterion(output, ycode)\n",
    "        loss.backward()\n",
    "#         clip_global_norm(model, 0.25)\n",
    "        torch.nn.utils.clip_grad_norm_(model.parameters(), 0.25)\n",
    "\n",
    "        optimizer.step()\n",
    "        print('Loss: {:.5f}'.format(loss.item()))\n",
    "        break"
   ]
  },
  {
   "cell_type": "code",
   "execution_count": 32,
   "metadata": {},
   "outputs": [],
   "source": [
    "# def prime_factors(n):\n",
    "#     i = 2\n",
    "#     factors = []\n",
    "#     while i * i <= n:\n",
    "#         if n % i:\n",
    "#             i += 1\n",
    "#         else:\n",
    "#             n //= i\n",
    "#             factors.append(i)\n",
    "#     if n > 1:\n",
    "#         factors.append(n)\n",
    "#     return factors\n"
   ]
  },
  {
   "cell_type": "code",
   "execution_count": 33,
   "metadata": {},
   "outputs": [],
   "source": [
    "# prime_factors(324)"
   ]
  },
  {
   "cell_type": "code",
   "execution_count": 34,
   "metadata": {},
   "outputs": [
    {
     "data": {
      "text/plain": [
       "100000000"
      ]
     },
     "execution_count": 34,
     "metadata": {},
     "output_type": "execute_result"
    }
   ],
   "source": [
    "len(rawdata)"
   ]
  },
  {
   "cell_type": "code",
   "execution_count": 35,
   "metadata": {},
   "outputs": [],
   "source": [
    "def count_parameters(model):\n",
    "    return sum(p.numel() for p in model.parameters() if p.requires_grad)"
   ]
  },
  {
   "cell_type": "code",
   "execution_count": 36,
   "metadata": {},
   "outputs": [],
   "source": [
    "# import importlib\n",
    "# importlib.reload('column_models.MixedConvAttentionColumn')\n",
    "# model = FFColNet(utf8codes,1024).to(device)\n",
    "# model = NLPGatedConv1DColumnV1(utf8codes, 324).to(device)\n",
    "# model = MixedConvAttentionColumn(utf8codes, c_in=[324, 64, 128, 128])  # .to(device)\n",
    "# model = MixedConvLinearColumns(utf8codes)\n",
    "# model = MixedConvAttentiveColumns(utf8codes,\n",
    "#                                   channels=[64, 64, 128, 128, 64],  # channels for blocks\n",
    "#                                  b_layers=[5, 5, 5],  # number of layers for each bloc\n",
    "#                                  c_attentive=[64, 64, 64, 64, 64],  # in and out channels of the linear layers inputs\n",
    "#                                  )\n",
    "model = MixedColsTest()\n",
    "# model = MixedColsTest(utf8codes)\n",
    "# model = ConvColumn(utf8codes, c_in=[324, 64, 128, 128]).to(device)\n",
    "model = model.to(device)"
   ]
  },
  {
   "cell_type": "code",
   "execution_count": 37,
   "metadata": {},
   "outputs": [
    {
     "data": {
      "text/plain": [
       "2643456"
      ]
     },
     "execution_count": 37,
     "metadata": {},
     "output_type": "execute_result"
    }
   ],
   "source": [
    "count_parameters(model)"
   ]
  },
  {
   "cell_type": "code",
   "execution_count": 38,
   "metadata": {},
   "outputs": [],
   "source": [
    "criterion = nn.BCEWithLogitsLoss().to(device)  #The problem was the loss function... CrossEntropyLoss()\n",
    "# criterion = nn.NLLLoss().to(device)\n",
    "# optimizer = optim.Adagrad(model.parameters(), lr=0.001, lr_decay=1e-5, weight_decay=1e-5)\n",
    "optimizer = optim.Adam(model.parameters(),lr=1e-3)"
   ]
  },
  {
   "cell_type": "code",
   "execution_count": 39,
   "metadata": {},
   "outputs": [],
   "source": [
    "batch_gen = get_all_batches(rawdata, txt2num_2seg, 1024, 128, 40)"
   ]
  },
  {
   "cell_type": "code",
   "execution_count": 40,
   "metadata": {
    "scrolled": true
   },
   "outputs": [
    {
     "name": "stdout",
     "output_type": "stream",
     "text": [
      "Embedding:  torch.Size([40, 1024])\n",
      "Encoding:  torch.Size([40, 32, 1024])\n",
      "1 mixcol torch.Size([40, 32, 1024]) torch.float32\n",
      "4 mixcol torch.Size([40, 64, 1024])\n",
      "7 mixcol torch.Size([40, 32, 128])\n",
      "decanlp:  torch.Size([40, 32, 16]) torch.Size([40, 32, 16]) torch.Size([40, 32, 16])\n",
      "decanlp:  torch.Size([40, 32, 16]) torch.Size([40, 32, 16]) torch.Size([40, 32, 16])\n",
      "decanlp:  torch.Size([40, 32, 16]) torch.Size([40, 32, 16]) torch.Size([40, 32, 16])\n",
      "decanlp:  torch.Size([40, 32, 16]) torch.Size([40, 32, 16]) torch.Size([40, 32, 16])\n",
      "decanlp:  torch.Size([40, 32, 16]) torch.Size([40, 32, 16]) torch.Size([40, 32, 16])\n",
      "decanlp:  torch.Size([40, 32, 16]) torch.Size([40, 32, 16]) torch.Size([40, 32, 16])\n",
      "decanlp:  torch.Size([40, 32, 16]) torch.Size([40, 32, 16]) torch.Size([40, 32, 16])\n",
      "decanlp:  torch.Size([40, 32, 16]) torch.Size([40, 32, 16]) torch.Size([40, 32, 16])\n",
      "9 mixcol torch.Size([40, 32, 128])\n",
      "decanlp:  torch.Size([40, 64, 16]) torch.Size([40, 64, 16]) torch.Size([40, 64, 16])\n",
      "decanlp:  torch.Size([40, 64, 16]) torch.Size([40, 64, 16]) torch.Size([40, 64, 16])\n",
      "decanlp:  torch.Size([40, 64, 16]) torch.Size([40, 64, 16]) torch.Size([40, 64, 16])\n",
      "decanlp:  torch.Size([40, 64, 16]) torch.Size([40, 64, 16]) torch.Size([40, 64, 16])\n",
      "decanlp:  torch.Size([40, 64, 16]) torch.Size([40, 64, 16]) torch.Size([40, 64, 16])\n",
      "decanlp:  torch.Size([40, 64, 16]) torch.Size([40, 64, 16]) torch.Size([40, 64, 16])\n",
      "decanlp:  torch.Size([40, 64, 16]) torch.Size([40, 64, 16]) torch.Size([40, 64, 16])\n",
      "decanlp:  torch.Size([40, 64, 16]) torch.Size([40, 64, 16]) torch.Size([40, 64, 16])\n",
      "decanlp:  torch.Size([40, 64, 16]) torch.Size([40, 64, 16]) torch.Size([40, 64, 16])\n",
      "decanlp:  torch.Size([40, 64, 16]) torch.Size([40, 64, 16]) torch.Size([40, 64, 16])\n",
      "decanlp:  torch.Size([40, 64, 16]) torch.Size([40, 64, 16]) torch.Size([40, 64, 16])\n",
      "decanlp:  torch.Size([40, 64, 16]) torch.Size([40, 64, 16]) torch.Size([40, 64, 16])\n",
      "decanlp:  torch.Size([40, 64, 16]) torch.Size([40, 64, 16]) torch.Size([40, 64, 16])\n",
      "decanlp:  torch.Size([40, 64, 16]) torch.Size([40, 64, 16]) torch.Size([40, 64, 16])\n",
      "decanlp:  torch.Size([40, 64, 16]) torch.Size([40, 64, 16]) torch.Size([40, 64, 16])\n",
      "decanlp:  torch.Size([40, 64, 16]) torch.Size([40, 64, 16]) torch.Size([40, 64, 16])\n",
      "decanlp:  torch.Size([40, 64, 16]) torch.Size([40, 64, 16]) torch.Size([40, 64, 16])\n",
      "decanlp:  torch.Size([40, 64, 16]) torch.Size([40, 64, 16]) torch.Size([40, 64, 16])\n",
      "decanlp:  torch.Size([40, 64, 16]) torch.Size([40, 64, 16]) torch.Size([40, 64, 16])\n",
      "decanlp:  torch.Size([40, 64, 16]) torch.Size([40, 64, 16]) torch.Size([40, 64, 16])\n",
      "decanlp:  torch.Size([40, 64, 16]) torch.Size([40, 64, 16]) torch.Size([40, 64, 16])\n",
      "decanlp:  torch.Size([40, 64, 16]) torch.Size([40, 64, 16]) torch.Size([40, 64, 16])\n",
      "decanlp:  torch.Size([40, 64, 16]) torch.Size([40, 64, 16]) torch.Size([40, 64, 16])\n",
      "decanlp:  torch.Size([40, 64, 16]) torch.Size([40, 64, 16]) torch.Size([40, 64, 16])\n",
      "decanlp:  torch.Size([40, 64, 16]) torch.Size([40, 64, 16]) torch.Size([40, 64, 16])\n",
      "decanlp:  torch.Size([40, 64, 16]) torch.Size([40, 64, 16]) torch.Size([40, 64, 16])\n",
      "decanlp:  torch.Size([40, 64, 16]) torch.Size([40, 64, 16]) torch.Size([40, 64, 16])\n",
      "decanlp:  torch.Size([40, 64, 16]) torch.Size([40, 64, 16]) torch.Size([40, 64, 16])\n",
      "decanlp:  torch.Size([40, 64, 16]) torch.Size([40, 64, 16]) torch.Size([40, 64, 16])\n",
      "decanlp:  torch.Size([40, 64, 16]) torch.Size([40, 64, 16]) torch.Size([40, 64, 16])\n",
      "decanlp:  torch.Size([40, 64, 16]) torch.Size([40, 64, 16]) torch.Size([40, 64, 16])\n",
      "decanlp:  torch.Size([40, 64, 16]) torch.Size([40, 64, 16]) torch.Size([40, 64, 16])\n",
      "decanlp:  torch.Size([40, 64, 16]) torch.Size([40, 64, 16]) torch.Size([40, 64, 16])\n",
      "decanlp:  torch.Size([40, 64, 16]) torch.Size([40, 64, 16]) torch.Size([40, 64, 16])\n",
      "decanlp:  torch.Size([40, 64, 16]) torch.Size([40, 64, 16]) torch.Size([40, 64, 16])\n",
      "decanlp:  torch.Size([40, 64, 16]) torch.Size([40, 64, 16]) torch.Size([40, 64, 16])\n",
      "decanlp:  torch.Size([40, 64, 16]) torch.Size([40, 64, 16]) torch.Size([40, 64, 16])\n",
      "decanlp:  torch.Size([40, 64, 16]) torch.Size([40, 64, 16]) torch.Size([40, 64, 16])\n",
      "decanlp:  torch.Size([40, 64, 16]) torch.Size([40, 64, 16]) torch.Size([40, 64, 16])\n",
      "decanlp:  torch.Size([40, 64, 16]) torch.Size([40, 64, 16]) torch.Size([40, 64, 16])\n",
      "decanlp:  torch.Size([40, 64, 16]) torch.Size([40, 64, 16]) torch.Size([40, 64, 16])\n",
      "decanlp:  torch.Size([40, 64, 16]) torch.Size([40, 64, 16]) torch.Size([40, 64, 16])\n",
      "decanlp:  torch.Size([40, 64, 16]) torch.Size([40, 64, 16]) torch.Size([40, 64, 16])\n",
      "decanlp:  torch.Size([40, 64, 16]) torch.Size([40, 64, 16]) torch.Size([40, 64, 16])\n",
      "decanlp:  torch.Size([40, 64, 16]) torch.Size([40, 64, 16]) torch.Size([40, 64, 16])\n",
      "decanlp:  torch.Size([40, 64, 16]) torch.Size([40, 64, 16]) torch.Size([40, 64, 16])\n",
      "decanlp:  torch.Size([40, 64, 16]) torch.Size([40, 64, 16]) torch.Size([40, 64, 16])\n",
      "decanlp:  torch.Size([40, 64, 16]) torch.Size([40, 64, 16]) torch.Size([40, 64, 16])\n",
      "decanlp:  torch.Size([40, 32, 16]) torch.Size([40, 32, 16]) torch.Size([40, 32, 16])\n",
      "decanlp:  torch.Size([40, 32, 16]) torch.Size([40, 32, 16]) torch.Size([40, 32, 16])\n",
      "decanlp:  torch.Size([40, 32, 16]) torch.Size([40, 32, 16]) torch.Size([40, 32, 16])\n",
      "decanlp:  torch.Size([40, 32, 16]) torch.Size([40, 32, 16]) torch.Size([40, 32, 16])\n",
      "decanlp:  torch.Size([40, 32, 16]) torch.Size([40, 32, 16]) torch.Size([40, 32, 16])\n",
      "decanlp:  torch.Size([40, 32, 16]) torch.Size([40, 32, 16]) torch.Size([40, 32, 16])\n",
      "decanlp:  torch.Size([40, 32, 16]) torch.Size([40, 32, 16]) torch.Size([40, 32, 16])\n",
      "decanlp:  torch.Size([40, 32, 16]) torch.Size([40, 32, 16]) torch.Size([40, 32, 16])\n",
      "decanlp:  torch.Size([40, 32, 16]) torch.Size([40, 32, 16]) torch.Size([40, 32, 16])\n",
      "decanlp:  torch.Size([40, 32, 16]) torch.Size([40, 32, 16]) torch.Size([40, 32, 16])\n",
      "decanlp:  torch.Size([40, 32, 16]) torch.Size([40, 32, 16]) torch.Size([40, 32, 16])\n",
      "decanlp:  torch.Size([40, 32, 16]) torch.Size([40, 32, 16]) torch.Size([40, 32, 16])\n",
      "decanlp:  torch.Size([40, 32, 16]) torch.Size([40, 32, 16]) torch.Size([40, 32, 16])\n",
      "decanlp:  torch.Size([40, 32, 16]) torch.Size([40, 32, 16]) torch.Size([40, 32, 16])\n",
      "decanlp:  torch.Size([40, 32, 16]) torch.Size([40, 32, 16]) torch.Size([40, 32, 16])\n",
      "decanlp:  torch.Size([40, 32, 16]) torch.Size([40, 32, 16]) torch.Size([40, 32, 16])\n",
      "14 mixcol torch.Size([40, 32, 128])\n",
      "15 mixcol torch.Size([40, 32, 128])\n",
      "16 mixcol torch.Size([40, 128, 32])\n",
      "Decoding:  torch.Size([40, 128, 32])\n"
     ]
    },
    {
     "ename": "RuntimeError",
     "evalue": "size mismatch, m1: [5120 x 32], m2: [128 x 128] at /pytorch/aten/src/THC/generic/THCTensorMathBlas.cu:273",
     "output_type": "error",
     "traceback": [
      "\u001b[0;31m---------------------------------------------------------------------------\u001b[0m",
      "\u001b[0;31mRuntimeError\u001b[0m                              Traceback (most recent call last)",
      "\u001b[0;32m<timed eval>\u001b[0m in \u001b[0;36m<module>\u001b[0;34m\u001b[0m\n",
      "\u001b[0;32m<ipython-input-31-781e98e5d070>\u001b[0m in \u001b[0;36mtrain\u001b[0;34m(model, criterion, optimizer, batch_gen)\u001b[0m\n\u001b[1;32m      7\u001b[0m \u001b[0;31m#         print(x.shape, y.shape)\u001b[0m\u001b[0;34m\u001b[0m\u001b[0;34m\u001b[0m\u001b[0;34m\u001b[0m\u001b[0m\n\u001b[1;32m      8\u001b[0m         \u001b[0mmodel\u001b[0m\u001b[0;34m.\u001b[0m\u001b[0mzero_grad\u001b[0m\u001b[0;34m(\u001b[0m\u001b[0;34m)\u001b[0m\u001b[0;34m\u001b[0m\u001b[0;34m\u001b[0m\u001b[0m\n\u001b[0;32m----> 9\u001b[0;31m         \u001b[0moutput\u001b[0m \u001b[0;34m=\u001b[0m \u001b[0mmodel\u001b[0m\u001b[0;34m(\u001b[0m\u001b[0mx\u001b[0m\u001b[0;34m)\u001b[0m\u001b[0;34m\u001b[0m\u001b[0;34m\u001b[0m\u001b[0m\n\u001b[0m\u001b[1;32m     10\u001b[0m         \u001b[0mycode\u001b[0m \u001b[0;34m=\u001b[0m \u001b[0mmodel\u001b[0m\u001b[0;34m.\u001b[0m\u001b[0membeds\u001b[0m\u001b[0;34m(\u001b[0m\u001b[0my\u001b[0m\u001b[0;34m.\u001b[0m\u001b[0mlong\u001b[0m\u001b[0;34m(\u001b[0m\u001b[0;34m)\u001b[0m\u001b[0;34m[\u001b[0m\u001b[0;34m:\u001b[0m\u001b[0;34m,\u001b[0m\u001b[0;34m-\u001b[0m\u001b[0;36m128\u001b[0m\u001b[0;34m:\u001b[0m\u001b[0;34m]\u001b[0m\u001b[0;34m)\u001b[0m\u001b[0;34m\u001b[0m\u001b[0;34m\u001b[0m\u001b[0m\n\u001b[1;32m     11\u001b[0m \u001b[0;31m#         print(output.shape, ycode.shape, y.shape)\u001b[0m\u001b[0;34m\u001b[0m\u001b[0;34m\u001b[0m\u001b[0;34m\u001b[0m\u001b[0m\n",
      "\u001b[0;32m~/venv3/lib/python3.7/site-packages/torch/nn/modules/module.py\u001b[0m in \u001b[0;36m__call__\u001b[0;34m(self, *input, **kwargs)\u001b[0m\n\u001b[1;32m    545\u001b[0m             \u001b[0mresult\u001b[0m \u001b[0;34m=\u001b[0m \u001b[0mself\u001b[0m\u001b[0;34m.\u001b[0m\u001b[0m_slow_forward\u001b[0m\u001b[0;34m(\u001b[0m\u001b[0;34m*\u001b[0m\u001b[0minput\u001b[0m\u001b[0;34m,\u001b[0m \u001b[0;34m**\u001b[0m\u001b[0mkwargs\u001b[0m\u001b[0;34m)\u001b[0m\u001b[0;34m\u001b[0m\u001b[0;34m\u001b[0m\u001b[0m\n\u001b[1;32m    546\u001b[0m         \u001b[0;32melse\u001b[0m\u001b[0;34m:\u001b[0m\u001b[0;34m\u001b[0m\u001b[0;34m\u001b[0m\u001b[0m\n\u001b[0;32m--> 547\u001b[0;31m             \u001b[0mresult\u001b[0m \u001b[0;34m=\u001b[0m \u001b[0mself\u001b[0m\u001b[0;34m.\u001b[0m\u001b[0mforward\u001b[0m\u001b[0;34m(\u001b[0m\u001b[0;34m*\u001b[0m\u001b[0minput\u001b[0m\u001b[0;34m,\u001b[0m \u001b[0;34m**\u001b[0m\u001b[0mkwargs\u001b[0m\u001b[0;34m)\u001b[0m\u001b[0;34m\u001b[0m\u001b[0;34m\u001b[0m\u001b[0m\n\u001b[0m\u001b[1;32m    548\u001b[0m         \u001b[0;32mfor\u001b[0m \u001b[0mhook\u001b[0m \u001b[0;32min\u001b[0m \u001b[0mself\u001b[0m\u001b[0;34m.\u001b[0m\u001b[0m_forward_hooks\u001b[0m\u001b[0;34m.\u001b[0m\u001b[0mvalues\u001b[0m\u001b[0;34m(\u001b[0m\u001b[0;34m)\u001b[0m\u001b[0;34m:\u001b[0m\u001b[0;34m\u001b[0m\u001b[0;34m\u001b[0m\u001b[0m\n\u001b[1;32m    549\u001b[0m             \u001b[0mhook_result\u001b[0m \u001b[0;34m=\u001b[0m \u001b[0mhook\u001b[0m\u001b[0;34m(\u001b[0m\u001b[0mself\u001b[0m\u001b[0;34m,\u001b[0m \u001b[0minput\u001b[0m\u001b[0;34m,\u001b[0m \u001b[0mresult\u001b[0m\u001b[0;34m)\u001b[0m\u001b[0;34m\u001b[0m\u001b[0;34m\u001b[0m\u001b[0m\n",
      "\u001b[0;32m~/projects/minibrain/predictors/sequence/text/langmodels/column_models.py\u001b[0m in \u001b[0;36mforward\u001b[0;34m(self, x)\u001b[0m\n\u001b[1;32m    264\u001b[0m         \u001b[0mret\u001b[0m \u001b[0;34m=\u001b[0m \u001b[0mself\u001b[0m\u001b[0;34m.\u001b[0m\u001b[0mencoder\u001b[0m\u001b[0;34m(\u001b[0m\u001b[0mret\u001b[0m\u001b[0;34m)\u001b[0m\u001b[0;34m\u001b[0m\u001b[0;34m\u001b[0m\u001b[0m\n\u001b[1;32m    265\u001b[0m         \u001b[0mprint\u001b[0m\u001b[0;34m(\u001b[0m\u001b[0;34m\"Decoding: \"\u001b[0m\u001b[0;34m,\u001b[0m \u001b[0mret\u001b[0m\u001b[0;34m.\u001b[0m\u001b[0mshape\u001b[0m\u001b[0;34m)\u001b[0m\u001b[0;34m\u001b[0m\u001b[0;34m\u001b[0m\u001b[0m\n\u001b[0;32m--> 266\u001b[0;31m         \u001b[0mret\u001b[0m \u001b[0;34m=\u001b[0m \u001b[0mself\u001b[0m\u001b[0;34m.\u001b[0m\u001b[0mdecoder\u001b[0m\u001b[0;34m(\u001b[0m\u001b[0mret\u001b[0m\u001b[0;34m,\u001b[0m \u001b[0mret\u001b[0m\u001b[0;34m)\u001b[0m\u001b[0;34m.\u001b[0m\u001b[0mtranspose\u001b[0m\u001b[0;34m(\u001b[0m\u001b[0;36m1\u001b[0m\u001b[0;34m,\u001b[0m \u001b[0;36m2\u001b[0m\u001b[0;34m)\u001b[0m\u001b[0;34m\u001b[0m\u001b[0;34m\u001b[0m\u001b[0m\n\u001b[0m\u001b[1;32m    267\u001b[0m         \u001b[0;31m# ret = self.decoder(ret).transpose(1, 2)\u001b[0m\u001b[0;34m\u001b[0m\u001b[0;34m\u001b[0m\u001b[0;34m\u001b[0m\u001b[0m\n\u001b[1;32m    268\u001b[0m         \u001b[0mprint\u001b[0m\u001b[0;34m(\u001b[0m\u001b[0;34m\"Returning: \"\u001b[0m\u001b[0;34m,\u001b[0m \u001b[0mret\u001b[0m\u001b[0;34m.\u001b[0m\u001b[0mshape\u001b[0m\u001b[0;34m)\u001b[0m\u001b[0;34m\u001b[0m\u001b[0;34m\u001b[0m\u001b[0m\n",
      "\u001b[0;32m~/venv3/lib/python3.7/site-packages/torch/nn/modules/module.py\u001b[0m in \u001b[0;36m__call__\u001b[0;34m(self, *input, **kwargs)\u001b[0m\n\u001b[1;32m    545\u001b[0m             \u001b[0mresult\u001b[0m \u001b[0;34m=\u001b[0m \u001b[0mself\u001b[0m\u001b[0;34m.\u001b[0m\u001b[0m_slow_forward\u001b[0m\u001b[0;34m(\u001b[0m\u001b[0;34m*\u001b[0m\u001b[0minput\u001b[0m\u001b[0;34m,\u001b[0m \u001b[0;34m**\u001b[0m\u001b[0mkwargs\u001b[0m\u001b[0;34m)\u001b[0m\u001b[0;34m\u001b[0m\u001b[0;34m\u001b[0m\u001b[0m\n\u001b[1;32m    546\u001b[0m         \u001b[0;32melse\u001b[0m\u001b[0;34m:\u001b[0m\u001b[0;34m\u001b[0m\u001b[0;34m\u001b[0m\u001b[0m\n\u001b[0;32m--> 547\u001b[0;31m             \u001b[0mresult\u001b[0m \u001b[0;34m=\u001b[0m \u001b[0mself\u001b[0m\u001b[0;34m.\u001b[0m\u001b[0mforward\u001b[0m\u001b[0;34m(\u001b[0m\u001b[0;34m*\u001b[0m\u001b[0minput\u001b[0m\u001b[0;34m,\u001b[0m \u001b[0;34m**\u001b[0m\u001b[0mkwargs\u001b[0m\u001b[0;34m)\u001b[0m\u001b[0;34m\u001b[0m\u001b[0;34m\u001b[0m\u001b[0m\n\u001b[0m\u001b[1;32m    548\u001b[0m         \u001b[0;32mfor\u001b[0m \u001b[0mhook\u001b[0m \u001b[0;32min\u001b[0m \u001b[0mself\u001b[0m\u001b[0;34m.\u001b[0m\u001b[0m_forward_hooks\u001b[0m\u001b[0;34m.\u001b[0m\u001b[0mvalues\u001b[0m\u001b[0;34m(\u001b[0m\u001b[0;34m)\u001b[0m\u001b[0;34m:\u001b[0m\u001b[0;34m\u001b[0m\u001b[0;34m\u001b[0m\u001b[0m\n\u001b[1;32m    549\u001b[0m             \u001b[0mhook_result\u001b[0m \u001b[0;34m=\u001b[0m \u001b[0mhook\u001b[0m\u001b[0;34m(\u001b[0m\u001b[0mself\u001b[0m\u001b[0;34m,\u001b[0m \u001b[0minput\u001b[0m\u001b[0;34m,\u001b[0m \u001b[0mresult\u001b[0m\u001b[0;34m)\u001b[0m\u001b[0;34m\u001b[0m\u001b[0;34m\u001b[0m\u001b[0m\n",
      "\u001b[0;32m~/projects/minibrain/predictors/sequence/text/langmodels/decanlp_common.py\u001b[0m in \u001b[0;36mforward\u001b[0;34m(self, x, encoding, context_padding, positional_encodings, answer_padding)\u001b[0m\n\u001b[1;32m    229\u001b[0m         \u001b[0mx\u001b[0m \u001b[0;34m=\u001b[0m \u001b[0mself\u001b[0m\u001b[0;34m.\u001b[0m\u001b[0mdropout\u001b[0m\u001b[0;34m(\u001b[0m\u001b[0mx\u001b[0m\u001b[0;34m)\u001b[0m\u001b[0;34m\u001b[0m\u001b[0;34m\u001b[0m\u001b[0m\n\u001b[1;32m    230\u001b[0m         \u001b[0;32mfor\u001b[0m \u001b[0mlayer\u001b[0m\u001b[0;34m,\u001b[0m \u001b[0menc\u001b[0m \u001b[0;32min\u001b[0m \u001b[0mzip\u001b[0m\u001b[0;34m(\u001b[0m\u001b[0mself\u001b[0m\u001b[0;34m.\u001b[0m\u001b[0mlayers\u001b[0m\u001b[0;34m,\u001b[0m \u001b[0mencoding\u001b[0m\u001b[0;34m[\u001b[0m\u001b[0;36m1\u001b[0m\u001b[0;34m:\u001b[0m\u001b[0;34m]\u001b[0m\u001b[0;34m)\u001b[0m\u001b[0;34m:\u001b[0m\u001b[0;34m\u001b[0m\u001b[0;34m\u001b[0m\u001b[0m\n\u001b[0;32m--> 231\u001b[0;31m             \u001b[0mx\u001b[0m \u001b[0;34m=\u001b[0m \u001b[0mlayer\u001b[0m\u001b[0;34m(\u001b[0m\u001b[0mx\u001b[0m\u001b[0;34m,\u001b[0m \u001b[0menc\u001b[0m\u001b[0;34m,\u001b[0m \u001b[0mcontext_padding\u001b[0m\u001b[0;34m=\u001b[0m\u001b[0mcontext_padding\u001b[0m\u001b[0;34m,\u001b[0m \u001b[0manswer_padding\u001b[0m\u001b[0;34m=\u001b[0m\u001b[0manswer_padding\u001b[0m\u001b[0;34m)\u001b[0m\u001b[0;34m\u001b[0m\u001b[0;34m\u001b[0m\u001b[0m\n\u001b[0m\u001b[1;32m    232\u001b[0m         \u001b[0;32mreturn\u001b[0m \u001b[0mx\u001b[0m\u001b[0;34m\u001b[0m\u001b[0;34m\u001b[0m\u001b[0m\n\u001b[1;32m    233\u001b[0m \u001b[0;34m\u001b[0m\u001b[0m\n",
      "\u001b[0;32m~/venv3/lib/python3.7/site-packages/torch/nn/modules/module.py\u001b[0m in \u001b[0;36m__call__\u001b[0;34m(self, *input, **kwargs)\u001b[0m\n\u001b[1;32m    545\u001b[0m             \u001b[0mresult\u001b[0m \u001b[0;34m=\u001b[0m \u001b[0mself\u001b[0m\u001b[0;34m.\u001b[0m\u001b[0m_slow_forward\u001b[0m\u001b[0;34m(\u001b[0m\u001b[0;34m*\u001b[0m\u001b[0minput\u001b[0m\u001b[0;34m,\u001b[0m \u001b[0;34m**\u001b[0m\u001b[0mkwargs\u001b[0m\u001b[0;34m)\u001b[0m\u001b[0;34m\u001b[0m\u001b[0;34m\u001b[0m\u001b[0m\n\u001b[1;32m    546\u001b[0m         \u001b[0;32melse\u001b[0m\u001b[0;34m:\u001b[0m\u001b[0;34m\u001b[0m\u001b[0;34m\u001b[0m\u001b[0m\n\u001b[0;32m--> 547\u001b[0;31m             \u001b[0mresult\u001b[0m \u001b[0;34m=\u001b[0m \u001b[0mself\u001b[0m\u001b[0;34m.\u001b[0m\u001b[0mforward\u001b[0m\u001b[0;34m(\u001b[0m\u001b[0;34m*\u001b[0m\u001b[0minput\u001b[0m\u001b[0;34m,\u001b[0m \u001b[0;34m**\u001b[0m\u001b[0mkwargs\u001b[0m\u001b[0;34m)\u001b[0m\u001b[0;34m\u001b[0m\u001b[0;34m\u001b[0m\u001b[0m\n\u001b[0m\u001b[1;32m    548\u001b[0m         \u001b[0;32mfor\u001b[0m \u001b[0mhook\u001b[0m \u001b[0;32min\u001b[0m \u001b[0mself\u001b[0m\u001b[0;34m.\u001b[0m\u001b[0m_forward_hooks\u001b[0m\u001b[0;34m.\u001b[0m\u001b[0mvalues\u001b[0m\u001b[0;34m(\u001b[0m\u001b[0;34m)\u001b[0m\u001b[0;34m:\u001b[0m\u001b[0;34m\u001b[0m\u001b[0;34m\u001b[0m\u001b[0m\n\u001b[1;32m    549\u001b[0m             \u001b[0mhook_result\u001b[0m \u001b[0;34m=\u001b[0m \u001b[0mhook\u001b[0m\u001b[0;34m(\u001b[0m\u001b[0mself\u001b[0m\u001b[0;34m,\u001b[0m \u001b[0minput\u001b[0m\u001b[0;34m,\u001b[0m \u001b[0mresult\u001b[0m\u001b[0;34m)\u001b[0m\u001b[0;34m\u001b[0m\u001b[0;34m\u001b[0m\u001b[0m\n",
      "\u001b[0;32m~/projects/minibrain/predictors/sequence/text/langmodels/decanlp_common.py\u001b[0m in \u001b[0;36mforward\u001b[0;34m(self, x, encoding, context_padding, answer_padding)\u001b[0m\n\u001b[1;32m    211\u001b[0m \u001b[0;34m\u001b[0m\u001b[0m\n\u001b[1;32m    212\u001b[0m     \u001b[0;32mdef\u001b[0m \u001b[0mforward\u001b[0m\u001b[0;34m(\u001b[0m\u001b[0mself\u001b[0m\u001b[0;34m,\u001b[0m \u001b[0mx\u001b[0m\u001b[0;34m,\u001b[0m \u001b[0mencoding\u001b[0m\u001b[0;34m,\u001b[0m \u001b[0mcontext_padding\u001b[0m\u001b[0;34m=\u001b[0m\u001b[0;32mNone\u001b[0m\u001b[0;34m,\u001b[0m \u001b[0manswer_padding\u001b[0m\u001b[0;34m=\u001b[0m\u001b[0;32mNone\u001b[0m\u001b[0;34m)\u001b[0m\u001b[0;34m:\u001b[0m\u001b[0;34m\u001b[0m\u001b[0;34m\u001b[0m\u001b[0m\n\u001b[0;32m--> 213\u001b[0;31m         \u001b[0mx\u001b[0m \u001b[0;34m=\u001b[0m \u001b[0mself\u001b[0m\u001b[0;34m.\u001b[0m\u001b[0mselfattn\u001b[0m\u001b[0;34m(\u001b[0m\u001b[0mx\u001b[0m\u001b[0;34m,\u001b[0m \u001b[0mx\u001b[0m\u001b[0;34m,\u001b[0m \u001b[0mx\u001b[0m\u001b[0;34m,\u001b[0m \u001b[0mpadding\u001b[0m\u001b[0;34m=\u001b[0m\u001b[0manswer_padding\u001b[0m\u001b[0;34m)\u001b[0m\u001b[0;34m\u001b[0m\u001b[0;34m\u001b[0m\u001b[0m\n\u001b[0m\u001b[1;32m    214\u001b[0m         \u001b[0;32mreturn\u001b[0m \u001b[0mself\u001b[0m\u001b[0;34m.\u001b[0m\u001b[0mfeedforward\u001b[0m\u001b[0;34m(\u001b[0m\u001b[0mself\u001b[0m\u001b[0;34m.\u001b[0m\u001b[0mattention\u001b[0m\u001b[0;34m(\u001b[0m\u001b[0mx\u001b[0m\u001b[0;34m,\u001b[0m \u001b[0mencoding\u001b[0m\u001b[0;34m,\u001b[0m \u001b[0mencoding\u001b[0m\u001b[0;34m,\u001b[0m \u001b[0mpadding\u001b[0m\u001b[0;34m=\u001b[0m\u001b[0mcontext_padding\u001b[0m\u001b[0;34m)\u001b[0m\u001b[0;34m)\u001b[0m\u001b[0;34m\u001b[0m\u001b[0;34m\u001b[0m\u001b[0m\n\u001b[1;32m    215\u001b[0m \u001b[0;34m\u001b[0m\u001b[0m\n",
      "\u001b[0;32m~/venv3/lib/python3.7/site-packages/torch/nn/modules/module.py\u001b[0m in \u001b[0;36m__call__\u001b[0;34m(self, *input, **kwargs)\u001b[0m\n\u001b[1;32m    545\u001b[0m             \u001b[0mresult\u001b[0m \u001b[0;34m=\u001b[0m \u001b[0mself\u001b[0m\u001b[0;34m.\u001b[0m\u001b[0m_slow_forward\u001b[0m\u001b[0;34m(\u001b[0m\u001b[0;34m*\u001b[0m\u001b[0minput\u001b[0m\u001b[0;34m,\u001b[0m \u001b[0;34m**\u001b[0m\u001b[0mkwargs\u001b[0m\u001b[0;34m)\u001b[0m\u001b[0;34m\u001b[0m\u001b[0;34m\u001b[0m\u001b[0m\n\u001b[1;32m    546\u001b[0m         \u001b[0;32melse\u001b[0m\u001b[0;34m:\u001b[0m\u001b[0;34m\u001b[0m\u001b[0;34m\u001b[0m\u001b[0m\n\u001b[0;32m--> 547\u001b[0;31m             \u001b[0mresult\u001b[0m \u001b[0;34m=\u001b[0m \u001b[0mself\u001b[0m\u001b[0;34m.\u001b[0m\u001b[0mforward\u001b[0m\u001b[0;34m(\u001b[0m\u001b[0;34m*\u001b[0m\u001b[0minput\u001b[0m\u001b[0;34m,\u001b[0m \u001b[0;34m**\u001b[0m\u001b[0mkwargs\u001b[0m\u001b[0;34m)\u001b[0m\u001b[0;34m\u001b[0m\u001b[0;34m\u001b[0m\u001b[0m\n\u001b[0m\u001b[1;32m    548\u001b[0m         \u001b[0;32mfor\u001b[0m \u001b[0mhook\u001b[0m \u001b[0;32min\u001b[0m \u001b[0mself\u001b[0m\u001b[0;34m.\u001b[0m\u001b[0m_forward_hooks\u001b[0m\u001b[0;34m.\u001b[0m\u001b[0mvalues\u001b[0m\u001b[0;34m(\u001b[0m\u001b[0;34m)\u001b[0m\u001b[0;34m:\u001b[0m\u001b[0;34m\u001b[0m\u001b[0;34m\u001b[0m\u001b[0m\n\u001b[1;32m    549\u001b[0m             \u001b[0mhook_result\u001b[0m \u001b[0;34m=\u001b[0m \u001b[0mhook\u001b[0m\u001b[0;34m(\u001b[0m\u001b[0mself\u001b[0m\u001b[0;34m,\u001b[0m \u001b[0minput\u001b[0m\u001b[0;34m,\u001b[0m \u001b[0mresult\u001b[0m\u001b[0;34m)\u001b[0m\u001b[0;34m\u001b[0m\u001b[0;34m\u001b[0m\u001b[0m\n",
      "\u001b[0;32m~/projects/minibrain/predictors/sequence/text/langmodels/decanlp_common.py\u001b[0m in \u001b[0;36mforward\u001b[0;34m(self, padding, *x)\u001b[0m\n\u001b[1;32m    110\u001b[0m \u001b[0;34m\u001b[0m\u001b[0m\n\u001b[1;32m    111\u001b[0m     \u001b[0;32mdef\u001b[0m \u001b[0mforward\u001b[0m\u001b[0;34m(\u001b[0m\u001b[0mself\u001b[0m\u001b[0;34m,\u001b[0m \u001b[0;34m*\u001b[0m\u001b[0mx\u001b[0m\u001b[0;34m,\u001b[0m \u001b[0mpadding\u001b[0m\u001b[0;34m=\u001b[0m\u001b[0;32mNone\u001b[0m\u001b[0;34m)\u001b[0m\u001b[0;34m:\u001b[0m\u001b[0;34m\u001b[0m\u001b[0;34m\u001b[0m\u001b[0m\n\u001b[0;32m--> 112\u001b[0;31m         \u001b[0;32mreturn\u001b[0m \u001b[0mself\u001b[0m\u001b[0;34m.\u001b[0m\u001b[0mlayernorm\u001b[0m\u001b[0;34m(\u001b[0m\u001b[0mx\u001b[0m\u001b[0;34m[\u001b[0m\u001b[0;36m0\u001b[0m\u001b[0;34m]\u001b[0m \u001b[0;34m+\u001b[0m \u001b[0mself\u001b[0m\u001b[0;34m.\u001b[0m\u001b[0mdropout\u001b[0m\u001b[0;34m(\u001b[0m\u001b[0mself\u001b[0m\u001b[0;34m.\u001b[0m\u001b[0mlayer\u001b[0m\u001b[0;34m(\u001b[0m\u001b[0;34m*\u001b[0m\u001b[0mx\u001b[0m\u001b[0;34m,\u001b[0m \u001b[0mpadding\u001b[0m\u001b[0;34m=\u001b[0m\u001b[0mpadding\u001b[0m\u001b[0;34m)\u001b[0m\u001b[0;34m)\u001b[0m\u001b[0;34m)\u001b[0m\u001b[0;34m\u001b[0m\u001b[0;34m\u001b[0m\u001b[0m\n\u001b[0m\u001b[1;32m    113\u001b[0m \u001b[0;34m\u001b[0m\u001b[0m\n\u001b[1;32m    114\u001b[0m \u001b[0;34m\u001b[0m\u001b[0m\n",
      "\u001b[0;32m~/venv3/lib/python3.7/site-packages/torch/nn/modules/module.py\u001b[0m in \u001b[0;36m__call__\u001b[0;34m(self, *input, **kwargs)\u001b[0m\n\u001b[1;32m    545\u001b[0m             \u001b[0mresult\u001b[0m \u001b[0;34m=\u001b[0m \u001b[0mself\u001b[0m\u001b[0;34m.\u001b[0m\u001b[0m_slow_forward\u001b[0m\u001b[0;34m(\u001b[0m\u001b[0;34m*\u001b[0m\u001b[0minput\u001b[0m\u001b[0;34m,\u001b[0m \u001b[0;34m**\u001b[0m\u001b[0mkwargs\u001b[0m\u001b[0;34m)\u001b[0m\u001b[0;34m\u001b[0m\u001b[0;34m\u001b[0m\u001b[0m\n\u001b[1;32m    546\u001b[0m         \u001b[0;32melse\u001b[0m\u001b[0;34m:\u001b[0m\u001b[0;34m\u001b[0m\u001b[0;34m\u001b[0m\u001b[0m\n\u001b[0;32m--> 547\u001b[0;31m             \u001b[0mresult\u001b[0m \u001b[0;34m=\u001b[0m \u001b[0mself\u001b[0m\u001b[0;34m.\u001b[0m\u001b[0mforward\u001b[0m\u001b[0;34m(\u001b[0m\u001b[0;34m*\u001b[0m\u001b[0minput\u001b[0m\u001b[0;34m,\u001b[0m \u001b[0;34m**\u001b[0m\u001b[0mkwargs\u001b[0m\u001b[0;34m)\u001b[0m\u001b[0;34m\u001b[0m\u001b[0;34m\u001b[0m\u001b[0m\n\u001b[0m\u001b[1;32m    548\u001b[0m         \u001b[0;32mfor\u001b[0m \u001b[0mhook\u001b[0m \u001b[0;32min\u001b[0m \u001b[0mself\u001b[0m\u001b[0;34m.\u001b[0m\u001b[0m_forward_hooks\u001b[0m\u001b[0;34m.\u001b[0m\u001b[0mvalues\u001b[0m\u001b[0;34m(\u001b[0m\u001b[0;34m)\u001b[0m\u001b[0;34m:\u001b[0m\u001b[0;34m\u001b[0m\u001b[0;34m\u001b[0m\u001b[0m\n\u001b[1;32m    549\u001b[0m             \u001b[0mhook_result\u001b[0m \u001b[0;34m=\u001b[0m \u001b[0mhook\u001b[0m\u001b[0;34m(\u001b[0m\u001b[0mself\u001b[0m\u001b[0;34m,\u001b[0m \u001b[0minput\u001b[0m\u001b[0;34m,\u001b[0m \u001b[0mresult\u001b[0m\u001b[0;34m)\u001b[0m\u001b[0;34m\u001b[0m\u001b[0;34m\u001b[0m\u001b[0m\n",
      "\u001b[0;32m~/projects/minibrain/predictors/sequence/text/langmodels/decanlp_common.py\u001b[0m in \u001b[0;36mforward\u001b[0;34m(self, query, key, value, padding)\u001b[0m\n\u001b[1;32m    143\u001b[0m \u001b[0;34m\u001b[0m\u001b[0m\n\u001b[1;32m    144\u001b[0m     \u001b[0;32mdef\u001b[0m \u001b[0mforward\u001b[0m\u001b[0;34m(\u001b[0m\u001b[0mself\u001b[0m\u001b[0;34m,\u001b[0m \u001b[0mquery\u001b[0m\u001b[0;34m,\u001b[0m \u001b[0mkey\u001b[0m\u001b[0;34m,\u001b[0m \u001b[0mvalue\u001b[0m\u001b[0;34m,\u001b[0m \u001b[0mpadding\u001b[0m\u001b[0;34m=\u001b[0m\u001b[0;32mNone\u001b[0m\u001b[0;34m)\u001b[0m\u001b[0;34m:\u001b[0m\u001b[0;34m\u001b[0m\u001b[0;34m\u001b[0m\u001b[0m\n\u001b[0;32m--> 145\u001b[0;31m         \u001b[0mquery\u001b[0m\u001b[0;34m,\u001b[0m \u001b[0mkey\u001b[0m\u001b[0;34m,\u001b[0m \u001b[0mvalue\u001b[0m \u001b[0;34m=\u001b[0m \u001b[0mself\u001b[0m\u001b[0;34m.\u001b[0m\u001b[0mwq\u001b[0m\u001b[0;34m(\u001b[0m\u001b[0mquery\u001b[0m\u001b[0;34m)\u001b[0m\u001b[0;34m,\u001b[0m \u001b[0mself\u001b[0m\u001b[0;34m.\u001b[0m\u001b[0mwk\u001b[0m\u001b[0;34m(\u001b[0m\u001b[0mkey\u001b[0m\u001b[0;34m)\u001b[0m\u001b[0;34m,\u001b[0m \u001b[0mself\u001b[0m\u001b[0;34m.\u001b[0m\u001b[0mwv\u001b[0m\u001b[0;34m(\u001b[0m\u001b[0mvalue\u001b[0m\u001b[0;34m)\u001b[0m\u001b[0;34m\u001b[0m\u001b[0;34m\u001b[0m\u001b[0m\n\u001b[0m\u001b[1;32m    146\u001b[0m         query, key, value = (\n\u001b[1;32m    147\u001b[0m             x.chunk(self.n_heads, -1) for x in (query, key, value))\n",
      "\u001b[0;32m~/venv3/lib/python3.7/site-packages/torch/nn/modules/module.py\u001b[0m in \u001b[0;36m__call__\u001b[0;34m(self, *input, **kwargs)\u001b[0m\n\u001b[1;32m    545\u001b[0m             \u001b[0mresult\u001b[0m \u001b[0;34m=\u001b[0m \u001b[0mself\u001b[0m\u001b[0;34m.\u001b[0m\u001b[0m_slow_forward\u001b[0m\u001b[0;34m(\u001b[0m\u001b[0;34m*\u001b[0m\u001b[0minput\u001b[0m\u001b[0;34m,\u001b[0m \u001b[0;34m**\u001b[0m\u001b[0mkwargs\u001b[0m\u001b[0;34m)\u001b[0m\u001b[0;34m\u001b[0m\u001b[0;34m\u001b[0m\u001b[0m\n\u001b[1;32m    546\u001b[0m         \u001b[0;32melse\u001b[0m\u001b[0;34m:\u001b[0m\u001b[0;34m\u001b[0m\u001b[0;34m\u001b[0m\u001b[0m\n\u001b[0;32m--> 547\u001b[0;31m             \u001b[0mresult\u001b[0m \u001b[0;34m=\u001b[0m \u001b[0mself\u001b[0m\u001b[0;34m.\u001b[0m\u001b[0mforward\u001b[0m\u001b[0;34m(\u001b[0m\u001b[0;34m*\u001b[0m\u001b[0minput\u001b[0m\u001b[0;34m,\u001b[0m \u001b[0;34m**\u001b[0m\u001b[0mkwargs\u001b[0m\u001b[0;34m)\u001b[0m\u001b[0;34m\u001b[0m\u001b[0;34m\u001b[0m\u001b[0m\n\u001b[0m\u001b[1;32m    548\u001b[0m         \u001b[0;32mfor\u001b[0m \u001b[0mhook\u001b[0m \u001b[0;32min\u001b[0m \u001b[0mself\u001b[0m\u001b[0;34m.\u001b[0m\u001b[0m_forward_hooks\u001b[0m\u001b[0;34m.\u001b[0m\u001b[0mvalues\u001b[0m\u001b[0;34m(\u001b[0m\u001b[0;34m)\u001b[0m\u001b[0;34m:\u001b[0m\u001b[0;34m\u001b[0m\u001b[0;34m\u001b[0m\u001b[0m\n\u001b[1;32m    549\u001b[0m             \u001b[0mhook_result\u001b[0m \u001b[0;34m=\u001b[0m \u001b[0mhook\u001b[0m\u001b[0;34m(\u001b[0m\u001b[0mself\u001b[0m\u001b[0;34m,\u001b[0m \u001b[0minput\u001b[0m\u001b[0;34m,\u001b[0m \u001b[0mresult\u001b[0m\u001b[0;34m)\u001b[0m\u001b[0;34m\u001b[0m\u001b[0;34m\u001b[0m\u001b[0m\n",
      "\u001b[0;32m~/projects/minibrain/predictors/sequence/text/langmodels/decanlp_common.py\u001b[0m in \u001b[0;36mforward\u001b[0;34m(self, x)\u001b[0m\n\u001b[1;32m    307\u001b[0m         \u001b[0msize\u001b[0m \u001b[0;34m=\u001b[0m \u001b[0mx\u001b[0m\u001b[0;34m.\u001b[0m\u001b[0msize\u001b[0m\u001b[0;34m(\u001b[0m\u001b[0;34m)\u001b[0m\u001b[0;34m\u001b[0m\u001b[0;34m\u001b[0m\u001b[0m\n\u001b[1;32m    308\u001b[0m         return super().forward(\n\u001b[0;32m--> 309\u001b[0;31m             x.contiguous().view(-1, size[-1])).view(*size[:-1], -1)\n\u001b[0m\u001b[1;32m    310\u001b[0m \u001b[0;34m\u001b[0m\u001b[0m\n\u001b[1;32m    311\u001b[0m \u001b[0;34m\u001b[0m\u001b[0m\n",
      "\u001b[0;32m~/venv3/lib/python3.7/site-packages/torch/nn/modules/linear.py\u001b[0m in \u001b[0;36mforward\u001b[0;34m(self, input)\u001b[0m\n\u001b[1;32m     85\u001b[0m \u001b[0;34m\u001b[0m\u001b[0m\n\u001b[1;32m     86\u001b[0m     \u001b[0;32mdef\u001b[0m \u001b[0mforward\u001b[0m\u001b[0;34m(\u001b[0m\u001b[0mself\u001b[0m\u001b[0;34m,\u001b[0m \u001b[0minput\u001b[0m\u001b[0;34m)\u001b[0m\u001b[0;34m:\u001b[0m\u001b[0;34m\u001b[0m\u001b[0;34m\u001b[0m\u001b[0m\n\u001b[0;32m---> 87\u001b[0;31m         \u001b[0;32mreturn\u001b[0m \u001b[0mF\u001b[0m\u001b[0;34m.\u001b[0m\u001b[0mlinear\u001b[0m\u001b[0;34m(\u001b[0m\u001b[0minput\u001b[0m\u001b[0;34m,\u001b[0m \u001b[0mself\u001b[0m\u001b[0;34m.\u001b[0m\u001b[0mweight\u001b[0m\u001b[0;34m,\u001b[0m \u001b[0mself\u001b[0m\u001b[0;34m.\u001b[0m\u001b[0mbias\u001b[0m\u001b[0;34m)\u001b[0m\u001b[0;34m\u001b[0m\u001b[0;34m\u001b[0m\u001b[0m\n\u001b[0m\u001b[1;32m     88\u001b[0m \u001b[0;34m\u001b[0m\u001b[0m\n\u001b[1;32m     89\u001b[0m     \u001b[0;32mdef\u001b[0m \u001b[0mextra_repr\u001b[0m\u001b[0;34m(\u001b[0m\u001b[0mself\u001b[0m\u001b[0;34m)\u001b[0m\u001b[0;34m:\u001b[0m\u001b[0;34m\u001b[0m\u001b[0;34m\u001b[0m\u001b[0m\n",
      "\u001b[0;32m~/venv3/lib/python3.7/site-packages/torch/nn/functional.py\u001b[0m in \u001b[0;36mlinear\u001b[0;34m(input, weight, bias)\u001b[0m\n\u001b[1;32m   1369\u001b[0m         \u001b[0mret\u001b[0m \u001b[0;34m=\u001b[0m \u001b[0mtorch\u001b[0m\u001b[0;34m.\u001b[0m\u001b[0maddmm\u001b[0m\u001b[0;34m(\u001b[0m\u001b[0mbias\u001b[0m\u001b[0;34m,\u001b[0m \u001b[0minput\u001b[0m\u001b[0;34m,\u001b[0m \u001b[0mweight\u001b[0m\u001b[0;34m.\u001b[0m\u001b[0mt\u001b[0m\u001b[0;34m(\u001b[0m\u001b[0;34m)\u001b[0m\u001b[0;34m)\u001b[0m\u001b[0;34m\u001b[0m\u001b[0;34m\u001b[0m\u001b[0m\n\u001b[1;32m   1370\u001b[0m     \u001b[0;32melse\u001b[0m\u001b[0;34m:\u001b[0m\u001b[0;34m\u001b[0m\u001b[0;34m\u001b[0m\u001b[0m\n\u001b[0;32m-> 1371\u001b[0;31m         \u001b[0moutput\u001b[0m \u001b[0;34m=\u001b[0m \u001b[0minput\u001b[0m\u001b[0;34m.\u001b[0m\u001b[0mmatmul\u001b[0m\u001b[0;34m(\u001b[0m\u001b[0mweight\u001b[0m\u001b[0;34m.\u001b[0m\u001b[0mt\u001b[0m\u001b[0;34m(\u001b[0m\u001b[0;34m)\u001b[0m\u001b[0;34m)\u001b[0m\u001b[0;34m\u001b[0m\u001b[0;34m\u001b[0m\u001b[0m\n\u001b[0m\u001b[1;32m   1372\u001b[0m         \u001b[0;32mif\u001b[0m \u001b[0mbias\u001b[0m \u001b[0;32mis\u001b[0m \u001b[0;32mnot\u001b[0m \u001b[0;32mNone\u001b[0m\u001b[0;34m:\u001b[0m\u001b[0;34m\u001b[0m\u001b[0;34m\u001b[0m\u001b[0m\n\u001b[1;32m   1373\u001b[0m             \u001b[0moutput\u001b[0m \u001b[0;34m+=\u001b[0m \u001b[0mbias\u001b[0m\u001b[0;34m\u001b[0m\u001b[0;34m\u001b[0m\u001b[0m\n",
      "\u001b[0;31mRuntimeError\u001b[0m: size mismatch, m1: [5120 x 32], m2: [128 x 128] at /pytorch/aten/src/THC/generic/THCTensorMathBlas.cu:273"
     ]
    },
    {
     "name": "stdout",
     "output_type": "stream",
     "text": [
      "CPU times: user 114 ms, sys: 48.6 ms, total: 163 ms\n",
      "Wall time: 122 ms\n"
     ]
    }
   ],
   "source": [
    "%%time\n",
    "%time train(model, criterion, optimizer, batch_gen)"
   ]
  },
  {
   "cell_type": "code",
   "execution_count": 41,
   "metadata": {},
   "outputs": [],
   "source": [
    "# b0 = list(batch_gen)[0]"
   ]
  },
  {
   "cell_type": "code",
   "execution_count": 42,
   "metadata": {},
   "outputs": [],
   "source": [
    "# summary(model, (1, 256,1024))"
   ]
  },
  {
   "cell_type": "code",
   "execution_count": 43,
   "metadata": {},
   "outputs": [
    {
     "data": {
      "text/plain": [
       "128.0"
      ]
     },
     "execution_count": 43,
     "metadata": {},
     "output_type": "execute_result"
    }
   ],
   "source": [
    "131072/1024."
   ]
  }
 ],
 "metadata": {
  "kernelspec": {
   "display_name": "Python 3",
   "language": "python",
   "name": "python3"
  },
  "language_info": {
   "codemirror_mode": {
    "name": "ipython",
    "version": 3
   },
   "file_extension": ".py",
   "mimetype": "text/x-python",
   "name": "python",
   "nbconvert_exporter": "python",
   "pygments_lexer": "ipython3",
   "version": "3.7.3"
  }
 },
 "nbformat": 4,
 "nbformat_minor": 4
}
