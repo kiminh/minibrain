{
 "cells": [
  {
   "cell_type": "markdown",
   "metadata": {},
   "source": [
    "# Encoding tests for UTF-8 text \n",
    "\n",
    "This file tries to understand how to encode universally all UTF-8 possible characters.\n",
    "The idea is to create a basic encoding that could be reused not by domein, like current word encodings, but that can handle all current languages and symbols.\n",
    "\n",
    "The idea is to go to a context based encoding, for this a lot of training will be needed, but if this works, this can be game changer."
   ]
  },
  {
   "cell_type": "markdown",
   "metadata": {},
   "source": [
    "As this file tries to encode all the characters possible by utf-8 we have to check the feasible number so:\n",
    "\n",
    "From [Wikipedia utf-8](https://en.wikipedia.org/wiki/UTF-8)\n",
    "\n",
    "UTF-8 is a variable width character encoding capable of encoding all 1,112,064.\n",
    "\n",
    "$$17×2^{16} = 1114112 $$ code points minus 2,048 technically-invalid surrogate code points"
   ]
  },
  {
   "cell_type": "markdown",
   "metadata": {},
   "source": [
    "As for the number of letters, we can check a few places:\n",
    "\n",
    "- [The Bible](https://wordcounter.net/blog/2015/12/08/10975_how-many-words-bible.html) 783,137 words, 3,116,480 characters\n",
    "\n",
    "- [10 longest novels](http://mentalfloss.com/article/18661/quick-10-10-longest-novels-ever)  The Blah Story by Nigel Tomm. 3,277,227 words\n",
    "\n",
    "the longest book about 5 times more words than the bible, so about 15 Million characters should deal with almost all the english text. I imagine that almost all languages could be around that for the most characters.\n",
    "\n",
    "\n"
   ]
  },
  {
   "cell_type": "code",
   "execution_count": 1,
   "metadata": {},
   "outputs": [],
   "source": [
    "import numpy as np"
   ]
  },
  {
   "cell_type": "code",
   "execution_count": 2,
   "metadata": {},
   "outputs": [],
   "source": [
    "from encoders import *\n",
    "from helpers import *"
   ]
  },
  {
   "cell_type": "code",
   "execution_count": 3,
   "metadata": {},
   "outputs": [],
   "source": [
    "utf_enc = Lin2WaveEncoder(0,1114112, neg_allowed=False)"
   ]
  },
  {
   "cell_type": "code",
   "execution_count": 4,
   "metadata": {},
   "outputs": [
    {
     "data": {
      "text/plain": [
       "[2, 4, 6, 8, 10, 12, 14, 16, 18, 20, 22, 24, 26, 28, 30, 32, 34, 36, 38, 40]"
      ]
     },
     "execution_count": 4,
     "metadata": {},
     "output_type": "execute_result"
    }
   ],
   "source": [
    "utf_enc.coefficients"
   ]
  },
  {
   "cell_type": "code",
   "execution_count": 5,
   "metadata": {},
   "outputs": [
    {
     "data": {
      "text/plain": [
       "20"
      ]
     },
     "execution_count": 5,
     "metadata": {},
     "output_type": "execute_result"
    }
   ],
   "source": [
    "len(utf_enc.coefficients)"
   ]
  },
  {
   "cell_type": "code",
   "execution_count": 6,
   "metadata": {},
   "outputs": [
    {
     "data": {
      "text/plain": [
       "2097152"
      ]
     },
     "execution_count": 6,
     "metadata": {},
     "output_type": "execute_result"
    }
   ],
   "source": [
    "2**utf_enc.n_high"
   ]
  },
  {
   "cell_type": "markdown",
   "metadata": {},
   "source": [
    "We can encode almost double the elements ... which is OK, better to be safe than sorry"
   ]
  },
  {
   "cell_type": "code",
   "execution_count": 7,
   "metadata": {},
   "outputs": [
    {
     "data": {
      "text/plain": [
       "23"
      ]
     },
     "execution_count": 7,
     "metadata": {},
     "output_type": "execute_result"
    }
   ],
   "source": [
    "char_pos_enc= Lin2WaveEncoder(0,15000000, neg_allowed=False)\n",
    "len(char_pos_enc.coefficients)"
   ]
  },
  {
   "cell_type": "code",
   "execution_count": 8,
   "metadata": {},
   "outputs": [
    {
     "data": {
      "text/plain": [
       "16777216"
      ]
     },
     "execution_count": 8,
     "metadata": {},
     "output_type": "execute_result"
    }
   ],
   "source": [
    "2**char_pos_enc.n_high"
   ]
  },
  {
   "cell_type": "markdown",
   "metadata": {},
   "source": [
    "It seems that with about 43 elements we can encode all the things that we want, so for the moment what I'll do is add a few tets to check that every encoding is correct"
   ]
  },
  {
   "cell_type": "code",
   "execution_count": 9,
   "metadata": {},
   "outputs": [
    {
     "data": {
      "text/plain": [
       "[2, 4, 6, 8, 10, 12, 14, 16, 18, 20, 22, 24, 26, 28, 30, 32, 34, 36, 38, 40]"
      ]
     },
     "execution_count": 9,
     "metadata": {},
     "output_type": "execute_result"
    }
   ],
   "source": [
    "utf_enc.coefficients"
   ]
  },
  {
   "cell_type": "code",
   "execution_count": 10,
   "metadata": {},
   "outputs": [
    {
     "data": {
      "text/plain": [
       "[2,\n",
       " 4,\n",
       " 8,\n",
       " 16,\n",
       " 32,\n",
       " 64,\n",
       " 128,\n",
       " 256,\n",
       " 512,\n",
       " 1024,\n",
       " 2048,\n",
       " 4096,\n",
       " 8192,\n",
       " 16384,\n",
       " 32768,\n",
       " 65536,\n",
       " 131072,\n",
       " 262144,\n",
       " 524288,\n",
       " 1048576]"
      ]
     },
     "execution_count": 10,
     "metadata": {},
     "output_type": "execute_result"
    }
   ],
   "source": [
    "utf_enc.periods"
   ]
  },
  {
   "cell_type": "code",
   "execution_count": 11,
   "metadata": {},
   "outputs": [],
   "source": [
    "# nums = np.array(list(range(1114113)))\n",
    "# enc_nums = utf_enc.encode(nums)\n",
    "# dec_nums = utf_enc.decode(enc_nums)"
   ]
  },
  {
   "cell_type": "code",
   "execution_count": 12,
   "metadata": {},
   "outputs": [],
   "source": [
    "# diffs = dec_nums - nums"
   ]
  },
  {
   "cell_type": "code",
   "execution_count": 13,
   "metadata": {},
   "outputs": [],
   "source": [
    "# diffs.max()"
   ]
  },
  {
   "cell_type": "code",
   "execution_count": 14,
   "metadata": {},
   "outputs": [],
   "source": [
    "# diffs.min()"
   ]
  },
  {
   "cell_type": "code",
   "execution_count": 15,
   "metadata": {},
   "outputs": [
    {
     "name": "stdout",
     "output_type": "stream",
     "text": [
      "[-7614.99628525] [2385.00371475] [10000] [[0.00601678 0.17493624 0.32673182 0.58800814 0.00195542 0.13115829\n",
      "  0.70151093 0.98928396 0.8150547  0.33285724 0.00724349 0.82218012\n",
      "  0.96967038 0.78657779 0.65023042 0.57599823 0.53810998 0.51906886\n",
      "  0.50953616 0.5047683 ]]\n",
      "[-7615.37501024] [2385.62498976] [10001] [[1.03564933e-01 2.79033554e-01 3.86558448e-01 5.57094223e-01\n",
      "  8.18281119e-04 1.36477680e-01 6.97929851e-01 9.89682423e-01\n",
      "  8.15812401e-01 3.32397127e-01 7.28495169e-03 8.22086763e-01\n",
      "  9.69691306e-01 7.86602798e-01 6.50244973e-01 5.76005771e-01\n",
      "  5.38113780e-01 5.19070767e-01 5.09537118e-01 5.04768776e-01]]\n",
      "[-7615.52474358] [2386.47525642] [10002] [[2.98174216e-01 3.96869493e-01 4.48155289e-01 5.25957358e-01\n",
      "  1.68588183e-04 1.41885822e-01 6.94336695e-01 9.90073413e-01\n",
      "  8.16568902e-01 3.31937175e-01 7.32653409e-03 8.21993385e-01\n",
      "  9.69712229e-01 7.86627804e-01 6.50259527e-01 5.76013312e-01\n",
      "  5.38117583e-01 5.19072673e-01 5.09538072e-01 5.04769253e-01]]\n",
      "[-7615.55751564] [2387.44248436] [10003] [[5.42197489e-01 5.21117588e-01 5.10561150e-01 4.94719130e-01\n",
      "  6.97213906e-06 1.47381393e-01 6.90731677e-01 9.90456925e-01\n",
      "  8.17324195e-01 3.31477384e-01 7.36823395e-03 8.21899987e-01\n",
      "  9.69733146e-01 7.86652809e-01 6.50274080e-01 5.76020852e-01\n",
      "  5.38121387e-01 5.19074579e-01 5.09539025e-01 5.04769730e-01]]\n",
      "[-7615.61038605] [2388.38961395] [10004] [[7.75889346e-01 6.44052693e-01 5.72802208e-01 4.63501524e-01\n",
      "  3.33590802e-04 1.52963050e-01 6.87115019e-01 9.90832953e-01\n",
      "  8.18078278e-01 3.31017753e-01 7.41005127e-03 8.21806570e-01\n",
      "  9.69754056e-01 7.86677813e-01 6.50288633e-01 5.76028393e-01\n",
      "  5.38125190e-01 5.19076485e-01 5.09539979e-01 5.04770207e-01]]\n",
      "[-7615.81518888] [2389.18481112] [10005] [[0.94203387 0.7580313  0.63390721 0.43242644 0.00114813 0.15862943\n",
      "  0.68348694 0.99120149 0.81883115 0.33055828 0.00745199 0.82171313\n",
      "  0.96977496 0.78670282 0.65030319 0.57603593 0.53812899 0.51907839\n",
      "  0.50954093 0.50477068]]\n",
      "[-7616.26952678] [2389.73047322] [10006] [[0.99995308 0.85596677 0.69292264 0.40161524 0.00244978 0.16437915\n",
      "  0.67984766 0.99156254 0.8195828  0.33009898 0.00749404 0.82161968\n",
      "  0.96979585 0.78672782 0.65031774 0.57604347 0.5381328  0.5190803\n",
      "  0.50954189 0.50477116]]\n",
      "[-7617.0159332] [2389.9840668] [10007] [[0.93546635 0.93176995 0.74892757 0.37118822 0.00423728 0.17021081\n",
      "  0.67619741 0.99191608 0.82033323 0.32963983 0.00753621 0.8215262\n",
      "  0.96981674 0.78675282 0.65033229 0.57605102 0.5381366  0.5190822\n",
      "  0.50954284 0.50477164]]\n",
      "[-7618.0341349] [2389.9658651] [10008] [[0.76436226 0.98072777 0.80104807 0.34126421 0.00650889 0.17612298\n",
      "  0.6725364  0.99226212 0.82108245 0.32918085 0.00757849 0.82143271\n",
      "  0.96983762 0.78677782 0.65034684 0.57605856 0.5381404  0.51908411\n",
      "  0.50954379 0.50477211]]\n",
      "[-7619.24816254] [2389.75183746] [10009] [[0.52853307 0.99979626 0.84847082 0.31196006 0.00926239 0.18211423\n",
      "  0.66886486 0.99260064 0.82183043 0.32872203 0.0076209  0.8213392\n",
      "  0.9698585  0.78680282 0.6503614  0.5760661  0.53814421 0.51908601\n",
      "  0.50954475 0.50477259]]\n"
     ]
    }
   ],
   "source": [
    "for i in range(10000, 10010):  # range(1114113):\n",
    "    ei = utf_enc.encode(np.array([i]))\n",
    "    di = utf_enc.decode(ei)\n",
    "    print(di - np.array([i]), di, [i], ei.T)\n",
    "    "
   ]
  },
  {
   "cell_type": "code",
   "execution_count": 16,
   "metadata": {},
   "outputs": [],
   "source": [
    "l2f = Lin2Fourier(0, 1114112, terms=5)"
   ]
  },
  {
   "cell_type": "code",
   "execution_count": 17,
   "metadata": {},
   "outputs": [],
   "source": [
    "c0 = l2f.coefficients[0]"
   ]
  },
  {
   "cell_type": "code",
   "execution_count": null,
   "metadata": {},
   "outputs": [],
   "source": []
  },
  {
   "cell_type": "code",
   "execution_count": 18,
   "metadata": {},
   "outputs": [
    {
     "data": {
      "text/plain": [
       "5.639635246590041e-05"
      ]
     },
     "execution_count": 18,
     "metadata": {},
     "output_type": "execute_result"
    }
   ],
   "source": [
    "l2f.factors[0](10)"
   ]
  },
  {
   "cell_type": "code",
   "execution_count": 19,
   "metadata": {},
   "outputs": [],
   "source": [
    "ten = np.array(range(10))"
   ]
  },
  {
   "cell_type": "code",
   "execution_count": 20,
   "metadata": {},
   "outputs": [],
   "source": [
    "eten = l2f.encode(ten)"
   ]
  },
  {
   "cell_type": "code",
   "execution_count": 21,
   "metadata": {},
   "outputs": [
    {
     "data": {
      "text/plain": [
       "-1114112*sin(5*pi/278528)/pi - 557056*sin(5*pi/139264)/pi - 1114112*sin(15*pi/278528)/(3*pi) - 278528*sin(5*pi/69632)/pi - 1114112*sin(25*pi/278528)/(5*pi)"
      ]
     },
     "execution_count": 21,
     "metadata": {},
     "output_type": "execute_result"
    }
   ],
   "source": [
    "l2f.fs.subs(abc.x,10)"
   ]
  },
  {
   "cell_type": "code",
   "execution_count": 22,
   "metadata": {},
   "outputs": [
    {
     "data": {
      "text/plain": [
       "-39.9999999626816"
      ]
     },
     "execution_count": 22,
     "metadata": {},
     "output_type": "execute_result"
    }
   ],
   "source": [
    "l2f.fs.subs(abc.x,4).evalf()"
   ]
  },
  {
   "cell_type": "code",
   "execution_count": 23,
   "metadata": {},
   "outputs": [],
   "source": [
    "lf = lambdify(abc.x, l2f.fs, \"numpy\")"
   ]
  },
  {
   "cell_type": "code",
   "execution_count": 24,
   "metadata": {},
   "outputs": [
    {
     "data": {
      "text/plain": [
       "-39.999999962681564"
      ]
     },
     "execution_count": 24,
     "metadata": {},
     "output_type": "execute_result"
    }
   ],
   "source": [
    "lf(4)"
   ]
  },
  {
   "cell_type": "code",
   "execution_count": 25,
   "metadata": {},
   "outputs": [
    {
     "data": {
      "text/plain": [
       "-1114112*sin(pi*x/557056)/pi - 557056*sin(pi*x/278528)/pi - 1114112*sin(3*pi*x/557056)/(3*pi) - 278528*sin(pi*x/139264)/pi - 1114112*sin(5*pi*x/557056)/(5*pi)"
      ]
     },
     "execution_count": 25,
     "metadata": {},
     "output_type": "execute_result"
    }
   ],
   "source": [
    "l2f.fs"
   ]
  },
  {
   "cell_type": "code",
   "execution_count": 26,
   "metadata": {},
   "outputs": [],
   "source": [
    "# l2f.decode(eten)"
   ]
  },
  {
   "cell_type": "code",
   "execution_count": 27,
   "metadata": {},
   "outputs": [],
   "source": [
    "c = [c for c in l2f.factors][3]"
   ]
  },
  {
   "cell_type": "code",
   "execution_count": 28,
   "metadata": {},
   "outputs": [
    {
     "data": {
      "text/plain": [
       "<function _lambdifygenerated(x)>"
      ]
     },
     "execution_count": 28,
     "metadata": {},
     "output_type": "execute_result"
    }
   ],
   "source": [
    "c"
   ]
  },
  {
   "cell_type": "code",
   "execution_count": 29,
   "metadata": {},
   "outputs": [],
   "source": [
    "# for i in range(10):  # range(1114113):\n",
    "#     ei = l2f.encode(np.array([i]))\n",
    "#     di = l2f.decode(ei)\n",
    "#     print(di - np.array([i]), di, [i], ei.T)\n",
    "    "
   ]
  },
  {
   "cell_type": "code",
   "execution_count": 30,
   "metadata": {},
   "outputs": [],
   "source": [
    "import numpy as np\n",
    "numpy = np  # FIXME, somewhere the reference is missing\n",
    "import sympy\n",
    "from sympy import abc\n",
    "from sympy import lambdify\n",
    "from sympy import fourier_series, pi"
   ]
  },
  {
   "cell_type": "code",
   "execution_count": 31,
   "metadata": {},
   "outputs": [],
   "source": [
    "min_val = 0\n",
    "max_val = 1114112\n",
    "terms = 20\n",
    "fs = fourier_series(abc.x, (abc.x, min_val, max_val))  # .truncate(terms)"
   ]
  },
  {
   "cell_type": "code",
   "execution_count": 32,
   "metadata": {},
   "outputs": [
    {
     "data": {
      "text/plain": [
       "FourierSeries(x, (x, 0, 1114112), (0, SeqFormula(0, (_k, 1, oo)), SeqFormula(Piecewise((-620622774272*cos(2*_n*pi)/(_n*pi) + 310311387136*sin(2*_n*pi)/(_n**2*pi**2), (_n > -oo) & (_n < oo) & Ne(_n, 0)), (0, True))*sin(_n*pi*x/557056)/557056, (_n, 1, oo))))"
      ]
     },
     "execution_count": 32,
     "metadata": {},
     "output_type": "execute_result"
    }
   ],
   "source": [
    "fs"
   ]
  },
  {
   "cell_type": "code",
   "execution_count": 33,
   "metadata": {},
   "outputs": [],
   "source": [
    "fs_args = fs.args "
   ]
  },
  {
   "cell_type": "code",
   "execution_count": 34,
   "metadata": {},
   "outputs": [],
   "source": [
    "# coef_fact = [ (lambdify(abc.x, (np.product(f.args[:-1]), \"numpy\")[0]),  # evaluate  sympy.pi to numeric\n",
    "#                       lambdify(abc.x, f.args[-1], \"numpy\")) for f in fs_args  # create lambda functions\n",
    "#                      ]"
   ]
  },
  {
   "cell_type": "code",
   "execution_count": 35,
   "metadata": {},
   "outputs": [],
   "source": [
    "# coefficients, factors = zip(*coef_fact)"
   ]
  },
  {
   "cell_type": "code",
   "execution_count": 36,
   "metadata": {},
   "outputs": [],
   "source": [
    "# coefficients = np.stack(coefficients)"
   ]
  },
  {
   "cell_type": "code",
   "execution_count": 37,
   "metadata": {},
   "outputs": [],
   "source": [
    "# coefficients"
   ]
  },
  {
   "cell_type": "code",
   "execution_count": 38,
   "metadata": {},
   "outputs": [],
   "source": [
    "a = 'a'\n",
    "b = 'b'\n",
    "s = \"this is a text\"\n",
    "s1 = '0123456789abcdefghijklmnopqrstuvwxyzABCDEFGHI'"
   ]
  },
  {
   "cell_type": "code",
   "execution_count": 39,
   "metadata": {},
   "outputs": [],
   "source": [
    "ea = a.encode('utf-8')"
   ]
  },
  {
   "cell_type": "code",
   "execution_count": 40,
   "metadata": {},
   "outputs": [
    {
     "data": {
      "text/plain": [
       "97"
      ]
     },
     "execution_count": 40,
     "metadata": {},
     "output_type": "execute_result"
    }
   ],
   "source": [
    "int.from_bytes(ea, byteorder='big')"
   ]
  },
  {
   "cell_type": "code",
   "execution_count": 41,
   "metadata": {},
   "outputs": [],
   "source": [
    "import commpy"
   ]
  },
  {
   "cell_type": "code",
   "execution_count": null,
   "metadata": {},
   "outputs": [],
   "source": [
    "commpy."
   ]
  }
 ],
 "metadata": {
  "kernelspec": {
   "display_name": "Python 3",
   "language": "python",
   "name": "python3"
  },
  "language_info": {
   "codemirror_mode": {
    "name": "ipython",
    "version": 3
   },
   "file_extension": ".py",
   "mimetype": "text/x-python",
   "name": "python",
   "nbconvert_exporter": "python",
   "pygments_lexer": "ipython3",
   "version": "3.7.3"
  }
 },
 "nbformat": 4,
 "nbformat_minor": 4
}
