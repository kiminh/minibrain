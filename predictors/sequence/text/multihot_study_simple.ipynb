{
 "cells": [
  {
   "cell_type": "markdown",
   "metadata": {},
   "source": [
    "# MultiHot Sparse Encoding\n",
    "\n",
    "This tests are based on the previous Error Correction Codes. For those I still don't find a way of easy deconding from a neural network, but there should be something there.\n",
    "\n",
    "In this study I make an encoding for UTF-8 that can manage all the possible (valid) codes. \n",
    "\n",
    "The idea is to reduce the input space, being able to encode any existing text with a finite set that should be smaller than current one-hot encoder approaches. This should provide a universal first layer for text encoding.\n",
    "\n",
    "The next layers I have an idea on how to work with them, but for the moment let's make a first one that actually works.\n",
    "\n",
    "\n",
    "The first step is to build an **Overfitted** autoencoder, this is just to validate that the codes are feasible.\n",
    "\n",
    "A couple of sources:\n",
    "\n",
    "- [UTF-8 complete table](https://www.utf8-chartable.de/unicode-utf8-table.pl)\n",
    "- [UTF-8 Wikipedia](https://en.wikipedia.org/wiki/UTF-8)\n"
   ]
  },
  {
   "cell_type": "code",
   "execution_count": 3,
   "metadata": {},
   "outputs": [],
   "source": [
    "import numpy as np\n",
    "import pickle\n",
    "import torch\n",
    "from utf8_encoder import *"
   ]
  },
  {
   "cell_type": "markdown",
   "metadata": {},
   "source": [
    "Since the entire utf-8 univers is NOT the entire $2^{32}$ domain, but there are limitations explained in [the utf-8 description](https://en.wikipedia.org/wiki/UTF-8)\n",
    "\n",
    "| Number of bytes | Bits for code point | First code point | Last code point | Byte 1   | Byte 2   | Byte 3   | Byte 4   |\n",
    "|----------------|--------------------|-----------------|----------------|----------|----------|----------|----------|\n",
    "| 1              | 7                  | U+0000          | U+007F         | 0xxxxxxx |          |          |          |\n",
    "| 2              | 11                 | U+0080          | U+07FF         | 110xxxxx | 10xxxxxx |          |          |\n",
    "| 3              | 16                 | U+0800          | U+FFFF         | 1110xxxx | 10xxxxxx | 10xxxxxx |          |\n",
    "| 4              | 21                 | U+10000         | U+10FFFF       | 11110xxx | 10xxxxxx | 10xxxxxx | 10xxxxxx |\n",
    "\n",
    "I'll then compute different table parts and do an append when needed\n",
    "\n",
    "The thing is that the number of elements in the table should be at most $2^{21}$, I need to create a sort of index that can handle the 4 cases.\n",
    "It seems I'll have to create 4 different conversion tables.\n",
    "\n",
    "\n"
   ]
  },
  {
   "cell_type": "markdown",
   "metadata": {},
   "source": [
    "In fact ... it seems that I can just chunk the utf-8 value in chunks and do one-hot per different parts:\n",
    "- there are only 4 segment ranges, that can be coded in one-hot also add there either hamming or other ECC\n",
    "- the largest value is for 7 bits -> 128 values\n",
    "- the others contain 6 bits -> 64 values\n",
    "The prefix of each can be taken away and replaced by the initial one-hot\n",
    "\n",
    "So a complete code would be:  $ 4 + 128 + 64 + 64 + 64 = 324 $\n",
    "\n",
    "Instead of having dimension 1,112,064 to encode any utf-8 value.\n",
    "\n",
    "The encoder is  much simpler than I thought for this case, later I can add ECC for each, knowing that there is only one active bit in each row, this makes the task easier.\n",
    "\n",
    "This embedding can stil be reduced but should be sparse enough already to make a good input"
   ]
  },
  {
   "cell_type": "code",
   "execution_count": 2,
   "metadata": {},
   "outputs": [
    {
     "data": {
      "text/plain": [
       "324"
      ]
     },
     "execution_count": 2,
     "metadata": {},
     "output_type": "execute_result"
    }
   ],
   "source": [
    "4 + 128 + 64 + 64 + 64 "
   ]
  },
  {
   "cell_type": "code",
   "execution_count": 3,
   "metadata": {},
   "outputs": [],
   "source": [
    "# number of parameters for a one-hot by chunks encoding:\n",
    "chunk_sizes = [4, 5, 6, 8, 12]\n",
    "n_params = []\n",
    "for c in chunk_sizes:\n",
    "    n_params.append((c, (32 // c) * 2**c))"
   ]
  },
  {
   "cell_type": "code",
   "execution_count": 4,
   "metadata": {},
   "outputs": [
    {
     "data": {
      "text/plain": [
       "[(4, 128), (5, 192), (6, 320), (8, 1024), (12, 8192)]"
      ]
     },
     "execution_count": 4,
     "metadata": {},
     "output_type": "execute_result"
    }
   ],
   "source": [
    "n_params"
   ]
  },
  {
   "cell_type": "code",
   "execution_count": 5,
   "metadata": {},
   "outputs": [],
   "source": [
    "import torch\n",
    "\n",
    "emd = torch.nn.Embedding(2**10, 300)"
   ]
  },
  {
   "cell_type": "code",
   "execution_count": 6,
   "metadata": {},
   "outputs": [],
   "source": [
    "model_parameters = filter(lambda p: p.requires_grad, emd.parameters())\n",
    "params = sum([np.prod(p.size()) for p in model_parameters])\n"
   ]
  },
  {
   "cell_type": "code",
   "execution_count": 7,
   "metadata": {},
   "outputs": [
    {
     "data": {
      "text/plain": [
       "307200"
      ]
     },
     "execution_count": 7,
     "metadata": {},
     "output_type": "execute_result"
    }
   ],
   "source": [
    "params"
   ]
  },
  {
   "cell_type": "code",
   "execution_count": 8,
   "metadata": {},
   "outputs": [],
   "source": [
    "# from https://discuss.pytorch.org/t/how-do-i-check-the-number-of-parameters-of-a-model/4325/7\n",
    "# counting the number of (trainable) parameters of a pytorch model\n",
    "def count_parameters(model):\n",
    "    return sum(p.numel() for p in model.parameters() if p.requires_grad)"
   ]
  },
  {
   "cell_type": "code",
   "execution_count": 9,
   "metadata": {},
   "outputs": [
    {
     "data": {
      "text/plain": [
       "307200"
      ]
     },
     "execution_count": 9,
     "metadata": {},
     "output_type": "execute_result"
    }
   ],
   "source": [
    "count_parameters(emd)"
   ]
  },
  {
   "cell_type": "markdown",
   "metadata": {},
   "source": [
    "The embedding layer is a fully connected layer ... this means a LOT of parameters\n",
    "\n",
    "To be able to do an effective one-hot of all utf-8 would be:"
   ]
  },
  {
   "cell_type": "code",
   "execution_count": 10,
   "metadata": {},
   "outputs": [
    {
     "name": "stdout",
     "output_type": "stream",
     "text": [
      "50 55603200\n",
      "100 111206400\n",
      "200 222412800\n",
      "300 333619200\n"
     ]
    }
   ],
   "source": [
    "for i in [50,100,200,300]:\n",
    "    print(i, 1112064 * i)"
   ]
  },
  {
   "cell_type": "markdown",
   "metadata": {},
   "source": [
    "Which means I don't want to train that layer ... it would not even fit in my GPU\n",
    "\n",
    "There is another thing, the embedding layer learns from the sample input, this means that it will ignore all values that don't appear or are underrepresented (a know issue). My goal is to deal with this with meta-learning techniques, but always being able to keep adding new inputs.\n"
   ]
  },
  {
   "cell_type": "code",
   "execution_count": 11,
   "metadata": {},
   "outputs": [
    {
     "name": "stdout",
     "output_type": "stream",
     "text": [
      "number of codes =  59328\n",
      "number of code_exceptions =  4224\n"
     ]
    }
   ],
   "source": [
    "tables = create_tables(segments=3)"
   ]
  },
  {
   "cell_type": "code",
   "execution_count": 12,
   "metadata": {},
   "outputs": [],
   "source": [
    "# tables = create_tables()  # 4 segments by default\n",
    "# if the previous line is executed gives:\n",
    "# number of codes =  1107904\n",
    "# number of code_exceptions =  790656\n"
   ]
  },
  {
   "cell_type": "code",
   "execution_count": 13,
   "metadata": {},
   "outputs": [],
   "source": [
    "np.save(\"utf8_code_matrix_3seg\", tables[0])"
   ]
  },
  {
   "cell_type": "code",
   "execution_count": 14,
   "metadata": {},
   "outputs": [],
   "source": [
    "save_obj(tables[1], \"txt2code_3seg\")\n",
    "save_obj(tables[2], \"code2txt_3seg\")\n",
    "save_obj(tables[3], \"txt2num_3seg\")\n",
    "save_obj(tables[4], \"num2txt_3seg\")"
   ]
  },
  {
   "cell_type": "code",
   "execution_count": 15,
   "metadata": {},
   "outputs": [],
   "source": [
    "t2c = tables[1]\n",
    "c2t = tables[2]\n",
    "n2t = tables[4]\n",
    "t2n = tables[3]"
   ]
  },
  {
   "cell_type": "code",
   "execution_count": 16,
   "metadata": {},
   "outputs": [
    {
     "data": {
      "text/plain": [
       "((59328, 388), 59328, 59328, 59328, 59328)"
      ]
     },
     "execution_count": 16,
     "metadata": {},
     "output_type": "execute_result"
    }
   ],
   "source": [
    "# checking that all the tables have the right number of codes\n",
    "tables[0].shape, len(t2n.keys()), len(n2t.keys()), len(tables[1].keys()), len(tables[2].keys())"
   ]
  },
  {
   "cell_type": "markdown",
   "metadata": {},
   "source": [
    "Although Wikipedia says:\n",
    "\n",
    "'''\n",
    "  UTF-8 is a variable width character encoding capable of encoding all 1,112,064 valid code points in Unicode using one to four 8-bit bytes.\n",
    "'''\n",
    "\n",
    "We have managed to encode only 1107904 codes, so we are missing somehow 4160 codes that python can't encode from bytes. I won't deal with this for the moment, I'll just believe python that it knows how to encode utf-8 (or I should start creating tests and find if python has a bug and create the ticket ... I must stay strong and follow my goal without diverging as I almost have no time)"
   ]
  },
  {
   "cell_type": "code",
   "execution_count": 17,
   "metadata": {},
   "outputs": [
    {
     "data": {
      "text/plain": [
       "4160"
      ]
     },
     "execution_count": 17,
     "metadata": {},
     "output_type": "execute_result"
    }
   ],
   "source": [
    "1112064 - 1107904"
   ]
  },
  {
   "cell_type": "code",
   "execution_count": 18,
   "metadata": {},
   "outputs": [
    {
     "data": {
      "text/plain": [
       "2164864"
      ]
     },
     "execution_count": 18,
     "metadata": {},
     "output_type": "execute_result"
    }
   ],
   "source": [
    "128 + (2**5 * 2**6)+ (2**4 * (2**6)**2) + (2**3 * (2**6)**3)"
   ]
  },
  {
   "cell_type": "code",
   "execution_count": 19,
   "metadata": {},
   "outputs": [
    {
     "data": {
      "text/plain": [
       "2164864"
      ]
     },
     "execution_count": 19,
     "metadata": {},
     "output_type": "execute_result"
    }
   ],
   "source": [
    "2**21 + 2**16 + 2**11 + 2**7"
   ]
  },
  {
   "cell_type": "code",
   "execution_count": 20,
   "metadata": {},
   "outputs": [
    {
     "name": "stdout",
     "output_type": "stream",
     "text": [
      "indices for the segments:  0 128 2176 65664 2097280\n"
     ]
    }
   ],
   "source": [
    "print(\"indices for the segments: \", 0, 128, (128 + 2**5 * 2**6), (128 + 2**4 * (2**6)**2), (128 + 2**3 * (2**6)**3) )"
   ]
  },
  {
   "cell_type": "code",
   "execution_count": 21,
   "metadata": {},
   "outputs": [],
   "source": [
    "# from:  https://stackoverflow.com/questions/7971618/python-return-first-n-keyvalue-pairs-from-dict\n",
    "from itertools import islice\n",
    "\n",
    "def take(n, iterable):\n",
    "    \"Return first n items of the iterable as a list\"\n",
    "    return list(islice(iterable, n))"
   ]
  },
  {
   "cell_type": "code",
   "execution_count": 22,
   "metadata": {},
   "outputs": [
    {
     "data": {
      "text/plain": [
       "[(0, '\\x00'),\n",
       " (1, '\\x01'),\n",
       " (2, '\\x02'),\n",
       " (3, '\\x03'),\n",
       " (4, '\\x04'),\n",
       " (5, '\\x05'),\n",
       " (6, '\\x06'),\n",
       " (7, '\\x07'),\n",
       " (8, '\\x08'),\n",
       " (9, '\\t'),\n",
       " (10, '\\n'),\n",
       " (11, '\\x0b'),\n",
       " (12, '\\x0c'),\n",
       " (13, '\\r'),\n",
       " (14, '\\x0e'),\n",
       " (15, '\\x0f'),\n",
       " (16, '\\x10'),\n",
       " (17, '\\x11'),\n",
       " (18, '\\x12'),\n",
       " (19, '\\x13'),\n",
       " (20, '\\x14'),\n",
       " (21, '\\x15'),\n",
       " (22, '\\x16'),\n",
       " (23, '\\x17'),\n",
       " (24, '\\x18'),\n",
       " (25, '\\x19'),\n",
       " (26, '\\x1a'),\n",
       " (27, '\\x1b'),\n",
       " (28, '\\x1c'),\n",
       " (29, '\\x1d'),\n",
       " (30, '\\x1e'),\n",
       " (31, '\\x1f'),\n",
       " (32, ' '),\n",
       " (33, '!'),\n",
       " (34, '\"'),\n",
       " (35, '#'),\n",
       " (36, '$'),\n",
       " (37, '%'),\n",
       " (38, '&'),\n",
       " (39, \"'\"),\n",
       " (40, '('),\n",
       " (41, ')'),\n",
       " (42, '*'),\n",
       " (43, '+'),\n",
       " (44, ','),\n",
       " (45, '-'),\n",
       " (46, '.'),\n",
       " (47, '/'),\n",
       " (48, '0'),\n",
       " (49, '1'),\n",
       " (50, '2'),\n",
       " (51, '3'),\n",
       " (52, '4'),\n",
       " (53, '5'),\n",
       " (54, '6'),\n",
       " (55, '7'),\n",
       " (56, '8'),\n",
       " (57, '9'),\n",
       " (58, ':'),\n",
       " (59, ';'),\n",
       " (60, '<'),\n",
       " (61, '='),\n",
       " (62, '>'),\n",
       " (63, '?'),\n",
       " (64, '@'),\n",
       " (65, 'A'),\n",
       " (66, 'B'),\n",
       " (67, 'C'),\n",
       " (68, 'D'),\n",
       " (69, 'E'),\n",
       " (70, 'F'),\n",
       " (71, 'G'),\n",
       " (72, 'H'),\n",
       " (73, 'I'),\n",
       " (74, 'J'),\n",
       " (75, 'K'),\n",
       " (76, 'L'),\n",
       " (77, 'M'),\n",
       " (78, 'N'),\n",
       " (79, 'O'),\n",
       " (80, 'P'),\n",
       " (81, 'Q'),\n",
       " (82, 'R'),\n",
       " (83, 'S'),\n",
       " (84, 'T'),\n",
       " (85, 'U'),\n",
       " (86, 'V'),\n",
       " (87, 'W'),\n",
       " (88, 'X'),\n",
       " (89, 'Y'),\n",
       " (90, 'Z'),\n",
       " (91, '['),\n",
       " (92, '\\\\'),\n",
       " (93, ']'),\n",
       " (94, '^'),\n",
       " (95, '_'),\n",
       " (96, '`'),\n",
       " (97, 'a'),\n",
       " (98, 'b'),\n",
       " (99, 'c')]"
      ]
     },
     "execution_count": 22,
     "metadata": {},
     "output_type": "execute_result"
    }
   ],
   "source": [
    "take(100, n2t.items())"
   ]
  },
  {
   "cell_type": "code",
   "execution_count": 23,
   "metadata": {},
   "outputs": [
    {
     "data": {
      "text/plain": [
       "9"
      ]
     },
     "execution_count": 23,
     "metadata": {},
     "output_type": "execute_result"
    }
   ],
   "source": [
    "t2n['\\x09']"
   ]
  },
  {
   "cell_type": "code",
   "execution_count": 24,
   "metadata": {},
   "outputs": [
    {
     "data": {
      "text/plain": [
       "388"
      ]
     },
     "execution_count": 24,
     "metadata": {},
     "output_type": "execute_result"
    }
   ],
   "source": [
    "len(take(10, t2c.items())[0][1])"
   ]
  },
  {
   "cell_type": "code",
   "execution_count": 25,
   "metadata": {},
   "outputs": [],
   "source": [
    "import torch\n",
    "from torch import sparse\n"
   ]
  },
  {
   "cell_type": "code",
   "execution_count": 26,
   "metadata": {},
   "outputs": [],
   "source": [
    "codes = torch.from_numpy(tables[0])"
   ]
  },
  {
   "cell_type": "code",
   "execution_count": 27,
   "metadata": {},
   "outputs": [],
   "source": [
    "# from https://discuss.pytorch.org/t/how-to-convert-a-dense-matrix-to-a-sparse-one/7809\n",
    "\n",
    "def to_sparse(x):\n",
    "    \"\"\" converts dense tensor x to sparse format \"\"\"\n",
    "    x_typename = torch.typename(x).split('.')[-1]\n",
    "    sparse_tensortype = getattr(torch.sparse, x_typename)\n",
    "\n",
    "    indices = torch.nonzero(x)\n",
    "    if len(indices.shape) == 0:  # if all elements are zeros\n",
    "        return sparse_tensortype(*x.shape)\n",
    "    indices = indices.t()\n",
    "    values = x[tuple(indices[i] for i in range(indices.shape[0]))]\n",
    "    return sparse_tensortype(indices, values, x.size())\n"
   ]
  },
  {
   "cell_type": "code",
   "execution_count": 28,
   "metadata": {},
   "outputs": [],
   "source": [
    "scodes = to_sparse(codes)"
   ]
  },
  {
   "cell_type": "code",
   "execution_count": 29,
   "metadata": {},
   "outputs": [
    {
     "data": {
      "text/plain": [
       "True"
      ]
     },
     "execution_count": 29,
     "metadata": {},
     "output_type": "execute_result"
    }
   ],
   "source": [
    "scodes.is_sparse"
   ]
  },
  {
   "cell_type": "code",
   "execution_count": 30,
   "metadata": {},
   "outputs": [
    {
     "data": {
      "text/plain": [
       "torch.sparse.DoubleTensor"
      ]
     },
     "execution_count": 30,
     "metadata": {},
     "output_type": "execute_result"
    }
   ],
   "source": [
    "type(scodes)"
   ]
  },
  {
   "cell_type": "code",
   "execution_count": 31,
   "metadata": {},
   "outputs": [],
   "source": [
    "# pytorch sparse can't be saved yet ... not implemented for the moment (I should do it myself and send the patch)\n",
    "# torch.save(scodes, \"utf8-codes.pt\")\n",
    "# save_obj(scodes, \"utf8-codes.torch\")"
   ]
  },
  {
   "cell_type": "code",
   "execution_count": 32,
   "metadata": {},
   "outputs": [],
   "source": [
    "import scipy as sp\n",
    "import scipy.sparse"
   ]
  },
  {
   "cell_type": "code",
   "execution_count": 33,
   "metadata": {},
   "outputs": [],
   "source": [
    "spcodes = sp.sparse.coo_matrix(tables[0])"
   ]
  },
  {
   "cell_type": "code",
   "execution_count": 34,
   "metadata": {},
   "outputs": [],
   "source": [
    "save_obj(spcodes, \"utf8-codes-scipy-sparse_3seg\")"
   ]
  },
  {
   "cell_type": "markdown",
   "metadata": {},
   "source": [
    "So, for the moment we have the posibility to encode all utf-8 characters, but is still a bit big in size when having the complete. But I'll try to cut the use of memory because 6.8GB for the \"dense\" matrix reprsentation is too much. In Sparse mode matrix is only 83MB for the entire dataset. Nevertheless there are many characters that I will not be using for the first tests, so having it use only a part will (should) be enough.\n",
    "\n",
    "So I'll see how big the encoder is without the 4 segments, but only using the first 3 (this should be enough for most applications) so we can encode \n",
    "\n",
    "number of codes =  59328\n",
    "\n",
    "number of code_exceptions =  4224\n",
    "\n",
    "the entire code is now 206MB on a file on disk in non sparse mode and 3.6MB on sparse mode on disk for codes with 4 segments (this mode is scalable to later add the rest of the code without the need of redoing the architecture)\n",
    "\n",
    "But also reducing the number of bytes on the code (using only 3 bytes max instead of 4) by not taking the last one that anyways we are not using for this application we can reduce this to 177MB of the complete \"dense\" code on disk and 3.6MB on sparse mode.\n",
    "\n",
    "I would not recomend doing this all the time as it restricts the power of the input network to only known elements (and we want to do with all the possible codes) but for my tests this reduces the usage of memory, the amount of parameters and the processing time.\n",
    "\n",
    "When using 4 segments there are 452 elements per code, when using 3 there are 388\n",
    "\n",
    "So I can start playing with it without worrying about memory ;)\n",
    "\n"
   ]
  },
  {
   "cell_type": "code",
   "execution_count": 5,
   "metadata": {},
   "outputs": [],
   "source": [
    "d = np.load(\"utf8_code_matrix_3seg.npy\")"
   ]
  },
  {
   "cell_type": "code",
   "execution_count": 7,
   "metadata": {},
   "outputs": [],
   "source": [
    "d = torch.from_numpy(d)"
   ]
  },
  {
   "cell_type": "code",
   "execution_count": 10,
   "metadata": {},
   "outputs": [],
   "source": [
    "cudad = d.cuda()"
   ]
  },
  {
   "cell_type": "code",
   "execution_count": 12,
   "metadata": {},
   "outputs": [
    {
     "data": {
      "text/plain": [
       "59328"
      ]
     },
     "execution_count": 12,
     "metadata": {},
     "output_type": "execute_result"
    }
   ],
   "source": [
    "len(d)"
   ]
  },
  {
   "cell_type": "code",
   "execution_count": 1,
   "metadata": {},
   "outputs": [],
   "source": [
    "# trying the autoencoder now, this is just to see if it works before going on with a more complex setup\n",
    "import numpy as np\n",
    "import pickle\n",
    "import torch\n",
    "from utf8_encoder import *\n",
    "from utf8vae import *\n",
    "from torch.utils.data import TensorDataset"
   ]
  },
  {
   "cell_type": "code",
   "execution_count": 2,
   "metadata": {},
   "outputs": [],
   "source": [
    "# Reconstruction + KL divergence losses summed over all elements and batch\n",
    "def loss_function(recon_x, x, mu, logvar, vector_size, channels=1):\n",
    "#     print(\"x shape = \", x.shape, recon_x.shape)\n",
    "#     BCE = F.binary_cross_entropy(recon_x, x, size_average=False)\n",
    "#     BCE = F.nll_loss(recon_x, x)\n",
    "    BCE = F.mse_loss(recon_x, x)\n",
    "\n",
    "    # see Appendix B from VAE paper:\n",
    "    # Kingma and Welling. Auto-Encoding Variational Bayes. ICLR, 2014\n",
    "    # https://arxiv.org/abs/1312.6114\n",
    "    # 0.5 * sum(1 + log(sigma^2) - mu^2 - sigma^2)\n",
    "    KLD = -0.5 * torch.sum(1 + logvar - mu.pow(2) - logvar.exp())\n",
    "\n",
    "    return BCE + KLD\n"
   ]
  },
  {
   "cell_type": "code",
   "execution_count": 7,
   "metadata": {},
   "outputs": [],
   "source": [
    "\n",
    "def train_overfit():\n",
    "    # generate dataset inputs (basically the same as the encoding)\n",
    "    # We are going to overfit\n",
    "    epochs = 100\n",
    "    segments = 3  # I do with 3 as it will be much MUCH faster and smaller for my resources than 4 segments\n",
    "    in_size = 388  # 3 segments\n",
    "    hidd_size = 100\n",
    "    code_size = 50\n",
    "    device = device = torch.device(\"cuda:0\" if torch.cuda.is_available() else \"cpu\")\n",
    "    vector_size = code_size\n",
    "    channels = 1\n",
    "    batch_size = 10\n",
    "    datafile = \"utf8_code_matrix_3seg.npy\"\n",
    "    log_interval = 10\n",
    "    \n",
    "    model = UTF8VAE(in_size, hidd_size, code_size, segments=segments)\n",
    "    # loader = DataLoader(UTF8Dataset(\"utf8_code_matrix_3seg.npy\"), batch_size=batch_size)\n",
    "\n",
    "    name = \"utf8-vae-3segments-overfit\"\n",
    "    optimizer = optim.Adam(model.parameters(), lr=1e-3)\n",
    "    n_batches = 10\n",
    "    n_epocs = 100\n",
    "    # train_loader, test_loader = get_loaders(batch_size, transformation)\n",
    "    # we are overfitting, so train and test is the same thing.\n",
    "\n",
    "#     for epoch in range(1, epochs + 1):\n",
    "#         train(model, optimizer, loss_function, loader,epoch, vector_size, channels)\n",
    "#         test(model, loader, epoch, vector_size, channels)\n",
    "    data = torch.from_numpy(np.load(datafile)).float()\n",
    "    data = data#.to(device)\n",
    "    model = model#.to(device)\n",
    "    \n",
    "    model.train()\n",
    "    for epoch in range(n_epocs):\n",
    "        train_loss = 0\n",
    "        for batch_idx in range(n_batches):\n",
    "            optimizer.zero_grad()\n",
    "            recon_batch, mu, logvar = model(data)\n",
    "            loss = loss_function(recon_batch, data, mu, logvar, vector_size, channels)\n",
    "            loss.backward()\n",
    "            train_loss += loss.data.item()\n",
    "            optimizer.step()\n",
    "            if batch_idx % log_interval == 0:\n",
    "                print('Train Epoch: {} [{}/{} ({:.0f}%)]\\tLoss: {:.6f}'.format(\n",
    "                    epoch, batch_idx * len(data), len(data),\n",
    "                    100. * batch_idx / len(data),\n",
    "                    loss.data.item() / len(data)))\n",
    "\n",
    "        print('====> Epoch: {} Average loss: {:.4f}'.format(\n",
    "              epoch, train_loss / len(data)))\n",
    "\n",
    "\n",
    "    model.save_model(name, \"saved_models\")\n",
    "    # train_all(models)\n"
   ]
  },
  {
   "cell_type": "code",
   "execution_count": 8,
   "metadata": {},
   "outputs": [
    {
     "name": "stdout",
     "output_type": "stream",
     "text": [
      "Train Epoch: 0 [0/59328 (0%)]\tLoss: 0.150021\n",
      "====> Epoch: 0 Average loss: 0.8654\n",
      "Train Epoch: 1 [0/59328 (0%)]\tLoss: 0.033982\n",
      "====> Epoch: 1 Average loss: 0.1975\n",
      "Train Epoch: 2 [0/59328 (0%)]\tLoss: 0.010952\n",
      "====> Epoch: 2 Average loss: 0.0826\n",
      "Train Epoch: 3 [0/59328 (0%)]\tLoss: 0.005836\n",
      "====> Epoch: 3 Average loss: 0.0448\n",
      "Train Epoch: 4 [0/59328 (0%)]\tLoss: 0.003277\n",
      "====> Epoch: 4 Average loss: 0.0267\n",
      "Train Epoch: 5 [0/59328 (0%)]\tLoss: 0.002106\n",
      "====> Epoch: 5 Average loss: 0.0184\n",
      "Train Epoch: 6 [0/59328 (0%)]\tLoss: 0.001544\n",
      "====> Epoch: 6 Average loss: 0.0138\n",
      "Train Epoch: 7 [0/59328 (0%)]\tLoss: 0.001216\n",
      "====> Epoch: 7 Average loss: 0.0111\n",
      "Train Epoch: 8 [0/59328 (0%)]\tLoss: 0.001005\n",
      "====> Epoch: 8 Average loss: 0.0094\n",
      "Train Epoch: 9 [0/59328 (0%)]\tLoss: 0.000866\n",
      "====> Epoch: 9 Average loss: 0.0082\n",
      "Train Epoch: 10 [0/59328 (0%)]\tLoss: 0.000768\n",
      "====> Epoch: 10 Average loss: 0.0073\n",
      "Train Epoch: 11 [0/59328 (0%)]\tLoss: 0.000696\n",
      "====> Epoch: 11 Average loss: 0.0067\n",
      "Train Epoch: 12 [0/59328 (0%)]\tLoss: 0.000643\n",
      "====> Epoch: 12 Average loss: 0.0062\n",
      "Train Epoch: 13 [0/59328 (0%)]\tLoss: 0.000602\n",
      "====> Epoch: 13 Average loss: 0.0059\n",
      "Train Epoch: 14 [0/59328 (0%)]\tLoss: 0.000571\n",
      "====> Epoch: 14 Average loss: 0.0056\n",
      "Train Epoch: 15 [0/59328 (0%)]\tLoss: 0.000546\n",
      "====> Epoch: 15 Average loss: 0.0054\n",
      "Train Epoch: 16 [0/59328 (0%)]\tLoss: 0.000527\n",
      "====> Epoch: 16 Average loss: 0.0052\n",
      "Train Epoch: 17 [0/59328 (0%)]\tLoss: 0.000511\n",
      "====> Epoch: 17 Average loss: 0.0051\n",
      "Train Epoch: 18 [0/59328 (0%)]\tLoss: 0.000499\n",
      "====> Epoch: 18 Average loss: 0.0049\n",
      "Train Epoch: 19 [0/59328 (0%)]\tLoss: 0.000489\n",
      "====> Epoch: 19 Average loss: 0.0049\n",
      "Train Epoch: 20 [0/59328 (0%)]\tLoss: 0.000481\n",
      "====> Epoch: 20 Average loss: 0.0048\n",
      "Train Epoch: 21 [0/59328 (0%)]\tLoss: 0.000475\n",
      "====> Epoch: 21 Average loss: 0.0047\n",
      "Train Epoch: 22 [0/59328 (0%)]\tLoss: 0.000469\n",
      "====> Epoch: 22 Average loss: 0.0047\n",
      "Train Epoch: 23 [0/59328 (0%)]\tLoss: 0.000465\n",
      "====> Epoch: 23 Average loss: 0.0046\n",
      "Train Epoch: 24 [0/59328 (0%)]\tLoss: 0.000461\n",
      "====> Epoch: 24 Average loss: 0.0046\n",
      "Train Epoch: 25 [0/59328 (0%)]\tLoss: 0.000458\n",
      "====> Epoch: 25 Average loss: 0.0046\n",
      "Train Epoch: 26 [0/59328 (0%)]\tLoss: 0.000456\n",
      "====> Epoch: 26 Average loss: 0.0045\n",
      "Train Epoch: 27 [0/59328 (0%)]\tLoss: 0.000454\n",
      "====> Epoch: 27 Average loss: 0.0045\n",
      "Train Epoch: 28 [0/59328 (0%)]\tLoss: 0.000452\n",
      "====> Epoch: 28 Average loss: 0.0045\n",
      "Train Epoch: 29 [0/59328 (0%)]\tLoss: 0.000450\n",
      "====> Epoch: 29 Average loss: 0.0045\n",
      "Train Epoch: 30 [0/59328 (0%)]\tLoss: 0.000449\n",
      "====> Epoch: 30 Average loss: 0.0045\n",
      "Train Epoch: 31 [0/59328 (0%)]\tLoss: 0.000448\n",
      "====> Epoch: 31 Average loss: 0.0045\n",
      "Train Epoch: 32 [0/59328 (0%)]\tLoss: 0.000447\n",
      "====> Epoch: 32 Average loss: 0.0045\n",
      "Train Epoch: 33 [0/59328 (0%)]\tLoss: 0.000446\n",
      "====> Epoch: 33 Average loss: 0.0045\n",
      "Train Epoch: 34 [0/59328 (0%)]\tLoss: 0.000446\n",
      "====> Epoch: 34 Average loss: 0.0045\n",
      "Train Epoch: 35 [0/59328 (0%)]\tLoss: 0.000445\n",
      "====> Epoch: 35 Average loss: 0.0044\n",
      "Train Epoch: 36 [0/59328 (0%)]\tLoss: 0.000444\n",
      "====> Epoch: 36 Average loss: 0.0044\n",
      "Train Epoch: 37 [0/59328 (0%)]\tLoss: 0.000444\n",
      "====> Epoch: 37 Average loss: 0.0044\n",
      "Train Epoch: 38 [0/59328 (0%)]\tLoss: 0.000444\n",
      "====> Epoch: 38 Average loss: 0.0044\n",
      "Train Epoch: 39 [0/59328 (0%)]\tLoss: 0.000443\n",
      "====> Epoch: 39 Average loss: 0.0044\n",
      "Train Epoch: 40 [0/59328 (0%)]\tLoss: 0.000443\n",
      "====> Epoch: 40 Average loss: 0.0044\n",
      "Train Epoch: 41 [0/59328 (0%)]\tLoss: 0.000443\n",
      "====> Epoch: 41 Average loss: 0.0044\n",
      "Train Epoch: 42 [0/59328 (0%)]\tLoss: 0.000442\n",
      "====> Epoch: 42 Average loss: 0.0044\n",
      "Train Epoch: 43 [0/59328 (0%)]\tLoss: 0.000442\n",
      "====> Epoch: 43 Average loss: 0.0044\n",
      "Train Epoch: 44 [0/59328 (0%)]\tLoss: 0.000442\n",
      "====> Epoch: 44 Average loss: 0.0044\n",
      "Train Epoch: 45 [0/59328 (0%)]\tLoss: 0.000442\n",
      "====> Epoch: 45 Average loss: 0.0044\n",
      "Train Epoch: 46 [0/59328 (0%)]\tLoss: 0.000442\n",
      "====> Epoch: 46 Average loss: 0.0044\n",
      "Train Epoch: 47 [0/59328 (0%)]\tLoss: 0.000442\n",
      "====> Epoch: 47 Average loss: 0.0044\n",
      "Train Epoch: 48 [0/59328 (0%)]\tLoss: 0.000442\n",
      "====> Epoch: 48 Average loss: 0.0044\n",
      "Train Epoch: 49 [0/59328 (0%)]\tLoss: 0.000441\n",
      "====> Epoch: 49 Average loss: 0.0044\n",
      "Train Epoch: 50 [0/59328 (0%)]\tLoss: 0.000441\n",
      "====> Epoch: 50 Average loss: 0.0044\n",
      "Train Epoch: 51 [0/59328 (0%)]\tLoss: 0.000441\n",
      "====> Epoch: 51 Average loss: 0.0044\n",
      "Train Epoch: 52 [0/59328 (0%)]\tLoss: 0.000441\n",
      "====> Epoch: 52 Average loss: 0.0044\n",
      "Train Epoch: 53 [0/59328 (0%)]\tLoss: 0.000441\n",
      "====> Epoch: 53 Average loss: 0.0044\n",
      "Train Epoch: 54 [0/59328 (0%)]\tLoss: 0.000441\n",
      "====> Epoch: 54 Average loss: 0.0044\n",
      "Train Epoch: 55 [0/59328 (0%)]\tLoss: 0.000441\n",
      "====> Epoch: 55 Average loss: 0.0044\n",
      "Train Epoch: 56 [0/59328 (0%)]\tLoss: 0.000441\n",
      "====> Epoch: 56 Average loss: 0.0044\n",
      "Train Epoch: 57 [0/59328 (0%)]\tLoss: 0.000441\n",
      "====> Epoch: 57 Average loss: 0.0044\n",
      "Train Epoch: 58 [0/59328 (0%)]\tLoss: 0.000441\n",
      "====> Epoch: 58 Average loss: 0.0044\n",
      "Train Epoch: 59 [0/59328 (0%)]\tLoss: 0.000441\n",
      "====> Epoch: 59 Average loss: 0.0044\n",
      "Train Epoch: 60 [0/59328 (0%)]\tLoss: 0.000441\n",
      "====> Epoch: 60 Average loss: 0.0044\n",
      "Train Epoch: 61 [0/59328 (0%)]\tLoss: 0.000441\n",
      "====> Epoch: 61 Average loss: 0.0044\n",
      "Train Epoch: 62 [0/59328 (0%)]\tLoss: 0.000441\n",
      "====> Epoch: 62 Average loss: 0.0044\n",
      "Train Epoch: 63 [0/59328 (0%)]\tLoss: 0.000441\n",
      "====> Epoch: 63 Average loss: 0.0044\n",
      "Train Epoch: 64 [0/59328 (0%)]\tLoss: 0.000441\n",
      "====> Epoch: 64 Average loss: 0.0044\n",
      "Train Epoch: 65 [0/59328 (0%)]\tLoss: 0.000441\n",
      "====> Epoch: 65 Average loss: 0.0044\n",
      "Train Epoch: 66 [0/59328 (0%)]\tLoss: 0.000441\n",
      "====> Epoch: 66 Average loss: 0.0044\n",
      "Train Epoch: 67 [0/59328 (0%)]\tLoss: 0.000441\n",
      "====> Epoch: 67 Average loss: 0.0044\n",
      "Train Epoch: 68 [0/59328 (0%)]\tLoss: 0.000441\n",
      "====> Epoch: 68 Average loss: 0.0044\n",
      "Train Epoch: 69 [0/59328 (0%)]\tLoss: 0.000441\n",
      "====> Epoch: 69 Average loss: 0.0044\n",
      "Train Epoch: 70 [0/59328 (0%)]\tLoss: 0.000441\n",
      "====> Epoch: 70 Average loss: 0.0044\n",
      "Train Epoch: 71 [0/59328 (0%)]\tLoss: 0.000441\n",
      "====> Epoch: 71 Average loss: 0.0044\n",
      "Train Epoch: 72 [0/59328 (0%)]\tLoss: 0.000441\n",
      "====> Epoch: 72 Average loss: 0.0044\n",
      "Train Epoch: 73 [0/59328 (0%)]\tLoss: 0.000441\n",
      "====> Epoch: 73 Average loss: 0.0044\n",
      "Train Epoch: 74 [0/59328 (0%)]\tLoss: 0.000441\n",
      "====> Epoch: 74 Average loss: 0.0044\n",
      "Train Epoch: 75 [0/59328 (0%)]\tLoss: 0.000441\n",
      "====> Epoch: 75 Average loss: 0.0044\n",
      "Train Epoch: 76 [0/59328 (0%)]\tLoss: 0.000441\n",
      "====> Epoch: 76 Average loss: 0.0044\n",
      "Train Epoch: 77 [0/59328 (0%)]\tLoss: 0.000441\n",
      "====> Epoch: 77 Average loss: 0.0044\n",
      "Train Epoch: 78 [0/59328 (0%)]\tLoss: 0.000441\n",
      "====> Epoch: 78 Average loss: 0.0044\n",
      "Train Epoch: 79 [0/59328 (0%)]\tLoss: 0.000441\n",
      "====> Epoch: 79 Average loss: 0.0044\n",
      "Train Epoch: 80 [0/59328 (0%)]\tLoss: 0.000441\n",
      "====> Epoch: 80 Average loss: 0.0044\n",
      "Train Epoch: 81 [0/59328 (0%)]\tLoss: 0.000441\n",
      "====> Epoch: 81 Average loss: 0.0044\n",
      "Train Epoch: 82 [0/59328 (0%)]\tLoss: 0.000441\n",
      "====> Epoch: 82 Average loss: 0.0044\n",
      "Train Epoch: 83 [0/59328 (0%)]\tLoss: 0.000441\n",
      "====> Epoch: 83 Average loss: 0.0044\n",
      "Train Epoch: 84 [0/59328 (0%)]\tLoss: 0.000441\n",
      "====> Epoch: 84 Average loss: 0.0044\n",
      "Train Epoch: 85 [0/59328 (0%)]\tLoss: 0.000441\n",
      "====> Epoch: 85 Average loss: 0.0044\n",
      "Train Epoch: 86 [0/59328 (0%)]\tLoss: 0.000441\n",
      "====> Epoch: 86 Average loss: 0.0044\n",
      "Train Epoch: 87 [0/59328 (0%)]\tLoss: 0.000441\n",
      "====> Epoch: 87 Average loss: 0.0044\n",
      "Train Epoch: 88 [0/59328 (0%)]\tLoss: 0.000441\n",
      "====> Epoch: 88 Average loss: 0.0044\n",
      "Train Epoch: 89 [0/59328 (0%)]\tLoss: 0.000441\n",
      "====> Epoch: 89 Average loss: 0.0044\n",
      "Train Epoch: 90 [0/59328 (0%)]\tLoss: 0.000441\n",
      "====> Epoch: 90 Average loss: 0.0044\n",
      "Train Epoch: 91 [0/59328 (0%)]\tLoss: 0.000441\n",
      "====> Epoch: 91 Average loss: 0.0044\n",
      "Train Epoch: 92 [0/59328 (0%)]\tLoss: 0.000441\n",
      "====> Epoch: 92 Average loss: 0.0044\n",
      "Train Epoch: 93 [0/59328 (0%)]\tLoss: 0.000441\n",
      "====> Epoch: 93 Average loss: 0.0044\n",
      "Train Epoch: 94 [0/59328 (0%)]\tLoss: 0.000441\n",
      "====> Epoch: 94 Average loss: 0.0044\n",
      "Train Epoch: 95 [0/59328 (0%)]\tLoss: 0.000441\n",
      "====> Epoch: 95 Average loss: 0.0044\n",
      "Train Epoch: 96 [0/59328 (0%)]\tLoss: 0.000441\n",
      "====> Epoch: 96 Average loss: 0.0044\n",
      "Train Epoch: 97 [0/59328 (0%)]\tLoss: 0.000441\n",
      "====> Epoch: 97 Average loss: 0.0044\n",
      "Train Epoch: 98 [0/59328 (0%)]\tLoss: 0.000441\n",
      "====> Epoch: 98 Average loss: 0.0044\n",
      "Train Epoch: 99 [0/59328 (0%)]\tLoss: 0.000441\n",
      "====> Epoch: 99 Average loss: 0.0044\n"
     ]
    },
    {
     "ename": "TypeError",
     "evalue": "Can't convert 'int' object to str implicitly",
     "output_type": "error",
     "traceback": [
      "\u001b[0;31m---------------------------------------------------------------------------\u001b[0m",
      "\u001b[0;31mTypeError\u001b[0m                                 Traceback (most recent call last)",
      "\u001b[0;32m<ipython-input-8-5c9089d0c701>\u001b[0m in \u001b[0;36m<module>\u001b[0;34m\u001b[0m\n\u001b[0;32m----> 1\u001b[0;31m \u001b[0mtrain_overfit\u001b[0m\u001b[0;34m(\u001b[0m\u001b[0;34m)\u001b[0m\u001b[0;34m\u001b[0m\u001b[0m\n\u001b[0m",
      "\u001b[0;32m<ipython-input-7-d46d21011d22>\u001b[0m in \u001b[0;36mtrain_overfit\u001b[0;34m()\u001b[0m\n\u001b[1;32m     52\u001b[0m \u001b[0;34m\u001b[0m\u001b[0m\n\u001b[1;32m     53\u001b[0m \u001b[0;34m\u001b[0m\u001b[0m\n\u001b[0;32m---> 54\u001b[0;31m     \u001b[0mmodel\u001b[0m\u001b[0;34m.\u001b[0m\u001b[0msave_model\u001b[0m\u001b[0;34m(\u001b[0m\u001b[0mname\u001b[0m\u001b[0;34m,\u001b[0m \u001b[0;34m\"saved_models\"\u001b[0m\u001b[0;34m)\u001b[0m\u001b[0;34m\u001b[0m\u001b[0m\n\u001b[0m\u001b[1;32m     55\u001b[0m     \u001b[0;31m# train_all(models)\u001b[0m\u001b[0;34m\u001b[0m\u001b[0;34m\u001b[0m\u001b[0m\n",
      "\u001b[0;32m~/DeepLearning/minibrain/predictors/sequence/utf8vae.py\u001b[0m in \u001b[0;36msave_model\u001b[0;34m(self, name, path)\u001b[0m\n\u001b[1;32m    115\u001b[0m \u001b[0;34m\u001b[0m\u001b[0m\n\u001b[1;32m    116\u001b[0m     \u001b[0;32mdef\u001b[0m \u001b[0msave_model\u001b[0m\u001b[0;34m(\u001b[0m\u001b[0mself\u001b[0m\u001b[0;34m,\u001b[0m \u001b[0mname\u001b[0m\u001b[0;34m,\u001b[0m \u001b[0mpath\u001b[0m\u001b[0;34m)\u001b[0m\u001b[0;34m:\u001b[0m\u001b[0;34m\u001b[0m\u001b[0m\n\u001b[0;32m--> 117\u001b[0;31m         \u001b[0mtorch\u001b[0m\u001b[0;34m.\u001b[0m\u001b[0msave\u001b[0m\u001b[0;34m(\u001b[0m\u001b[0mself\u001b[0m\u001b[0;34m.\u001b[0m\u001b[0mencoder\u001b[0m\u001b[0;34m,\u001b[0m \u001b[0mos\u001b[0m\u001b[0;34m.\u001b[0m\u001b[0mpath\u001b[0m\u001b[0;34m.\u001b[0m\u001b[0mjoin\u001b[0m\u001b[0;34m(\u001b[0m\u001b[0mpath\u001b[0m\u001b[0;34m,\u001b[0m \u001b[0;34m\"utf8_vae_encoder_\"\u001b[0m\u001b[0;34m+\u001b[0m\u001b[0mname\u001b[0m\u001b[0;34m+\u001b[0m\u001b[0;34m\"_seg-\"\u001b[0m\u001b[0;34m+\u001b[0m\u001b[0mself\u001b[0m\u001b[0;34m.\u001b[0m\u001b[0msegments\u001b[0m\u001b[0;34m+\u001b[0m\u001b[0;34m\".pth\"\u001b[0m\u001b[0;34m)\u001b[0m\u001b[0;34m)\u001b[0m\u001b[0;34m\u001b[0m\u001b[0m\n\u001b[0m\u001b[1;32m    118\u001b[0m         \u001b[0mtorch\u001b[0m\u001b[0;34m.\u001b[0m\u001b[0msave\u001b[0m\u001b[0;34m(\u001b[0m\u001b[0mself\u001b[0m\u001b[0;34m.\u001b[0m\u001b[0mdecoder\u001b[0m\u001b[0;34m,\u001b[0m \u001b[0mos\u001b[0m\u001b[0;34m.\u001b[0m\u001b[0mpath\u001b[0m\u001b[0;34m.\u001b[0m\u001b[0mjoin\u001b[0m\u001b[0;34m(\u001b[0m\u001b[0mpath\u001b[0m\u001b[0;34m,\u001b[0m \u001b[0;34m\"utf8_vae_decoder_\"\u001b[0m\u001b[0;34m+\u001b[0m\u001b[0mname\u001b[0m\u001b[0;34m+\u001b[0m\u001b[0;34m\"_seg-\"\u001b[0m\u001b[0;34m+\u001b[0m\u001b[0mself\u001b[0m\u001b[0;34m.\u001b[0m\u001b[0msegments\u001b[0m\u001b[0;34m+\u001b[0m\u001b[0;34m\".pth\"\u001b[0m\u001b[0;34m)\u001b[0m\u001b[0;34m)\u001b[0m\u001b[0;34m\u001b[0m\u001b[0m\n\u001b[1;32m    119\u001b[0m \u001b[0;34m\u001b[0m\u001b[0m\n",
      "\u001b[0;31mTypeError\u001b[0m: Can't convert 'int' object to str implicitly"
     ]
    }
   ],
   "source": [
    "train_overfit()"
   ]
  },
  {
   "cell_type": "code",
   "execution_count": 19,
   "metadata": {},
   "outputs": [
    {
     "data": {
      "text/plain": [
       "'1.0.0'"
      ]
     },
     "execution_count": 19,
     "metadata": {},
     "output_type": "execute_result"
    }
   ],
   "source": [
    "torch.__version__"
   ]
  }
 ],
 "metadata": {
  "kernelspec": {
   "display_name": "Python 3",
   "language": "python",
   "name": "python3"
  },
  "language_info": {
   "codemirror_mode": {
    "name": "ipython",
    "version": 3
   },
   "file_extension": ".py",
   "mimetype": "text/x-python",
   "name": "python",
   "nbconvert_exporter": "python",
   "pygments_lexer": "ipython3",
   "version": "3.5.2"
  }
 },
 "nbformat": 4,
 "nbformat_minor": 2
}
