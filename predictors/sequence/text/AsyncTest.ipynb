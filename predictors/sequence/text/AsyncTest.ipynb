{
 "cells": [
  {
   "cell_type": "code",
   "execution_count": 1,
   "metadata": {},
   "outputs": [
    {
     "name": "stderr",
     "output_type": "stream",
     "text": [
      "/home/leo/venv3/lib/python3.7/site-packages/tensorboard/compat/tensorflow_stub/dtypes.py:541: FutureWarning: Passing (type, 1) or '1type' as a synonym of type is deprecated; in a future version of numpy, it will be understood as (type, (1,)) / '(1,)type'.\n",
      "  _np_qint8 = np.dtype([(\"qint8\", np.int8, 1)])\n",
      "/home/leo/venv3/lib/python3.7/site-packages/tensorboard/compat/tensorflow_stub/dtypes.py:542: FutureWarning: Passing (type, 1) or '1type' as a synonym of type is deprecated; in a future version of numpy, it will be understood as (type, (1,)) / '(1,)type'.\n",
      "  _np_quint8 = np.dtype([(\"quint8\", np.uint8, 1)])\n",
      "/home/leo/venv3/lib/python3.7/site-packages/tensorboard/compat/tensorflow_stub/dtypes.py:543: FutureWarning: Passing (type, 1) or '1type' as a synonym of type is deprecated; in a future version of numpy, it will be understood as (type, (1,)) / '(1,)type'.\n",
      "  _np_qint16 = np.dtype([(\"qint16\", np.int16, 1)])\n",
      "/home/leo/venv3/lib/python3.7/site-packages/tensorboard/compat/tensorflow_stub/dtypes.py:544: FutureWarning: Passing (type, 1) or '1type' as a synonym of type is deprecated; in a future version of numpy, it will be understood as (type, (1,)) / '(1,)type'.\n",
      "  _np_quint16 = np.dtype([(\"quint16\", np.uint16, 1)])\n",
      "/home/leo/venv3/lib/python3.7/site-packages/tensorboard/compat/tensorflow_stub/dtypes.py:545: FutureWarning: Passing (type, 1) or '1type' as a synonym of type is deprecated; in a future version of numpy, it will be understood as (type, (1,)) / '(1,)type'.\n",
      "  _np_qint32 = np.dtype([(\"qint32\", np.int32, 1)])\n",
      "/home/leo/venv3/lib/python3.7/site-packages/tensorboard/compat/tensorflow_stub/dtypes.py:550: FutureWarning: Passing (type, 1) or '1type' as a synonym of type is deprecated; in a future version of numpy, it will be understood as (type, (1,)) / '(1,)type'.\n",
      "  np_resource = np.dtype([(\"resource\", np.ubyte, 1)])\n",
      "Loading faiss with AVX2 support.\n",
      "Loading faiss.\n"
     ]
    }
   ],
   "source": [
    "from datetime import datetime\n",
    "import numpy as np\n",
    "\n",
    "import torch\n",
    "import torch.nn as nn\n",
    "import torch.nn.functional as F\n",
    "from torch.utils.tensorboard import SummaryWriter\n",
    "\n",
    "from langmodels.models import *\n",
    "import langmodels.utf8codec as utf8codec\n",
    "from langmodels.utils.tools import *\n",
    "from langmodels.utils.helpers import *\n",
    "from langmodels.utils.preprocess_conllu import *\n",
    "from langmodels.train import *"
   ]
  },
  {
   "cell_type": "code",
   "execution_count": 2,
   "metadata": {},
   "outputs": [],
   "source": [
    "checkpoint_path = \"/home/leo/projects/minibrain/predictors/sequence/text/trained_models/GatedConv1DCol\"\n",
    "checkpoints = sorted(get_all_files_recurse(checkpoint_path))"
   ]
  },
  {
   "cell_type": "code",
   "execution_count": 3,
   "metadata": {},
   "outputs": [
    {
     "data": {
      "text/plain": [
       "['/home/leo/projects/minibrain/predictors/sequence/text/trained_models/GatedConv1DCol/GatedConv1DPoS_nll-loss_0001.state_dict.pth',\n",
       " '/home/leo/projects/minibrain/predictors/sequence/text/trained_models/GatedConv1DCol/GatedConv1DPoS_nll-loss_0002.state_dict.pth',\n",
       " '/home/leo/projects/minibrain/predictors/sequence/text/trained_models/GatedConv1DCol/GatedConv1DPoS_nll-loss_0003.state_dict.pth',\n",
       " '/home/leo/projects/minibrain/predictors/sequence/text/trained_models/GatedConv1DCol/GatedConv1DPoS_nll-loss_0004.state_dict.pth',\n",
       " '/home/leo/projects/minibrain/predictors/sequence/text/trained_models/GatedConv1DCol/GatedConv1DPoS_nll-loss_0005.state_dict.pth',\n",
       " '/home/leo/projects/minibrain/predictors/sequence/text/trained_models/GatedConv1DCol/GatedConv1DPoS_nll-loss_0006.state_dict.pth',\n",
       " '/home/leo/projects/minibrain/predictors/sequence/text/trained_models/GatedConv1DCol/GatedConv1DPoS_nll-loss_0007.state_dict.pth',\n",
       " '/home/leo/projects/minibrain/predictors/sequence/text/trained_models/GatedConv1DCol/GatedConv1DPoS_nll-loss_0008.state_dict.pth',\n",
       " '/home/leo/projects/minibrain/predictors/sequence/text/trained_models/GatedConv1DCol/GatedConv1DPoS_nll-loss_0009.state_dict.pth',\n",
       " '/home/leo/projects/minibrain/predictors/sequence/text/trained_models/GatedConv1DCol/GatedConv1DPoS_nll-loss_0010.state_dict.pth',\n",
       " '/home/leo/projects/minibrain/predictors/sequence/text/trained_models/GatedConv1DCol/GatedConv1DPoS_nll-loss_0011.state_dict.pth',\n",
       " '/home/leo/projects/minibrain/predictors/sequence/text/trained_models/GatedConv1DCol/GatedConv1DPoS_nll-loss_0012.state_dict.pth']"
      ]
     },
     "execution_count": 3,
     "metadata": {},
     "output_type": "execute_result"
    }
   ],
   "source": [
    "checkpoints"
   ]
  },
  {
   "cell_type": "code",
   "execution_count": 4,
   "metadata": {},
   "outputs": [],
   "source": [
    "device = \"cpu\"\n",
    "utf8codes = np.load(fcodebook)\n",
    "utf8codes = utf8codes.reshape(1987, 64)\n",
    "model = GatedConv1DPoS(utf8codes).to(device)"
   ]
  },
  {
   "cell_type": "code",
   "execution_count": 5,
   "metadata": {},
   "outputs": [],
   "source": [
    "# checkpoint = checkpoints[0]\n",
    "# model.network.load_checkpoint(checkpoint)\n",
    "# model = model.to(device)"
   ]
  },
  {
   "cell_type": "code",
   "execution_count": 6,
   "metadata": {},
   "outputs": [],
   "source": [
    "def get_epoch(chk):\n",
    "    return int(path_leaf(chk).split(\".\")[0].split(\"_\")[-1])"
   ]
  },
  {
   "cell_type": "code",
   "execution_count": 7,
   "metadata": {},
   "outputs": [
    {
     "name": "stdout",
     "output_type": "stream",
     "text": [
      "CPU times: user 39.3 ms, sys: 465 ms, total: 505 ms\n",
      "Wall time: 504 ms\n"
     ]
    }
   ],
   "source": [
    "%%time\n",
    "test_data_path = BASE_DATA_DIR_UD_TREEBANK\n",
    "# epoch_count = get_epoch(checkpoint)\n",
    "test_data = load_test_data(test_data_path)"
   ]
  },
  {
   "cell_type": "code",
   "execution_count": 8,
   "metadata": {},
   "outputs": [],
   "source": [
    "# epoch_count"
   ]
  },
  {
   "cell_type": "code",
   "execution_count": 9,
   "metadata": {},
   "outputs": [],
   "source": [
    "# %%time\n",
    "# print(\"launching test in CPU\")\n",
    "# test(model, pos_loss_function, test_data, epoch_count, device, 50)\n",
    "# print(\"launching Accuracy test in CPU\")\n",
    "# test_accuracy(model, test_data, epoch_count, device, max_data)"
   ]
  },
  {
   "cell_type": "code",
   "execution_count": null,
   "metadata": {},
   "outputs": [
    {
     "name": "stdout",
     "output_type": "stream",
     "text": [
      "Launching test in CPU for GatedConv1DPoS_nll-loss_0001.state_dict.pth\n"
     ]
    }
   ],
   "source": [
    "for checkpoint in checkpoints:\n",
    "    model = GatedConv1DPoS(utf8codes).to(device)\n",
    "    model.network.load_checkpoint(checkpoint)\n",
    "    model = model.to(device)\n",
    "    epoch_count = get_epoch(checkpoint)\n",
    "    print(\"Launching test in CPU for {}\".format(path_leaf(checkpoint)))\n",
    "    %time test(model, pos_loss_function, test_data, epoch_count, device, 50)\n",
    "    %time test_accuracy(model, test_data, epoch_count, device, 50)\n"
   ]
  },
  {
   "cell_type": "code",
   "execution_count": null,
   "metadata": {},
   "outputs": [],
   "source": []
  }
 ],
 "metadata": {
  "kernelspec": {
   "display_name": "Python 3",
   "language": "python",
   "name": "python3"
  },
  "language_info": {
   "codemirror_mode": {
    "name": "ipython",
    "version": 3
   },
   "file_extension": ".py",
   "mimetype": "text/x-python",
   "name": "python",
   "nbconvert_exporter": "python",
   "pygments_lexer": "ipython3",
   "version": "3.7.3"
  }
 },
 "nbformat": 4,
 "nbformat_minor": 4
}
