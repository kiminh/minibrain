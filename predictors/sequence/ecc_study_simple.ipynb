{
 "cells": [
  {
   "cell_type": "markdown",
   "metadata": {},
   "source": [
    "# Error Correcting Codes Encoding Study\n",
    "\n",
    "The goal of this study is to understand options to the popular one-hot encoding. There are many sides to each story (no, not only two), on those sides are: \n",
    "\n",
    "- I never liked one-hot encoding (and is been more than a decade since I first used it, so the disgust might never go out);\n",
    "- I don't like how neural networks are treated and should always be end to end learning (no they should not, they should be more complex architectures, many already in research literature)\n",
    "- There are priors \n",
    "- Each type of input should  (and HAS in nature) its own priors, which are adapted to *facilitate* the learning, no we should not do everyhting inside a NN, we should give as input something that has priors that facilitate learning (and might or might not later save processing power during operations)\n",
    "\n",
    "\n",
    "On the priors, many have already shown good results, the most remarcable prior are: Convolutional Neural Networks, MAC Networks, LSTMs, others are more subtle, like (remember citation here ...) adding a coordinate system to the input image as an (or many) extra channel(s). There are many more that I think are worth exploring and adding to the literature, even if they don't give good results. \n",
    "On those priors there are many that we not only know, but also we have specialized hardware that is perfectly adapted\n",
    "* time and space -> this we can encode and add it as extra channels\n",
    "* Different transforms (Fourier, Laplace, Wavelets, ...)\n",
    "* spikes (borders in images)\n",
    "* ....\n",
    "\n",
    "There is another idea behind the ECCs, is that we usually can 'feel' that something is not right or missing, what about giving NNs a way of having an extra element that would allow for this 'feeling'? \n",
    "\n",
    "The idea behind this is that I don't agree with one-hot encoding the way is used today, not because it does not work, but because it imposes a few limits that I don't want to deal with at first\n",
    "\n",
    "* We know the actual number of values to encode (with words this is not necessary true)\n",
    "* We have a sample data to train the encoding\n",
    "\n",
    "This limits us in several ways; for example, for training on a domain, the encoder will depend on that domain only. If there are under-represented values (such as words that don't appear or are new later, or changing domain) this limits the encoding possibliities. A better idea will be to be able to encode everything even if the internal representations have not yet learned to use those simbols.\n",
    "\n",
    "I want to be able to do a separation ebtween the *possibility*  of representing a value, and the learning of that concept.\n",
    "\n",
    "The first and biggest limitation of one-hot encoding is that does not allow to represent values that are not accepted.\n",
    "\n",
    "As some other parts of this study have already focused on integer value representations, arbitrary function representation (although with limitted success on the fourier inspired encodings) this study is more focused on being able to represent correctly all the values of utf-8, basically doing a first binary representation that will be given as input to an OVERFITTED encoder. \n",
    "\n",
    "The reasoning behind this is:\n",
    "\n",
    "\n",
    "* The origin domain is all text\n",
    "* UTF-8 can represent all text in all languages including some extra elements\n",
    "* let's use UTF-8 as the origin domain\n",
    "* Create an encoder that can deal with ANY and ALL input in the origin domain\n",
    "* the encoded values can later be used\n",
    "\n",
    "As text should be always correctly reconstructed in the presence of noise, I want to imagine now a Neural Network like a REALLY NOISY channel. For this using (Forward) ECCs is one way of thinking in this medium\n",
    "Then the tests that I intend to do is:\n",
    "\n",
    "* Create an autoencoder that OVERFITS to all the data\n",
    "\n",
    "\n",
    "One idea that I have been dealing with my head for the past 3-4 years is that we are thinking overfitting the wrong way, and we can actually use it well, but we have to learn how.\n",
    "\n",
    "I think that here is the first time I actually find a way of doing it in a useful way\n",
    "\n",
    "The idea is to overfit so it generates an smaller encoding vector than the one in the input. Autoencoders are good to do this test.\n",
    "\n",
    "The other idea is that if the autoencoder can NOT do this, then the encoding ideas that I will try are BAAAD and I should feel BAAAD. In this case ... just go to the drawing table and think of other things.\n",
    "\n",
    "On the other side, if this works, this means that FINALLY I can go on the next stage, that is building the predictors first basic ones (LSTMs, HMMs, Time Convolutions), then with meta-learning and later with my still too fresh idea on neural databases. \n",
    "\n",
    "One interesting thing I want to find out about Error Correcting Codes (ECCs) is if they are actually useful in the output decoding, as they should be adding *explicit* redundancy to the input and also to the output.\n",
    "\n",
    "The other thing about ECCs is that we can pile them up, for example, one (or many codes) to representa a symbol (for example the value *'€'* ) and then use convolutional or turbo codes for the *temporal* encoding/decoding part, this means that we not only add priors to the intantaneous input, but also to the temporal dimension, which is something I really want to explore (and this should facilitate fixing and correcting \"channel errors\")\n",
    "\n",
    "I don't deal here with *erasure* error types, but that is a possibility later.\n"
   ]
  },
  {
   "cell_type": "code",
   "execution_count": 1,
   "metadata": {},
   "outputs": [],
   "source": [
    "import numpy as np\n",
    "import commpy\n",
    "# import bitarray as ba\n",
    "import struct\n",
    "import sys\n",
    "# import binascii\n",
    "from bitstring import BitArray, BitStream\n"
   ]
  },
  {
   "cell_type": "code",
   "execution_count": 2,
   "metadata": {},
   "outputs": [
    {
     "data": {
      "text/plain": [
       "'little'"
      ]
     },
     "execution_count": 2,
     "metadata": {},
     "output_type": "execute_result"
    }
   ],
   "source": [
    "sys.byteorder"
   ]
  },
  {
   "cell_type": "code",
   "execution_count": 3,
   "metadata": {},
   "outputs": [],
   "source": [
    "c = '€'.encode()"
   ]
  },
  {
   "cell_type": "code",
   "execution_count": 4,
   "metadata": {},
   "outputs": [
    {
     "data": {
      "text/plain": [
       "b'\\xe2\\x82\\xac'"
      ]
     },
     "execution_count": 4,
     "metadata": {},
     "output_type": "execute_result"
    }
   ],
   "source": [
    "c"
   ]
  },
  {
   "cell_type": "code",
   "execution_count": 5,
   "metadata": {},
   "outputs": [],
   "source": [
    "a = 'a'"
   ]
  },
  {
   "cell_type": "code",
   "execution_count": 6,
   "metadata": {},
   "outputs": [
    {
     "data": {
      "text/plain": [
       "97"
      ]
     },
     "execution_count": 6,
     "metadata": {},
     "output_type": "execute_result"
    }
   ],
   "source": [
    "'a'.encode()[0]"
   ]
  },
  {
   "cell_type": "code",
   "execution_count": 7,
   "metadata": {},
   "outputs": [
    {
     "data": {
      "text/plain": [
       "1"
      ]
     },
     "execution_count": 7,
     "metadata": {},
     "output_type": "execute_result"
    }
   ],
   "source": [
    "len(bytearray('a'.encode()))"
   ]
  },
  {
   "cell_type": "code",
   "execution_count": 8,
   "metadata": {},
   "outputs": [],
   "source": [
    "zero = BitArray(b'\\x00\\x00\\x00\\x00')\n",
    "b = BitArray(c)"
   ]
  },
  {
   "cell_type": "code",
   "execution_count": 9,
   "metadata": {},
   "outputs": [
    {
     "data": {
      "text/plain": [
       "BitArray('0xe282ac')"
      ]
     },
     "execution_count": 9,
     "metadata": {},
     "output_type": "execute_result"
    }
   ],
   "source": [
    "b"
   ]
  },
  {
   "cell_type": "code",
   "execution_count": 10,
   "metadata": {},
   "outputs": [
    {
     "data": {
      "text/plain": [
       "b'\\xe2\\x82\\xac'"
      ]
     },
     "execution_count": 10,
     "metadata": {},
     "output_type": "execute_result"
    }
   ],
   "source": [
    "b.tobytes()"
   ]
  },
  {
   "cell_type": "code",
   "execution_count": 11,
   "metadata": {},
   "outputs": [
    {
     "data": {
      "text/plain": [
       "14844588"
      ]
     },
     "execution_count": 11,
     "metadata": {},
     "output_type": "execute_result"
    }
   ],
   "source": [
    "int.from_bytes(c, byteorder='big')"
   ]
  },
  {
   "cell_type": "code",
   "execution_count": 12,
   "metadata": {},
   "outputs": [
    {
     "data": {
      "text/plain": [
       "8"
      ]
     },
     "execution_count": 12,
     "metadata": {},
     "output_type": "execute_result"
    }
   ],
   "source": [
    "32 - b.len"
   ]
  },
  {
   "cell_type": "code",
   "execution_count": 13,
   "metadata": {},
   "outputs": [
    {
     "data": {
      "text/plain": [
       "7422294"
      ]
     },
     "execution_count": 13,
     "metadata": {},
     "output_type": "execute_result"
    }
   ],
   "source": [
    "int.from_bytes(c, byteorder='big') >> 1"
   ]
  },
  {
   "cell_type": "code",
   "execution_count": 14,
   "metadata": {},
   "outputs": [],
   "source": [
    "for i in range ((32 - b.len)//8):\n",
    "    b.prepend(b'\\x00')"
   ]
  },
  {
   "cell_type": "code",
   "execution_count": 15,
   "metadata": {},
   "outputs": [
    {
     "data": {
      "text/plain": [
       "32"
      ]
     },
     "execution_count": 15,
     "metadata": {},
     "output_type": "execute_result"
    }
   ],
   "source": [
    "b.len"
   ]
  },
  {
   "cell_type": "code",
   "execution_count": 16,
   "metadata": {},
   "outputs": [
    {
     "data": {
      "text/plain": [
       "BitArray('0x00e282ac')"
      ]
     },
     "execution_count": 16,
     "metadata": {},
     "output_type": "execute_result"
    }
   ],
   "source": [
    "b"
   ]
  },
  {
   "cell_type": "code",
   "execution_count": 17,
   "metadata": {},
   "outputs": [
    {
     "data": {
      "text/plain": [
       "0"
      ]
     },
     "execution_count": 17,
     "metadata": {},
     "output_type": "execute_result"
    }
   ],
   "source": [
    "32 - b.len"
   ]
  },
  {
   "cell_type": "code",
   "execution_count": 18,
   "metadata": {},
   "outputs": [
    {
     "data": {
      "text/plain": [
       "9"
      ]
     },
     "execution_count": 18,
     "metadata": {},
     "output_type": "execute_result"
    }
   ],
   "source": [
    "a = 256\n",
    "a.bit_length()"
   ]
  },
  {
   "cell_type": "code",
   "execution_count": 19,
   "metadata": {},
   "outputs": [
    {
     "data": {
      "text/plain": [
       "130"
      ]
     },
     "execution_count": 19,
     "metadata": {},
     "output_type": "execute_result"
    }
   ],
   "source": [
    "'€'.encode()[1]"
   ]
  },
  {
   "cell_type": "code",
   "execution_count": 20,
   "metadata": {},
   "outputs": [],
   "source": [
    "# Bit of a whacky hack and for sure not the most efficient one, but it just works for what I want\n",
    "\n",
    "def prepend_zeros(s, n):\n",
    "    return '0'* (n - len(s))+s\n",
    "\n",
    "def get_strbintable(n):\n",
    "    bl = n.bit_length() - 1  # because n is actually never used\n",
    "    lines = [ ' '.join(i for i in prepend_zeros(\"{0:b}\".format(l), bl)) for l in range(n)]\n",
    "    return lines\n",
    "\n",
    "def get_npbintable(n):\n",
    "    bins = np.fromstring('\\n'.join(get_strbintable(n)), dtype='int32', sep=' ')\n",
    "    bins = bins.reshape([n, -1])\n",
    "    return bins\n",
    "    "
   ]
  },
  {
   "cell_type": "markdown",
   "metadata": {},
   "source": [
    "Since the entire utf-8 univers is NOT the entire $2^{32}$ domain, but there are limitations explained in [the utf-8 description](https://en.wikipedia.org/wiki/UTF-8)\n",
    "\n",
    "| Number of bytes | Bits for code point | First code point | Last code point | Byte 1   | Byte 2   | Byte 3   | Byte 4   |\n",
    "|----------------|--------------------|-----------------|----------------|----------|----------|----------|----------|\n",
    "| 1              | 7                  | U+0000          | U+007F         | 0xxxxxxx |          |          |          |\n",
    "| 2              | 11                 | U+0080          | U+07FF         | 110xxxxx | 10xxxxxx |          |          |\n",
    "| 3              | 16                 | U+0800          | U+FFFF         | 1110xxxx | 10xxxxxx | 10xxxxxx |          |\n",
    "| 4              | 21                 | U+10000         | U+10FFFF       | 11110xxx | 10xxxxxx | 10xxxxxx | 10xxxxxx |\n",
    "\n",
    "I'll then compute different table parts and do an append when needed\n",
    "\n",
    "The thing is that the number of elements in the table should be at most $2^{21}$, I need to create a sort of index that can handle the 4 cases.\n",
    "It seems I'll have to create 4 different conversion tables.\n",
    "\n",
    "\n"
   ]
  },
  {
   "cell_type": "code",
   "execution_count": 70,
   "metadata": {},
   "outputs": [],
   "source": [
    "# this part makes sure to encode as bin\n",
    "eye4 = np.eye(4)\n",
    "eye64 = np.eye(64)\n",
    "eye256 = np.eye(256)\n",
    "\n",
    "# code for 7 bits, Byte 1 of utf-8\n",
    "code_b7 = np.append(np.zeros([2**7, 1]), get_npbintable(2**7), axis=1)\n",
    "\n",
    "# code for 6 bits, Byte 2 to 4 of utf-8 -> this is going to be used later for all the other values\n",
    "code_b6 = np.append(np.append(np.ones([2**6, 1]), np.zeros([2**6, 1]), axis=1), \n",
    "                    get_npbintable(2**6), axis=1)\n",
    "\n",
    "# code for 5 bits, Byte 1 of \n",
    "code_b5 = np.append(np.append(np.ones([2**5, 2]), np.zeros([2**5, 1]), axis=1), \n",
    "                    get_npbintable(2**5), axis=1)\n",
    "\n",
    "# code for 4 bits, Byte 2 to 4 of utf-8 -> this is going to be used later for all the other values\n",
    "code_b4 = np.append(np.append(np.ones([2**4, 3]), np.zeros([2**4, 1]), axis=1), \n",
    "                    get_npbintable(2**4), axis=1)\n",
    "\n",
    "# code for 3 bits, Byte 2 to 4 of utf-8 -> this is going to be used later for all the other values\n",
    "code_b3 = np.append(np.append(np.ones([2**3, 4]), np.zeros([2**3, 1]), axis=1),\n",
    "                    get_npbintable(2**3), axis=1)\n",
    "\n",
    "def encode_utf8(l):\n",
    "    el = l.encode()\n",
    "    code = np.zeros(36)  # 32 is the size of the input code + 4 of the extra redundancy\n",
    "    nbytes = len(el)\n",
    "    # assert( 0<nbytes && nbytes<=4)\n",
    "    assert(nbytes<=4)\n",
    "    bin4 = eye4[nbytes-1]  # this adds redundant knowledge about the  part\n",
    "    # this is ugly but explicit, for the moment is good enough and I can see what is\n",
    "    code[:4] = bin4\n",
    "    if nbytes == 1:\n",
    "        code[4:12] = code_b7[el[0]& 0b01111111 ]\n",
    "    elif nbytes == 2:\n",
    "        code[4:12] = code_b5[el[0] & 0b00011111 ]\n",
    "        code[12:20] = code_b6[el[1] & 0b00111111]\n",
    "    elif nbytes == 3:\n",
    "        code[4:12] = code_b4[el[0] & 0b00001111]\n",
    "        code[12:20] = code_b6[el[1] & 0b00111111]\n",
    "        code[20:28] = code_b6[el[2] & 0b00111111]\n",
    "    elif nbytes == 4:\n",
    "        code[4:12] = code_b3[el[0] & 0b00000111]\n",
    "        code[12:20] = code_b6[el[1] & 0b00111111]\n",
    "        code[20:28] = code_b6[el[2] & 0b00111111]\n",
    "        code[28:36] = code_b6[el[3] & 0b00111111]\n",
    "    else:\n",
    "        raise Exception(\"Bad input, input has to have 1 to 4 input bytes\")\n",
    "    return code\n",
    "\n",
    "\n",
    "# TODO I need to find a more efficient way of doing this that could make this as vector or matrix operations instead\n",
    "def encode_utf8_multihot(c):\n",
    "    e_c = list(c.encode())\n",
    "#     code = np.zeros(36)  # 32 is the size of the input code + 4 of the extra redundancy\n",
    "    nbytes = len(e_c)\n",
    "    # assert( 0<nbytes && nbytes<=4)\n",
    "    assert(nbytes<=4)\n",
    "    bin4 = eye4[nbytes-1]  # this adds redundant knowledge about the  part\n",
    "    # this is ugly but explicit, for the moment is good enough and I can see what is\n",
    "#     code[:4] = bin4\n",
    "    # max size of each part of the code\n",
    "    # I will treat the first byte as always 8 bits, this will make it easier to decode later and adds aditional information\n",
    "    # this has an extra benefit, when a code is there only certain regions will become 1 giving an extra hint to the network\n",
    "    # maxsizes = [2**8, 2**6, 2**6, 2**6]\n",
    "    code = np.zeros(4 + (2**8) + 3*(2**6))\n",
    "    masks = [0xff, 0x3f, 0x3f, 0x3f]\n",
    "    indices = [256+4, 64+256+4, 2*64 + 256+4, 3*64 + 256+4]\n",
    "    maxsizes = [eye256, eye64, eye64, eye64]\n",
    "    code[:4] = bin4\n",
    "    prev_i = 4\n",
    "    for i,n,e,m in zip(indices[:nbytes], e_c, maxsizes[:nbytes], masks[:nbytes]):\n",
    "        code[prev_i:i] = e[n & m]  #masking\n",
    "        prev_i = i\n",
    "    return code\n",
    "\n",
    "def encode_utf8_ecc(l):\n",
    "    # TODO\n",
    "    el = l.encode()\n",
    "    code = np.zeros(36)  # 32 is the size of the input code + 4 of the extra redundancy\n",
    "    nbytes = len(el)\n",
    "    # assert( 0<nbytes && nbytes<=4)\n",
    "    assert(nbytes<=4)\n",
    "    bin4 = eye4[nbytes-1]  # this adds redundant knowledge about the  part\n",
    "    # this is ugly but explicit, for the moment is good enough and I can see what is\n",
    "    code[:4] = bin4\n",
    "    if nbytes == 1:\n",
    "        code[4:12] = code_b7[el[0]& 0b01111111 ]\n",
    "    elif nbytes == 2:\n",
    "        code[4:12] = code_b5[el[0] & 0b00011111 ]\n",
    "        code[12:20] = code_b6[el[1] & 0b00111111]\n",
    "    elif nbytes == 3:\n",
    "        code[4:12] = code_b4[el[0] & 0b00001111]\n",
    "        code[12:20] = code_b6[el[1] & 0b00111111]\n",
    "        code[20:28] = code_b6[el[2] & 0b00111111]\n",
    "    elif nbytes == 4:\n",
    "        code[4:12] = code_b3[el[0] & 0b00000111]\n",
    "        code[12:20] = code_b6[el[1] & 0b00111111]\n",
    "        code[20:28] = code_b6[el[2] & 0b00111111]\n",
    "        code[28:36] = code_b6[el[3] & 0b00111111]\n",
    "    else:\n",
    "        raise Exception(\"Bad input, input has to have 1 to 4 input bytes\")\n",
    "    return code"
   ]
  },
  {
   "cell_type": "code",
   "execution_count": 54,
   "metadata": {},
   "outputs": [
    {
     "data": {
      "text/plain": [
       "[(1, 1, 1), (2, 2, 2), (3, 3, 3), (4, 4, 4)]"
      ]
     },
     "execution_count": 54,
     "metadata": {},
     "output_type": "execute_result"
    }
   ],
   "source": [
    "list(zip([1,2,3,4], (1,2,3,4), (1,2,3,4)))"
   ]
  },
  {
   "cell_type": "code",
   "execution_count": 39,
   "metadata": {},
   "outputs": [
    {
     "data": {
      "text/plain": [
       "'11100010  11100010  11100010'"
      ]
     },
     "execution_count": 39,
     "metadata": {},
     "output_type": "execute_result"
    }
   ],
   "source": [
    "el = '€'.encode()\n",
    "'{0:b}  {0:b}  {0:b}'.format(el[0], el[1], el[2])"
   ]
  },
  {
   "cell_type": "code",
   "execution_count": 38,
   "metadata": {},
   "outputs": [
    {
     "data": {
      "text/plain": [
       "array([0., 0., 1., 0., 1., 1., 1., 0., 0., 0., 1., 0., 1., 0., 0., 0., 0.,\n",
       "       0., 1., 0., 1., 0., 1., 0., 1., 1., 0., 0., 0., 0., 0., 0., 0., 0.,\n",
       "       0., 0.])"
      ]
     },
     "execution_count": 38,
     "metadata": {},
     "output_type": "execute_result"
    }
   ],
   "source": [
    "encode_utf8('€')"
   ]
  },
  {
   "cell_type": "code",
   "execution_count": 41,
   "metadata": {},
   "outputs": [
    {
     "data": {
      "text/plain": [
       "'11000011  11000011'"
      ]
     },
     "execution_count": 41,
     "metadata": {},
     "output_type": "execute_result"
    }
   ],
   "source": [
    "el = 'á'.encode()\n",
    "'{0:b}  {0:b}'.format(el[0], el[1])"
   ]
  },
  {
   "cell_type": "code",
   "execution_count": 37,
   "metadata": {},
   "outputs": [
    {
     "data": {
      "text/plain": [
       "array([0., 1., 0., 0., 1., 1., 0., 0., 0., 0., 1., 1., 1., 0., 1., 0., 0.,\n",
       "       0., 0., 1., 0., 0., 0., 0., 0., 0., 0., 0., 0., 0., 0., 0., 0., 0.,\n",
       "       0., 0.])"
      ]
     },
     "execution_count": 37,
     "metadata": {},
     "output_type": "execute_result"
    }
   ],
   "source": [
    "encode_utf8('á')"
   ]
  },
  {
   "cell_type": "code",
   "execution_count": 76,
   "metadata": {},
   "outputs": [
    {
     "data": {
      "text/plain": [
       "(452,)"
      ]
     },
     "execution_count": 76,
     "metadata": {},
     "output_type": "execute_result"
    }
   ],
   "source": [
    "encode_utf8_multihot('€').shape"
   ]
  },
  {
   "cell_type": "code",
   "execution_count": null,
   "metadata": {},
   "outputs": [],
   "source": [
    "2**21 # this should be enough to make the entire utf-8 encoding ... and much more"
   ]
  },
  {
   "cell_type": "code",
   "execution_count": null,
   "metadata": {},
   "outputs": [],
   "source": [
    "%%time\n",
    "\n",
    "tt10 = get_npbintable(2**21)"
   ]
  },
  {
   "cell_type": "code",
   "execution_count": null,
   "metadata": {},
   "outputs": [],
   "source": [
    "tt10[101]"
   ]
  },
  {
   "cell_type": "code",
   "execution_count": null,
   "metadata": {},
   "outputs": [],
   "source": [
    "# Dense binary input codes\n",
    "\n",
    "# code for 7 bits, Byte 1 of utf-8\n",
    "code_b7 = get_npbintable(2**7)\n",
    "t_zeros = np.zeros([2**7, 1])\n",
    "code_b7 = np.append(t_zeros, code_b7, axis=1)\n",
    "\n",
    "# code for 6 bits, Byte 2 to 4 of utf-8 -> this is going to be used later for all the other values\n",
    "code_b6 = get_npbintable(2**6)\n",
    "t_b6 = np.append(np.ones([2**6, 1]), np.zeros([2**6, 1]), axis=1)\n",
    "code_b6 = np.append(t_b6, code_b6, axis=1)\n",
    "\n",
    "# code for 5 bits, Byte 1 of \n",
    "code_b5 = get_npbintable(2**5)\n",
    "t_b5 = np.append(np.ones([2**5, 2]), np.zeros([2**5, 1]), axis=1)\n",
    "code_b5 = np.append(t_b5, code_b5, axis=1)\n",
    "\n",
    "# code for 6 bits, Byte 2 to 4 of utf-8 -> this is going to be used later for all the other values\n",
    "code_b4 = get_npbintable(2**4)\n",
    "t_b4 = np.append(np.ones([2**4, 3]), np.zeros([2**4, 1]), axis=1)\n",
    "code_b4 = np.append(t_b4, code_b4, axis=1)\n",
    "\n",
    "# code for 6 bits, Byte 2 to 4 of utf-8 -> this is going to be used later for all the other values\n",
    "code_b3 = get_npbintable(2**3)\n",
    "t_b3 = np.append(np.ones([2**3, 4]), np.zeros([2**3, 1]), axis=1)\n",
    "code_b3 = np.append(t_b3, code_b3, axis=1)\n",
    "\n",
    "# 4 bits\n",
    "b4 = get_npbintable(2**4)\n",
    "eye4 = np.eye(4)"
   ]
  },
  {
   "cell_type": "code",
   "execution_count": null,
   "metadata": {},
   "outputs": [],
   "source": [
    "eye4"
   ]
  },
  {
   "cell_type": "code",
   "execution_count": null,
   "metadata": {},
   "outputs": [],
   "source": [
    "np.eye(16)"
   ]
  },
  {
   "cell_type": "markdown",
   "metadata": {},
   "source": [
    "In fact ... it seems that I can just chunk the utf-8 value in chunks and do one-hot per different parts:\n",
    "- there are only 4 segment ranges, that can be coded in one-hot also add there either hamming or other ECC\n",
    "- the largest value is for 7 bits -> 128 values\n",
    "- the others contain 6 bits -> 64 values\n",
    "The prefix of each can be taken away and replaced by the initial one-hot\n",
    "\n",
    "So a complete code would be\n",
    "$ 4 + 128 + 64 + 64 + 64 = 324 $\n",
    "\n",
    "plus the ECC parity bits\n",
    "\n",
    "Instead of having dimension 1,112,064 to encode any utf-8 value.\n",
    "\n",
    "The encoder is  much simpler than I thought for this case, later I can add ECC for each, knowing that there is only one active bit in each row, this makes the task easier.\n",
    "\n",
    "This embedding can stil be reduced but should be sparse enough already to make a good input"
   ]
  },
  {
   "cell_type": "code",
   "execution_count": null,
   "metadata": {},
   "outputs": [],
   "source": [
    "4 + 128 + 64 + 64 + 64 "
   ]
  },
  {
   "cell_type": "code",
   "execution_count": null,
   "metadata": {},
   "outputs": [],
   "source": [
    "c"
   ]
  },
  {
   "cell_type": "code",
   "execution_count": null,
   "metadata": {},
   "outputs": [],
   "source": []
  },
  {
   "cell_type": "code",
   "execution_count": null,
   "metadata": {},
   "outputs": [],
   "source": [
    "np.fromstring('0 0 1 0 1 0 0 1', dtype=bool, sep=' ')"
   ]
  },
  {
   "cell_type": "code",
   "execution_count": null,
   "metadata": {},
   "outputs": [],
   "source": [
    "np.fromstring('00101001', dtype=bool)  # there seems to be an issue here on numpy ..."
   ]
  },
  {
   "cell_type": "code",
   "execution_count": null,
   "metadata": {},
   "outputs": [],
   "source": [
    "np.fromstring('0 0 1 0 1 0 0 1', dtype=int, sep=' ')"
   ]
  },
  {
   "cell_type": "code",
   "execution_count": null,
   "metadata": {},
   "outputs": [],
   "source": [
    "bins = np.fromstring('\\n'.join(get_strbintable(16)), dtype='<H', sep=' ')"
   ]
  },
  {
   "cell_type": "code",
   "execution_count": null,
   "metadata": {},
   "outputs": [],
   "source": [
    "bins.reshape([16,-1])"
   ]
  },
  {
   "cell_type": "code",
   "execution_count": null,
   "metadata": {},
   "outputs": [],
   "source": [
    "np.array(get_strbintable(16))"
   ]
  },
  {
   "cell_type": "markdown",
   "metadata": {},
   "source": [
    "\n",
    "I tried to do some things about the first part of the code, turning bytes to a numpy array, but seems that the most efficient way would be a table (numpy 2d array that has as index the int value of the input and there the array in that position is the binary code, this can already include the first pass to make a one hot of every N bits (maybe every 4, so there are not so many initial values ), this matrix could already have pre-computed the ECC ...\n",
    "\n",
    "For the ECC, I stil don't decide if making it by chunks of input bits, or by all the values, I guess that by all should do, but maybe is easier to compute them reshaping the input arrays to the code in use (example for Golay [24,12,8] will do for every 12 input bits) \n",
    "\n",
    "The idea is to not completely get rid of one-hot encoding, but to limit it to parts of the input vector code restricting the size of the domain"
   ]
  },
  {
   "cell_type": "code",
   "execution_count": null,
   "metadata": {},
   "outputs": [],
   "source": [
    "# number of parameters for a one-hot by chunks encoding:\n",
    "chunk_sizes = [4, 5, 6, 8, 12]\n",
    "n_params = []\n",
    "for c in chunk_sizes:\n",
    "    n_params.append((c, (32 // c) * 2**c))"
   ]
  },
  {
   "cell_type": "code",
   "execution_count": null,
   "metadata": {},
   "outputs": [],
   "source": [
    "n_params"
   ]
  },
  {
   "cell_type": "markdown",
   "metadata": {},
   "source": [
    "Maybe for my tests up to chunks of size 6 should be acceptable (I still need to add the next ECC)\n",
    "\n",
    "The next code can be:\n",
    "- Repetition (x3)\n",
    "- Hamming\n",
    "- Golay\n",
    "- Reed Solomon\n",
    "- Latin Square \n",
    "- AN Correcting\n",
    "\n",
    "Here some thoughts about the codes:\n",
    "\n",
    "Repetition: this has the disadvantage of giving a redundancy that is quite obvious besides the low power of reconstruction of catastrofic errors. Just repeating does not necessarilly adds to a neural network another perspective at the input. Might be worth trying, but for the moment I'm not interested in it.\n",
    "\n",
    "Hamming: it can correct one error (Hamming 7,4), adding 3 out of 4 bits. With an extra bit it can detect up to 2 errors with an extra parity bit.\n",
    "\n",
    "Golay: might serve well enough for my first tests as it ads not too much overhead (duplicates the number of elements) for an interesting error correction (up to 3 bits from each 12, so one fourth).\n",
    "\n",
    "\n",
    "There is one difference in the focus from this analysis and telecomunications (or any other domain with noisy channel), here I'm interested not in the code Rate (ammount of information sent vs ammount of actual bits sent) but in giving as input to the NN some form of non necessary evident redundancy that it could use, and having more ways to correct the output if a single mistake is made during the output extrapolation, I want ot check this part.\n",
    "\n",
    "Thinking a bit more about auto-encoders, it might not be the best idea to start there as it might not give any useful information ... I still have to try some things, might give it a try if it is quick enough to build it once I have the input code.\n",
    "\n",
    "\n",
    "For efficiency what I will do is build from the beginning the encoding table, for the decoding, I still need to think it thorugh.\n"
   ]
  },
  {
   "cell_type": "code",
   "execution_count": null,
   "metadata": {},
   "outputs": [],
   "source": [
    "import torch\n",
    "\n",
    "emd = torch.nn.Embedding(2**10, 300)"
   ]
  },
  {
   "cell_type": "code",
   "execution_count": null,
   "metadata": {},
   "outputs": [],
   "source": [
    "model_parameters = filter(lambda p: p.requires_grad, emd.parameters())\n",
    "params = sum([np.prod(p.size()) for p in model_parameters])\n"
   ]
  },
  {
   "cell_type": "code",
   "execution_count": null,
   "metadata": {},
   "outputs": [],
   "source": [
    "params"
   ]
  },
  {
   "cell_type": "code",
   "execution_count": null,
   "metadata": {},
   "outputs": [],
   "source": [
    "# from https://discuss.pytorch.org/t/how-do-i-check-the-number-of-parameters-of-a-model/4325/7\n",
    "def count_parameters(model):\n",
    "    return sum(p.numel() for p in model.parameters() if p.requires_grad)"
   ]
  },
  {
   "cell_type": "code",
   "execution_count": null,
   "metadata": {},
   "outputs": [],
   "source": [
    "count_parameters(emd)"
   ]
  },
  {
   "cell_type": "markdown",
   "metadata": {},
   "source": [
    "The embedding layer is a fully connected layer ... this means a LOT of parameters\n",
    "\n",
    "To be able to do an effective one-hot of all utf-8 would be:"
   ]
  },
  {
   "cell_type": "code",
   "execution_count": null,
   "metadata": {},
   "outputs": [],
   "source": [
    "for i in [50,100,200,300]:\n",
    "    print(i, 1112064 * i)"
   ]
  },
  {
   "cell_type": "markdown",
   "metadata": {},
   "source": [
    "Which means I don't want to train that layer ... it would not even fit in my GPU\n",
    "\n",
    "There is another thing, the embedding layer learns from the sample input, this means that it will ignore all values that don't appear or are underrepresented (a know issue). My goal is to deal with this with meta-learning techniques, but always being able to keep adding new inputs.\n",
    "\n",
    "So I want a few encoders to try:\n",
    "\n",
    "- chunked one-hot + hamming error correction of the first element\n",
    "- binary like encoding only (will be done per byte to avoid making a table that is too big)\n",
    "- binary like encoding with ECCs\n",
    "- binary like encoding but added one-hot by each 4 bits (total 16 * 8 -> 128 bits)\n",
    "- binary like encoding but added one-hot by each (4|12) bits plus ECC (total (16 * 8) + overload), hamming=224, golay=256\n",
    "\n",
    "\n"
   ]
  },
  {
   "cell_type": "code",
   "execution_count": null,
   "metadata": {},
   "outputs": [],
   "source": [
    "128  + 32*3"
   ]
  }
 ],
 "metadata": {
  "kernelspec": {
   "display_name": "Python 3",
   "language": "python",
   "name": "python3"
  },
  "language_info": {
   "codemirror_mode": {
    "name": "ipython",
    "version": 3
   },
   "file_extension": ".py",
   "mimetype": "text/x-python",
   "name": "python",
   "nbconvert_exporter": "python",
   "pygments_lexer": "ipython3",
   "version": "3.5.2"
  }
 },
 "nbformat": 4,
 "nbformat_minor": 2
}
